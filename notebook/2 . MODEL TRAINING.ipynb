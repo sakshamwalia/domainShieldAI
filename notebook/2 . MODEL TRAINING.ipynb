{
 "cells": [
  {
   "cell_type": "markdown",
   "metadata": {},
   "source": [
    "# Importing all Libraries\n"
   ]
  },
  {
   "cell_type": "code",
   "execution_count": 109,
   "metadata": {},
   "outputs": [],
   "source": [
    "import numpy as np\n",
    "import pandas as pd\n",
    "import matplotlib.pyplot as plt\n",
    "import seaborn as sns\n",
    "%matplotlib inline\n",
    "import warnings\n",
    "warnings.filterwarnings('ignore')\n",
    "import optuna\n",
    "from optuna.visualization.matplotlib import plot_param_importances\n",
    "from sklearn.linear_model import LogisticRegression\n",
    "from sklearn.ensemble import RandomForestClassifier\n",
    "from sklearn.svm import SVC\n",
    "from sklearn.naive_bayes import GaussianNB\n",
    "from sklearn.tree import DecisionTreeClassifier\n",
    "from xgboost import XGBClassifier\n",
    "from sklearn.model_selection import cross_val_score\n",
    "from sklearn.metrics import confusion_matrix, classification_report, accuracy_score, roc_auc_score"
   ]
  },
  {
   "cell_type": "markdown",
   "metadata": {},
   "source": [
    "# Gathering Data"
   ]
  },
  {
   "cell_type": "code",
   "execution_count": 6,
   "metadata": {},
   "outputs": [],
   "source": [
    "df_train = pd.read_csv('data/train.csv')\n",
    "df_test = pd.read_csv('data/test.csv')\n",
    "X_train = df_train.drop(columns='phishing', axis=1)\n",
    "X_test = df_test.drop(columns='phishing', axis=1)\n",
    "y_train = df_train[['phishing']]\n",
    "y_test = df_test[['phishing']]"
   ]
  },
  {
   "cell_type": "markdown",
   "metadata": {},
   "source": [
    "# Logistic Regression Algorithm\n"
   ]
  },
  {
   "cell_type": "code",
   "execution_count": 43,
   "metadata": {},
   "outputs": [
    {
     "name": "stderr",
     "output_type": "stream",
     "text": [
      "[I 2024-01-18 18:06:04,464] A new study created in memory with name: no-name-d35cb2a5-c229-433a-a809-f57b2e506d4d\n",
      "[I 2024-01-18 18:06:04,766] Trial 0 finished with value: 0.9249782053611574 and parameters: {'penalty': 'l2', 'solver': 'lbfgs', 'C': 6.852849863251801}. Best is trial 0 with value: 0.9249782053611574.\n",
      "[I 2024-01-18 18:06:05,045] Trial 1 finished with value: 0.9249653263976564 and parameters: {'penalty': 'l2', 'solver': 'lbfgs', 'C': 3.933689964536487}. Best is trial 0 with value: 0.9249782053611574.\n",
      "[I 2024-01-18 18:06:05,339] Trial 2 finished with value: 0.9249782053611574 and parameters: {'penalty': 'l2', 'solver': 'lbfgs', 'C': 0.5696446008521246}. Best is trial 0 with value: 0.9249782053611574.\n",
      "[I 2024-01-18 18:06:05,685] Trial 3 finished with value: 0.9249782053611574 and parameters: {'penalty': 'l2', 'solver': 'lbfgs', 'C': 7.556052520778856}. Best is trial 0 with value: 0.9249782053611574.\n",
      "[I 2024-01-18 18:06:06,069] Trial 4 finished with value: 0.9249782053611574 and parameters: {'penalty': 'l2', 'solver': 'lbfgs', 'C': 5.936938979710877}. Best is trial 0 with value: 0.9249782053611574.\n",
      "[I 2024-01-18 18:06:06,474] Trial 5 finished with value: 0.9249653263976564 and parameters: {'penalty': 'l2', 'solver': 'lbfgs', 'C': 4.2850712453774396}. Best is trial 0 with value: 0.9249782053611574.\n",
      "[I 2024-01-18 18:06:06,852] Trial 6 finished with value: 0.9249782053611574 and parameters: {'penalty': 'l2', 'solver': 'lbfgs', 'C': 9.283997630534152}. Best is trial 0 with value: 0.9249782053611574.\n",
      "[I 2024-01-18 18:06:07,199] Trial 7 finished with value: 0.9249266880142865 and parameters: {'penalty': 'l2', 'solver': 'lbfgs', 'C': 0.30170228287107936}. Best is trial 0 with value: 0.9249782053611574.\n",
      "[I 2024-01-18 18:06:07,576] Trial 8 finished with value: 0.9249653263976564 and parameters: {'penalty': 'l2', 'solver': 'lbfgs', 'C': 3.3712710641012227}. Best is trial 0 with value: 0.9249782053611574.\n",
      "[I 2024-01-18 18:06:07,989] Trial 9 finished with value: 0.9249782053611574 and parameters: {'penalty': 'l2', 'solver': 'lbfgs', 'C': 6.978446078094297}. Best is trial 0 with value: 0.9249782053611574.\n"
     ]
    }
   ],
   "source": [
    "# step 1 : Define an objective function to be maximized:\n",
    "def objective(trial):\n",
    "    classifier_name = 'LogReg'\n",
    "     \n",
    "    # step 2 : Setup values for the hyperparameters:\n",
    "    if classifier_name == 'LogReg':\n",
    "        penalty = trial.suggest_categorical('penalty', ['l2'])\n",
    "        \n",
    "        # if penalty == 'l1':\n",
    "        #     solver = 'saga'\n",
    "        # else:\n",
    "        solver = trial.suggest_categorical('solver', ['lbfgs'])\n",
    "        \n",
    "        C = trial.suggest_uniform('C', 0.01, 10)\n",
    "        classifier_obj = LogisticRegression(penalty=penalty, C=C, solver=solver)\n",
    "        # classifier_obj = LogisticRegression(penalty=penalty, C=C)\n",
    "    \n",
    "    # step 3 : Scoring method :\n",
    "    score = cross_val_score(estimator=classifier_obj, X=X_train, y=y_train, cv=3)\n",
    "    accuracy = score.mean()\n",
    "    return accuracy\n",
    "\n",
    "# step 4 : Running it :\n",
    "study = optuna.create_study(direction='maximize')\n",
    "study.optimize(objective, n_trials=10)"
   ]
  },
  {
   "cell_type": "markdown",
   "metadata": {},
   "source": [
    "# Important hyperparameters\n"
   ]
  },
  {
   "cell_type": "code",
   "execution_count": 44,
   "metadata": {},
   "outputs": [
    {
     "data": {
      "text/plain": [
       "<Axes: title={'left': 'Hyperparameter Importances'}, xlabel='Hyperparameter Importance', ylabel='Hyperparameter'>"
      ]
     },
     "execution_count": 44,
     "metadata": {},
     "output_type": "execute_result"
    },
    {
     "data": {
      "image/png": "[encoded data removed]",
      "text/plain": [
       "<Figure size 640x480 with 1 Axes>"
      ]
     },
     "metadata": {},
     "output_type": "display_data"
    }
   ],
   "source": [
    "plot_param_importances(study)"
   ]
  },
  {
   "cell_type": "markdown",
   "metadata": {},
   "source": [
    "# Getting best parameter\n"
   ]
  },
  {
   "cell_type": "code",
   "execution_count": 45,
   "metadata": {},
   "outputs": [
    {
     "data": {
      "text/plain": [
       "{'penalty': 'l2', 'solver': 'lbfgs', 'C': 6.852849863251801}"
      ]
     },
     "execution_count": 45,
     "metadata": {},
     "output_type": "execute_result"
    }
   ],
   "source": [
    "trial = study.best_trial\n",
    "trial.params"
   ]
  },
  {
   "cell_type": "markdown",
   "metadata": {},
   "source": [
    "# Training model with best parameters\n"
   ]
  },
  {
   "cell_type": "code",
   "execution_count": 46,
   "metadata": {},
   "outputs": [
    {
     "data": {
      "text/html": [
       "<style>#sk-container-id-1 {color: black;}#sk-container-id-1 pre{padding: 0;}#sk-container-id-1 div.sk-toggleable {background-color: white;}#sk-container-id-1 label.sk-toggleable__label {cursor: pointer;display: block;width: 100%;margin-bottom: 0;padding: 0.3em;box-sizing: border-box;text-align: center;}#sk-container-id-1 label.sk-toggleable__label-arrow:before {content: \"▸\";float: left;margin-right: 0.25em;color: #696969;}#sk-container-id-1 label.sk-toggleable__label-arrow:hover:before {color: black;}#sk-container-id-1 div.sk-estimator:hover label.sk-toggleable__label-arrow:before {color: black;}#sk-container-id-1 div.sk-toggleable__content {max-height: 0;max-width: 0;overflow: hidden;text-align: left;background-color: #f0f8ff;}#sk-container-id-1 div.sk-toggleable__content pre {margin: 0.2em;color: black;border-radius: 0.25em;background-color: #f0f8ff;}#sk-container-id-1 input.sk-toggleable__control:checked~div.sk-toggleable__content {max-height: 200px;max-width: 100%;overflow: auto;}#sk-container-id-1 input.sk-toggleable__control:checked~label.sk-toggleable__label-arrow:before {content: \"▾\";}#sk-container-id-1 div.sk-estimator input.sk-toggleable__control:checked~label.sk-toggleable__label {background-color: #d4ebff;}#sk-container-id-1 div.sk-label input.sk-toggleable__control:checked~label.sk-toggleable__label {background-color: #d4ebff;}#sk-container-id-1 input.sk-hidden--visually {border: 0;clip: rect(1px 1px 1px 1px);clip: rect(1px, 1px, 1px, 1px);height: 1px;margin: -1px;overflow: hidden;padding: 0;position: absolute;width: 1px;}#sk-container-id-1 div.sk-estimator {font-family: monospace;background-color: #f0f8ff;border: 1px dotted black;border-radius: 0.25em;box-sizing: border-box;margin-bottom: 0.5em;}#sk-container-id-1 div.sk-estimator:hover {background-color: #d4ebff;}#sk-container-id-1 div.sk-parallel-item::after {content: \"\";width: 100%;border-bottom: 1px solid gray;flex-grow: 1;}#sk-container-id-1 div.sk-label:hover label.sk-toggleable__label {background-color: #d4ebff;}#sk-container-id-1 div.sk-serial::before {content: \"\";position: absolute;border-left: 1px solid gray;box-sizing: border-box;top: 0;bottom: 0;left: 50%;z-index: 0;}#sk-container-id-1 div.sk-serial {display: flex;flex-direction: column;align-items: center;background-color: white;padding-right: 0.2em;padding-left: 0.2em;position: relative;}#sk-container-id-1 div.sk-item {position: relative;z-index: 1;}#sk-container-id-1 div.sk-parallel {display: flex;align-items: stretch;justify-content: center;background-color: white;position: relative;}#sk-container-id-1 div.sk-item::before, #sk-container-id-1 div.sk-parallel-item::before {content: \"\";position: absolute;border-left: 1px solid gray;box-sizing: border-box;top: 0;bottom: 0;left: 50%;z-index: -1;}#sk-container-id-1 div.sk-parallel-item {display: flex;flex-direction: column;z-index: 1;position: relative;background-color: white;}#sk-container-id-1 div.sk-parallel-item:first-child::after {align-self: flex-end;width: 50%;}#sk-container-id-1 div.sk-parallel-item:last-child::after {align-self: flex-start;width: 50%;}#sk-container-id-1 div.sk-parallel-item:only-child::after {width: 0;}#sk-container-id-1 div.sk-dashed-wrapped {border: 1px dashed gray;margin: 0 0.4em 0.5em 0.4em;box-sizing: border-box;padding-bottom: 0.4em;background-color: white;}#sk-container-id-1 div.sk-label label {font-family: monospace;font-weight: bold;display: inline-block;line-height: 1.2em;}#sk-container-id-1 div.sk-label-container {text-align: center;}#sk-container-id-1 div.sk-container {/* jupyter's `normalize.less` sets `[hidden] { display: none; }` but bootstrap.min.css set `[hidden] { display: none !important; }` so we also need the `!important` here to be able to override the default hidden behavior on the sphinx rendered scikit-learn.org. See: https://github.com/scikit-learn/scikit-learn/issues/21755 */display: inline-block !important;position: relative;}#sk-container-id-1 div.sk-text-repr-fallback {display: none;}</style><div id=\"sk-container-id-1\" class=\"sk-top-container\"><div class=\"sk-text-repr-fallback\"><pre>LogisticRegression(C=6.852849863251801)</pre><b>In a Jupyter environment, please rerun this cell to show the HTML representation or trust the notebook. <br />On GitHub, the HTML representation is unable to render, please try loading this page with nbviewer.org.</b></div><div class=\"sk-container\" hidden><div class=\"sk-item\"><div class=\"sk-estimator sk-toggleable\"><input class=\"sk-toggleable__control sk-hidden--visually\" id=\"sk-estimator-id-1\" type=\"checkbox\" checked><label for=\"sk-estimator-id-1\" class=\"sk-toggleable__label sk-toggleable__label-arrow\">LogisticRegression</label><div class=\"sk-toggleable__content\"><pre>LogisticRegression(C=6.852849863251801)</pre></div></div></div></div></div>"
      ],
      "text/plain": [
       "LogisticRegression(C=6.852849863251801)"
      ]
     },
     "execution_count": 46,
     "metadata": {},
     "output_type": "execute_result"
    }
   ],
   "source": [
    "logReg = LogisticRegression(penalty=trial.params['penalty'], C=trial.params['C'])\n",
    "logReg.fit(X_train, y_train)"
   ]
  },
  {
   "cell_type": "markdown",
   "metadata": {},
   "source": [
    "# Performance matrix\n"
   ]
  },
  {
   "cell_type": "code",
   "execution_count": 54,
   "metadata": {},
   "outputs": [
    {
     "name": "stdout",
     "output_type": "stream",
     "text": [
      "Confusion matrix is as follows : \n",
      "\n",
      " [[17333  1845]\n",
      " [ 1022 18156]]\n",
      "\n",
      "Accuracy score is : 0.925252893940974\n",
      "\n",
      "Classification report is as follows :\n",
      "\n",
      "               precision    recall  f1-score   support\n",
      "\n",
      "         0.0       0.94      0.90      0.92     19178\n",
      "         1.0       0.91      0.95      0.93     19178\n",
      "\n",
      "    accuracy                           0.93     38356\n",
      "   macro avg       0.93      0.93      0.93     38356\n",
      "weighted avg       0.93      0.93      0.93     38356\n",
      "\n"
     ]
    }
   ],
   "source": [
    "y_pred = logReg.predict(X_test)\n",
    "print(\"Confusion matrix is as follows : \\n\\n\", confusion_matrix(y_test, y_pred))\n",
    "print(\"\\nAccuracy score is :\",accuracy_score(y_test, y_pred))\n",
    "print(\"\\nClassification report is as follows :\\n\\n\", classification_report(y_test, y_pred))"
   ]
  },
  {
   "cell_type": "markdown",
   "metadata": {},
   "source": [
    "# Random forest Algorithm"
   ]
  },
  {
   "cell_type": "code",
   "execution_count": 60,
   "metadata": {},
   "outputs": [
    {
     "name": "stderr",
     "output_type": "stream",
     "text": [
      "[I 2024-01-18 20:09:57,925] A new study created in memory with name: no-name-5529f8af-3510-4d46-958d-9dff9b8dd08e\n",
      "[I 2024-01-18 20:11:22,552] Trial 0 finished with value: 0.9580264935581102 and parameters: {'n_estimators': 530, 'max_depth': 97, 'criterion': 'gini', 'min_samples_split': 15, 'min_samples_leaf': 17}. Best is trial 0 with value: 0.9580264935581102.\n",
      "[I 2024-01-18 20:12:37,121] Trial 1 finished with value: 0.9579363363350021 and parameters: {'n_estimators': 480, 'max_depth': 25, 'criterion': 'gini', 'min_samples_split': 2, 'min_samples_leaf': 17}. Best is trial 0 with value: 0.9580264935581102.\n",
      "[I 2024-01-18 20:16:01,567] Trial 2 finished with value: 0.9587219764968138 and parameters: {'n_estimators': 1240, 'max_depth': 35, 'criterion': 'entropy', 'min_samples_split': 18, 'min_samples_leaf': 15}. Best is trial 2 with value: 0.9587219764968138.\n",
      "[I 2024-01-18 20:17:17,468] Trial 3 finished with value: 0.9602674849600096 and parameters: {'n_estimators': 460, 'max_depth': 13, 'criterion': 'gini', 'min_samples_split': 4, 'min_samples_leaf': 7}. Best is trial 3 with value: 0.9602674849600096.\n",
      "[I 2024-01-18 20:18:53,795] Trial 4 finished with value: 0.9572794927749134 and parameters: {'n_estimators': 580, 'max_depth': 50, 'criterion': 'gini', 'min_samples_split': 8, 'min_samples_leaf': 19}. Best is trial 3 with value: 0.9602674849600096.\n",
      "[I 2024-01-18 20:23:23,465] Trial 5 finished with value: 0.9638479353425136 and parameters: {'n_estimators': 1420, 'max_depth': 60, 'criterion': 'entropy', 'min_samples_split': 18, 'min_samples_leaf': 5}. Best is trial 5 with value: 0.9638479353425136.\n",
      "[I 2024-01-18 20:27:46,539] Trial 6 finished with value: 0.9583355986345813 and parameters: {'n_estimators': 1400, 'max_depth': 26, 'criterion': 'entropy', 'min_samples_split': 10, 'min_samples_leaf': 16}. Best is trial 5 with value: 0.9638479353425136.\n",
      "[I 2024-01-18 20:33:13,789] Trial 7 finished with value: 0.9579363348421351 and parameters: {'n_estimators': 1770, 'max_depth': 53, 'criterion': 'gini', 'min_samples_split': 5, 'min_samples_leaf': 17}. Best is trial 5 with value: 0.9638479353425136.\n",
      "[I 2024-01-18 20:35:39,939] Trial 8 finished with value: 0.961181914259209 and parameters: {'n_estimators': 750, 'max_depth': 13, 'criterion': 'entropy', 'min_samples_split': 15, 'min_samples_leaf': 5}. Best is trial 5 with value: 0.9638479353425136.\n",
      "[I 2024-01-18 20:38:44,492] Trial 9 finished with value: 0.9576916330427488 and parameters: {'n_estimators': 890, 'max_depth': 36, 'criterion': 'entropy', 'min_samples_split': 8, 'min_samples_leaf': 18}. Best is trial 5 with value: 0.9638479353425136.\n"
     ]
    }
   ],
   "source": [
    "# step 1 : Define an objective function to be maximized :\n",
    "def objective(trial):\n",
    "    classifier_name = 'RandomForest'\n",
    "    \n",
    "    # step 2 : Setup values for the hyperparameters :\n",
    "    if classifier_name == 'RandomForest':\n",
    "        n_estimators = trial.suggest_int('n_estimators', 200, 2000, 10)\n",
    "        max_depth = trial.suggest_int('max_depth', 10, 100, log=True)\n",
    "        criterion = trial.suggest_categorical('criterion', ['entropy', 'gini'])\n",
    "        min_samples_split = trial.suggest_int('min_samples_split', 2, 20)\n",
    "        min_samples_leaf = trial.suggest_int('min_samples_leaf', 2, 20)\n",
    "        \n",
    "        classifier_obj = RandomForestClassifier(n_estimators=n_estimators, criterion=criterion, max_depth=max_depth, min_samples_split=min_samples_split, min_samples_leaf=min_samples_leaf)\n",
    "        \n",
    "    # step 3 : Scoring method :\n",
    "    score = cross_val_score(estimator=classifier_obj, X=X_train, y=y_train, cv=3)\n",
    "    accuracy = score.mean()\n",
    "    return accuracy\n",
    "\n",
    "# step 4 : Running it\n",
    "study = optuna.create_study(direction='maximize')\n",
    "study.optimize(objective, n_trials=10)"
   ]
  },
  {
   "cell_type": "markdown",
   "metadata": {},
   "source": [
    "# Important hyperparameters\n"
   ]
  },
  {
   "cell_type": "code",
   "execution_count": 62,
   "metadata": {},
   "outputs": [
    {
     "data": {
      "text/plain": [
       "<Axes: title={'left': 'Hyperparameter Importances'}, xlabel='Hyperparameter Importance', ylabel='Hyperparameter'>"
      ]
     },
     "execution_count": 62,
     "metadata": {},
     "output_type": "execute_result"
    },
    {
     "data": {
      "image/png": "[encoded data removed]",
      "text/plain": [
       "<Figure size 640x480 with 1 Axes>"
      ]
     },
     "metadata": {},
     "output_type": "display_data"
    }
   ],
   "source": [
    "plot_param_importances(study)"
   ]
  },
  {
   "cell_type": "markdown",
   "metadata": {},
   "source": [
    "# Getting best parameter\n"
   ]
  },
  {
   "cell_type": "code",
   "execution_count": 65,
   "metadata": {},
   "outputs": [
    {
     "data": {
      "text/plain": [
       "{'n_estimators': 1420,\n",
       " 'max_depth': 60,\n",
       " 'criterion': 'entropy',\n",
       " 'min_samples_split': 18,\n",
       " 'min_samples_leaf': 5}"
      ]
     },
     "execution_count": 65,
     "metadata": {},
     "output_type": "execute_result"
    }
   ],
   "source": [
    "trial = study.best_trial\n",
    "trial.params"
   ]
  },
  {
   "cell_type": "markdown",
   "metadata": {},
   "source": [
    "# Training model with best parameters\n"
   ]
  },
  {
   "cell_type": "code",
   "execution_count": 67,
   "metadata": {},
   "outputs": [
    {
     "data": {
      "text/html": [
       "<style>#sk-container-id-2 {color: black;}#sk-container-id-2 pre{padding: 0;}#sk-container-id-2 div.sk-toggleable {background-color: white;}#sk-container-id-2 label.sk-toggleable__label {cursor: pointer;display: block;width: 100%;margin-bottom: 0;padding: 0.3em;box-sizing: border-box;text-align: center;}#sk-container-id-2 label.sk-toggleable__label-arrow:before {content: \"▸\";float: left;margin-right: 0.25em;color: #696969;}#sk-container-id-2 label.sk-toggleable__label-arrow:hover:before {color: black;}#sk-container-id-2 div.sk-estimator:hover label.sk-toggleable__label-arrow:before {color: black;}#sk-container-id-2 div.sk-toggleable__content {max-height: 0;max-width: 0;overflow: hidden;text-align: left;background-color: #f0f8ff;}#sk-container-id-2 div.sk-toggleable__content pre {margin: 0.2em;color: black;border-radius: 0.25em;background-color: #f0f8ff;}#sk-container-id-2 input.sk-toggleable__control:checked~div.sk-toggleable__content {max-height: 200px;max-width: 100%;overflow: auto;}#sk-container-id-2 input.sk-toggleable__control:checked~label.sk-toggleable__label-arrow:before {content: \"▾\";}#sk-container-id-2 div.sk-estimator input.sk-toggleable__control:checked~label.sk-toggleable__label {background-color: #d4ebff;}#sk-container-id-2 div.sk-label input.sk-toggleable__control:checked~label.sk-toggleable__label {background-color: #d4ebff;}#sk-container-id-2 input.sk-hidden--visually {border: 0;clip: rect(1px 1px 1px 1px);clip: rect(1px, 1px, 1px, 1px);height: 1px;margin: -1px;overflow: hidden;padding: 0;position: absolute;width: 1px;}#sk-container-id-2 div.sk-estimator {font-family: monospace;background-color: #f0f8ff;border: 1px dotted black;border-radius: 0.25em;box-sizing: border-box;margin-bottom: 0.5em;}#sk-container-id-2 div.sk-estimator:hover {background-color: #d4ebff;}#sk-container-id-2 div.sk-parallel-item::after {content: \"\";width: 100%;border-bottom: 1px solid gray;flex-grow: 1;}#sk-container-id-2 div.sk-label:hover label.sk-toggleable__label {background-color: #d4ebff;}#sk-container-id-2 div.sk-serial::before {content: \"\";position: absolute;border-left: 1px solid gray;box-sizing: border-box;top: 0;bottom: 0;left: 50%;z-index: 0;}#sk-container-id-2 div.sk-serial {display: flex;flex-direction: column;align-items: center;background-color: white;padding-right: 0.2em;padding-left: 0.2em;position: relative;}#sk-container-id-2 div.sk-item {position: relative;z-index: 1;}#sk-container-id-2 div.sk-parallel {display: flex;align-items: stretch;justify-content: center;background-color: white;position: relative;}#sk-container-id-2 div.sk-item::before, #sk-container-id-2 div.sk-parallel-item::before {content: \"\";position: absolute;border-left: 1px solid gray;box-sizing: border-box;top: 0;bottom: 0;left: 50%;z-index: -1;}#sk-container-id-2 div.sk-parallel-item {display: flex;flex-direction: column;z-index: 1;position: relative;background-color: white;}#sk-container-id-2 div.sk-parallel-item:first-child::after {align-self: flex-end;width: 50%;}#sk-container-id-2 div.sk-parallel-item:last-child::after {align-self: flex-start;width: 50%;}#sk-container-id-2 div.sk-parallel-item:only-child::after {width: 0;}#sk-container-id-2 div.sk-dashed-wrapped {border: 1px dashed gray;margin: 0 0.4em 0.5em 0.4em;box-sizing: border-box;padding-bottom: 0.4em;background-color: white;}#sk-container-id-2 div.sk-label label {font-family: monospace;font-weight: bold;display: inline-block;line-height: 1.2em;}#sk-container-id-2 div.sk-label-container {text-align: center;}#sk-container-id-2 div.sk-container {/* jupyter's `normalize.less` sets `[hidden] { display: none; }` but bootstrap.min.css set `[hidden] { display: none !important; }` so we also need the `!important` here to be able to override the default hidden behavior on the sphinx rendered scikit-learn.org. See: https://github.com/scikit-learn/scikit-learn/issues/21755 */display: inline-block !important;position: relative;}#sk-container-id-2 div.sk-text-repr-fallback {display: none;}</style><div id=\"sk-container-id-2\" class=\"sk-top-container\"><div class=\"sk-text-repr-fallback\"><pre>RandomForestClassifier(criterion=&#x27;entropy&#x27;, max_depth=60, min_samples_leaf=5,\n",
       "                       min_samples_split=18, n_estimators=1420)</pre><b>In a Jupyter environment, please rerun this cell to show the HTML representation or trust the notebook. <br />On GitHub, the HTML representation is unable to render, please try loading this page with nbviewer.org.</b></div><div class=\"sk-container\" hidden><div class=\"sk-item\"><div class=\"sk-estimator sk-toggleable\"><input class=\"sk-toggleable__control sk-hidden--visually\" id=\"sk-estimator-id-2\" type=\"checkbox\" checked><label for=\"sk-estimator-id-2\" class=\"sk-toggleable__label sk-toggleable__label-arrow\">RandomForestClassifier</label><div class=\"sk-toggleable__content\"><pre>RandomForestClassifier(criterion=&#x27;entropy&#x27;, max_depth=60, min_samples_leaf=5,\n",
       "                       min_samples_split=18, n_estimators=1420)</pre></div></div></div></div></div>"
      ],
      "text/plain": [
       "RandomForestClassifier(criterion='entropy', max_depth=60, min_samples_leaf=5,\n",
       "                       min_samples_split=18, n_estimators=1420)"
      ]
     },
     "execution_count": 67,
     "metadata": {},
     "output_type": "execute_result"
    }
   ],
   "source": [
    "randomForest = RandomForestClassifier(n_estimators=trial.params['n_estimators'], criterion=trial.params['criterion'], max_depth=trial.params['max_depth'], min_samples_split=trial.params['min_samples_split'], min_samples_leaf=trial.params['min_samples_leaf'])\n",
    "randomForest.fit(X_train, y_train)"
   ]
  },
  {
   "cell_type": "markdown",
   "metadata": {},
   "source": [
    "# Performance matrix\n"
   ]
  },
  {
   "cell_type": "code",
   "execution_count": 68,
   "metadata": {},
   "outputs": [
    {
     "name": "stdout",
     "output_type": "stream",
     "text": [
      "Confusion matrix is as follows : \n",
      "\n",
      " [[17991  1187]\n",
      " [  537 18641]]\n",
      "\n",
      "Accuracy score is : 0.9550526645114193\n",
      "\n",
      "Classification report is as follows :\n",
      "\n",
      "               precision    recall  f1-score   support\n",
      "\n",
      "         0.0       0.97      0.94      0.95     19178\n",
      "         1.0       0.94      0.97      0.96     19178\n",
      "\n",
      "    accuracy                           0.96     38356\n",
      "   macro avg       0.96      0.96      0.96     38356\n",
      "weighted avg       0.96      0.96      0.96     38356\n",
      "\n"
     ]
    }
   ],
   "source": [
    "y_pred = randomForest.predict(X_test)\n",
    "print(\"Confusion matrix is as follows : \\n\\n\", confusion_matrix(y_test, y_pred))\n",
    "print(\"\\nAccuracy score is :\",accuracy_score(y_test, y_pred))\n",
    "print(\"\\nClassification report is as follows :\\n\\n\", classification_report(y_test, y_pred))"
   ]
  },
  {
   "cell_type": "markdown",
   "metadata": {},
   "source": [
    "# SVC Algorithm"
   ]
  },
  {
   "cell_type": "code",
   "execution_count": 73,
   "metadata": {},
   "outputs": [
    {
     "name": "stderr",
     "output_type": "stream",
     "text": [
      "[I 2024-01-18 23:05:10,615] A new study created in memory with name: no-name-64ca40f3-f7cf-485f-ad38-fa77eaa88efe\n",
      "[I 2024-01-18 23:06:17,884] Trial 0 finished with value: 0.8783294102431056 and parameters: {'kernel': 'sigmoid', 'C': 9.682121918820735, 'degree': 2.0}. Best is trial 0 with value: 0.8783294102431056.\n",
      "[I 2024-01-18 23:07:30,491] Trial 1 finished with value: 0.941025821341006 and parameters: {'kernel': 'poly', 'C': 8.330633590212898, 'degree': 3.0}. Best is trial 1 with value: 0.941025821341006.\n",
      "[I 2024-01-18 23:10:27,890] Trial 2 finished with value: 0.9267426671515618 and parameters: {'kernel': 'linear', 'C': 9.521134528044882, 'degree': 5.0}. Best is trial 1 with value: 0.941025821341006.\n",
      "[I 2024-01-18 23:11:46,330] Trial 3 finished with value: 0.9499511958393542 and parameters: {'kernel': 'rbf', 'C': 7.7922412862319135, 'degree': 2.0}. Best is trial 3 with value: 0.9499511958393542.\n",
      "[I 2024-01-18 23:12:52,476] Trial 4 finished with value: 0.8822575179967878 and parameters: {'kernel': 'sigmoid', 'C': 0.76617953209823, 'degree': 3.0}. Best is trial 3 with value: 0.9499511958393542.\n",
      "[I 2024-01-18 23:14:44,396] Trial 5 finished with value: 0.9267684255761862 and parameters: {'kernel': 'linear', 'C': 4.119556298706552, 'degree': 1.0}. Best is trial 3 with value: 0.9499511958393542.\n",
      "[I 2024-01-18 23:15:57,093] Trial 6 finished with value: 0.943511540916275 and parameters: {'kernel': 'poly', 'C': 5.92763705709589, 'degree': 5.0}. Best is trial 3 with value: 0.9499511958393542.\n",
      "[I 2024-01-18 23:17:00,100] Trial 7 finished with value: 0.9267813045396872 and parameters: {'kernel': 'linear', 'C': 0.6153804968417134, 'degree': 5.0}. Best is trial 3 with value: 0.9499511958393542.\n",
      "[I 2024-01-18 23:18:37,791] Trial 8 finished with value: 0.9438721598562608 and parameters: {'kernel': 'poly', 'C': 9.105741018194406, 'degree': 4.0}. Best is trial 3 with value: 0.9499511958393542.\n",
      "[I 2024-01-18 23:19:44,772] Trial 9 finished with value: 0.8783809290828436 and parameters: {'kernel': 'sigmoid', 'C': 7.57764845554081, 'degree': 1.0}. Best is trial 3 with value: 0.9499511958393542.\n"
     ]
    }
   ],
   "source": [
    "# step 1 : define an objective function to be maximized\n",
    "def objective(trial):\n",
    "    classifier_name = 'svc'\n",
    "    \n",
    "    # step 2 : setup values for the hyperparameters\n",
    "    if classifier_name == 'svc':\n",
    "        kernel = trial.suggest_categorical('kernel', ['linear', 'poly', 'rbf', 'sigmoid'])\n",
    "        C = trial.suggest_uniform('C', 0.01, 10)\n",
    "        degree = int(trial.suggest_discrete_uniform('degree', 1, 5, 1))\n",
    "        \n",
    "        classifier_obj = SVC(kernel=kernel, C=C, degree=degree)\n",
    "        \n",
    "    # step 3 : Scoring method \n",
    "    score = cross_val_score(estimator=classifier_obj, X=X_train, y=y_train, cv=3)\n",
    "    accuracy = score.mean()\n",
    "    return accuracy\n",
    "\n",
    "# step 4 : Running it\n",
    "study = optuna.create_study(direction='maximize')\n",
    "study.optimize(objective, n_trials=10)"
   ]
  },
  {
   "cell_type": "markdown",
   "metadata": {},
   "source": [
    "# Important hyperparameters"
   ]
  },
  {
   "cell_type": "code",
   "execution_count": 76,
   "metadata": {},
   "outputs": [
    {
     "data": {
      "text/plain": [
       "<Axes: title={'left': 'Hyperparameter Importances'}, xlabel='Hyperparameter Importance', ylabel='Hyperparameter'>"
      ]
     },
     "execution_count": 76,
     "metadata": {},
     "output_type": "execute_result"
    },
    {
     "data": {
      "image/png": "[encoded data removed]",
      "text/plain": [
       "<Figure size 640x480 with 1 Axes>"
      ]
     },
     "metadata": {},
     "output_type": "display_data"
    }
   ],
   "source": [
    "plot_param_importances(study)"
   ]
  },
  {
   "cell_type": "markdown",
   "metadata": {},
   "source": [
    "# Getting best parameter"
   ]
  },
  {
   "cell_type": "code",
   "execution_count": 77,
   "metadata": {},
   "outputs": [
    {
     "data": {
      "text/plain": [
       "{'kernel': 'rbf', 'C': 7.7922412862319135, 'degree': 2.0}"
      ]
     },
     "execution_count": 77,
     "metadata": {},
     "output_type": "execute_result"
    }
   ],
   "source": [
    "trial = study.best_trial\n",
    "trial.params"
   ]
  },
  {
   "cell_type": "markdown",
   "metadata": {},
   "source": [
    "# Training model with best parameters\n"
   ]
  },
  {
   "cell_type": "code",
   "execution_count": 80,
   "metadata": {},
   "outputs": [
    {
     "data": {
      "text/html": [
       "<style>#sk-container-id-3 {color: black;}#sk-container-id-3 pre{padding: 0;}#sk-container-id-3 div.sk-toggleable {background-color: white;}#sk-container-id-3 label.sk-toggleable__label {cursor: pointer;display: block;width: 100%;margin-bottom: 0;padding: 0.3em;box-sizing: border-box;text-align: center;}#sk-container-id-3 label.sk-toggleable__label-arrow:before {content: \"▸\";float: left;margin-right: 0.25em;color: #696969;}#sk-container-id-3 label.sk-toggleable__label-arrow:hover:before {color: black;}#sk-container-id-3 div.sk-estimator:hover label.sk-toggleable__label-arrow:before {color: black;}#sk-container-id-3 div.sk-toggleable__content {max-height: 0;max-width: 0;overflow: hidden;text-align: left;background-color: #f0f8ff;}#sk-container-id-3 div.sk-toggleable__content pre {margin: 0.2em;color: black;border-radius: 0.25em;background-color: #f0f8ff;}#sk-container-id-3 input.sk-toggleable__control:checked~div.sk-toggleable__content {max-height: 200px;max-width: 100%;overflow: auto;}#sk-container-id-3 input.sk-toggleable__control:checked~label.sk-toggleable__label-arrow:before {content: \"▾\";}#sk-container-id-3 div.sk-estimator input.sk-toggleable__control:checked~label.sk-toggleable__label {background-color: #d4ebff;}#sk-container-id-3 div.sk-label input.sk-toggleable__control:checked~label.sk-toggleable__label {background-color: #d4ebff;}#sk-container-id-3 input.sk-hidden--visually {border: 0;clip: rect(1px 1px 1px 1px);clip: rect(1px, 1px, 1px, 1px);height: 1px;margin: -1px;overflow: hidden;padding: 0;position: absolute;width: 1px;}#sk-container-id-3 div.sk-estimator {font-family: monospace;background-color: #f0f8ff;border: 1px dotted black;border-radius: 0.25em;box-sizing: border-box;margin-bottom: 0.5em;}#sk-container-id-3 div.sk-estimator:hover {background-color: #d4ebff;}#sk-container-id-3 div.sk-parallel-item::after {content: \"\";width: 100%;border-bottom: 1px solid gray;flex-grow: 1;}#sk-container-id-3 div.sk-label:hover label.sk-toggleable__label {background-color: #d4ebff;}#sk-container-id-3 div.sk-serial::before {content: \"\";position: absolute;border-left: 1px solid gray;box-sizing: border-box;top: 0;bottom: 0;left: 50%;z-index: 0;}#sk-container-id-3 div.sk-serial {display: flex;flex-direction: column;align-items: center;background-color: white;padding-right: 0.2em;padding-left: 0.2em;position: relative;}#sk-container-id-3 div.sk-item {position: relative;z-index: 1;}#sk-container-id-3 div.sk-parallel {display: flex;align-items: stretch;justify-content: center;background-color: white;position: relative;}#sk-container-id-3 div.sk-item::before, #sk-container-id-3 div.sk-parallel-item::before {content: \"\";position: absolute;border-left: 1px solid gray;box-sizing: border-box;top: 0;bottom: 0;left: 50%;z-index: -1;}#sk-container-id-3 div.sk-parallel-item {display: flex;flex-direction: column;z-index: 1;position: relative;background-color: white;}#sk-container-id-3 div.sk-parallel-item:first-child::after {align-self: flex-end;width: 50%;}#sk-container-id-3 div.sk-parallel-item:last-child::after {align-self: flex-start;width: 50%;}#sk-container-id-3 div.sk-parallel-item:only-child::after {width: 0;}#sk-container-id-3 div.sk-dashed-wrapped {border: 1px dashed gray;margin: 0 0.4em 0.5em 0.4em;box-sizing: border-box;padding-bottom: 0.4em;background-color: white;}#sk-container-id-3 div.sk-label label {font-family: monospace;font-weight: bold;display: inline-block;line-height: 1.2em;}#sk-container-id-3 div.sk-label-container {text-align: center;}#sk-container-id-3 div.sk-container {/* jupyter's `normalize.less` sets `[hidden] { display: none; }` but bootstrap.min.css set `[hidden] { display: none !important; }` so we also need the `!important` here to be able to override the default hidden behavior on the sphinx rendered scikit-learn.org. See: https://github.com/scikit-learn/scikit-learn/issues/21755 */display: inline-block !important;position: relative;}#sk-container-id-3 div.sk-text-repr-fallback {display: none;}</style><div id=\"sk-container-id-3\" class=\"sk-top-container\"><div class=\"sk-text-repr-fallback\"><pre>SVC(C=7.7922412862319135, degree=2)</pre><b>In a Jupyter environment, please rerun this cell to show the HTML representation or trust the notebook. <br />On GitHub, the HTML representation is unable to render, please try loading this page with nbviewer.org.</b></div><div class=\"sk-container\" hidden><div class=\"sk-item\"><div class=\"sk-estimator sk-toggleable\"><input class=\"sk-toggleable__control sk-hidden--visually\" id=\"sk-estimator-id-3\" type=\"checkbox\" checked><label for=\"sk-estimator-id-3\" class=\"sk-toggleable__label sk-toggleable__label-arrow\">SVC</label><div class=\"sk-toggleable__content\"><pre>SVC(C=7.7922412862319135, degree=2)</pre></div></div></div></div></div>"
      ],
      "text/plain": [
       "SVC(C=7.7922412862319135, degree=2)"
      ]
     },
     "execution_count": 80,
     "metadata": {},
     "output_type": "execute_result"
    }
   ],
   "source": [
    "svc = SVC(kernel=trial.params['kernel'], C=trial.params['C'], degree=int(trial.params['degree']))\n",
    "svc.fit(X_train, y_train)"
   ]
  },
  {
   "cell_type": "markdown",
   "metadata": {},
   "source": [
    "# Performance matrix\n"
   ]
  },
  {
   "cell_type": "code",
   "execution_count": 82,
   "metadata": {},
   "outputs": [
    {
     "name": "stdout",
     "output_type": "stream",
     "text": [
      "Confusion matrix is as follows : \n",
      "\n",
      " [[18081  1097]\n",
      " [  812 18366]]\n",
      "\n",
      "Accuracy score is : 0.9502294295546981\n",
      "\n",
      "Classification report is as follows :\n",
      "\n",
      "               precision    recall  f1-score   support\n",
      "\n",
      "         0.0       0.96      0.94      0.95     19178\n",
      "         1.0       0.94      0.96      0.95     19178\n",
      "\n",
      "    accuracy                           0.95     38356\n",
      "   macro avg       0.95      0.95      0.95     38356\n",
      "weighted avg       0.95      0.95      0.95     38356\n",
      "\n"
     ]
    }
   ],
   "source": [
    "y_pred = svc.predict(X_test)\n",
    "print(\"Confusion matrix is as follows : \\n\\n\", confusion_matrix(y_test, y_pred))\n",
    "print(\"\\nAccuracy score is :\",accuracy_score(y_test, y_pred))\n",
    "print(\"\\nClassification report is as follows :\\n\\n\", classification_report(y_test, y_pred))"
   ]
  },
  {
   "cell_type": "markdown",
   "metadata": {},
   "source": [
    "# Naive Bayes\n"
   ]
  },
  {
   "cell_type": "code",
   "execution_count": 85,
   "metadata": {},
   "outputs": [
    {
     "name": "stderr",
     "output_type": "stream",
     "text": [
      "[I 2024-01-18 23:33:36,783] A new study created in memory with name: no-name-62ec3b43-124a-4fbe-b33f-04305b086daa\n",
      "[I 2024-01-18 23:33:36,943] Trial 0 finished with value: 0.9178688313978447 and parameters: {'var_smoothing': 0.00639120698829929}. Best is trial 0 with value: 0.9178688313978447.\n",
      "[I 2024-01-18 23:33:37,055] Trial 1 finished with value: 0.9178044330969833 and parameters: {'var_smoothing': 0.0014781102699746571}. Best is trial 0 with value: 0.9178688313978447.\n",
      "[I 2024-01-18 23:33:37,179] Trial 2 finished with value: 0.918422642752303 and parameters: {'var_smoothing': 0.03897178042823965}. Best is trial 2 with value: 0.918422642752303.\n",
      "[I 2024-01-18 23:33:37,301] Trial 3 finished with value: 0.9177915536358601 and parameters: {'var_smoothing': 0.00017203717979741607}. Best is trial 2 with value: 0.918422642752303.\n",
      "[I 2024-01-18 23:33:37,448] Trial 4 finished with value: 0.9182680807592433 and parameters: {'var_smoothing': 0.07228856677939174}. Best is trial 2 with value: 0.918422642752303.\n",
      "[I 2024-01-18 23:33:37,589] Trial 5 finished with value: 0.9178044340922279 and parameters: {'var_smoothing': 0.00426229426362926}. Best is trial 2 with value: 0.918422642752303.\n",
      "[I 2024-01-18 23:33:37,736] Trial 6 finished with value: 0.9178044340922279 and parameters: {'var_smoothing': 0.004619266708576094}. Best is trial 2 with value: 0.918422642752303.\n",
      "[I 2024-01-18 23:33:37,876] Trial 7 finished with value: 0.9178044335946057 and parameters: {'var_smoothing': 0.002821522486012657}. Best is trial 2 with value: 0.918422642752303.\n",
      "[I 2024-01-18 23:33:38,015] Trial 8 finished with value: 0.9177915536358601 and parameters: {'var_smoothing': 0.00016236849785156786}. Best is trial 2 with value: 0.918422642752303.\n",
      "[I 2024-01-18 23:33:38,144] Trial 9 finished with value: 0.9178044340922279 and parameters: {'var_smoothing': 0.0038132339946559406}. Best is trial 2 with value: 0.918422642752303.\n"
     ]
    }
   ],
   "source": [
    "# step 1 : define an objective function to be maximized\n",
    "def objective(trial):\n",
    "    classifier_name = 'naiveBayes'\n",
    "    \n",
    "    # step 2 : Setup values for the hyperparameters :\n",
    "    if classifier_name == 'naiveBayes':\n",
    "        var_smoothing = trial.suggest_float('var_smoothing', 1e-4, 0.3, log=True)\n",
    "        \n",
    "        classifier_obj = GaussianNB(var_smoothing=var_smoothing)\n",
    "        \n",
    "    # step 3 : Scoring method :\n",
    "    score = cross_val_score(estimator=classifier_obj, X=X_train, y=y_train, cv=3)\n",
    "    accuracy = score.mean()\n",
    "    return accuracy\n",
    "\n",
    "# step 4 : Running it\n",
    "study = optuna.create_study(direction='maximize')\n",
    "study.optimize(objective, n_trials=10)"
   ]
  },
  {
   "cell_type": "markdown",
   "metadata": {},
   "source": [
    "# Important hyperparameters"
   ]
  },
  {
   "cell_type": "code",
   "execution_count": 87,
   "metadata": {},
   "outputs": [
    {
     "data": {
      "text/plain": [
       "<Axes: title={'left': 'Hyperparameter Importances'}, xlabel='Hyperparameter Importance', ylabel='Hyperparameter'>"
      ]
     },
     "execution_count": 87,
     "metadata": {},
     "output_type": "execute_result"
    },
    {
     "data": {
      "image/png": "[encoded data removed]",
      "text/plain": [
       "<Figure size 640x480 with 1 Axes>"
      ]
     },
     "metadata": {},
     "output_type": "display_data"
    }
   ],
   "source": [
    "plot_param_importances(study)"
   ]
  },
  {
   "cell_type": "markdown",
   "metadata": {},
   "source": [
    "# Getting best parameter\n"
   ]
  },
  {
   "cell_type": "code",
   "execution_count": 89,
   "metadata": {},
   "outputs": [
    {
     "data": {
      "text/plain": [
       "{'var_smoothing': 0.03897178042823965}"
      ]
     },
     "execution_count": 89,
     "metadata": {},
     "output_type": "execute_result"
    }
   ],
   "source": [
    "trial = study.best_trial\n",
    "trial.params"
   ]
  },
  {
   "cell_type": "markdown",
   "metadata": {},
   "source": [
    "# Training model with best parameters"
   ]
  },
  {
   "cell_type": "code",
   "execution_count": 91,
   "metadata": {},
   "outputs": [
    {
     "data": {
      "text/html": [
       "<style>#sk-container-id-4 {color: black;}#sk-container-id-4 pre{padding: 0;}#sk-container-id-4 div.sk-toggleable {background-color: white;}#sk-container-id-4 label.sk-toggleable__label {cursor: pointer;display: block;width: 100%;margin-bottom: 0;padding: 0.3em;box-sizing: border-box;text-align: center;}#sk-container-id-4 label.sk-toggleable__label-arrow:before {content: \"▸\";float: left;margin-right: 0.25em;color: #696969;}#sk-container-id-4 label.sk-toggleable__label-arrow:hover:before {color: black;}#sk-container-id-4 div.sk-estimator:hover label.sk-toggleable__label-arrow:before {color: black;}#sk-container-id-4 div.sk-toggleable__content {max-height: 0;max-width: 0;overflow: hidden;text-align: left;background-color: #f0f8ff;}#sk-container-id-4 div.sk-toggleable__content pre {margin: 0.2em;color: black;border-radius: 0.25em;background-color: #f0f8ff;}#sk-container-id-4 input.sk-toggleable__control:checked~div.sk-toggleable__content {max-height: 200px;max-width: 100%;overflow: auto;}#sk-container-id-4 input.sk-toggleable__control:checked~label.sk-toggleable__label-arrow:before {content: \"▾\";}#sk-container-id-4 div.sk-estimator input.sk-toggleable__control:checked~label.sk-toggleable__label {background-color: #d4ebff;}#sk-container-id-4 div.sk-label input.sk-toggleable__control:checked~label.sk-toggleable__label {background-color: #d4ebff;}#sk-container-id-4 input.sk-hidden--visually {border: 0;clip: rect(1px 1px 1px 1px);clip: rect(1px, 1px, 1px, 1px);height: 1px;margin: -1px;overflow: hidden;padding: 0;position: absolute;width: 1px;}#sk-container-id-4 div.sk-estimator {font-family: monospace;background-color: #f0f8ff;border: 1px dotted black;border-radius: 0.25em;box-sizing: border-box;margin-bottom: 0.5em;}#sk-container-id-4 div.sk-estimator:hover {background-color: #d4ebff;}#sk-container-id-4 div.sk-parallel-item::after {content: \"\";width: 100%;border-bottom: 1px solid gray;flex-grow: 1;}#sk-container-id-4 div.sk-label:hover label.sk-toggleable__label {background-color: #d4ebff;}#sk-container-id-4 div.sk-serial::before {content: \"\";position: absolute;border-left: 1px solid gray;box-sizing: border-box;top: 0;bottom: 0;left: 50%;z-index: 0;}#sk-container-id-4 div.sk-serial {display: flex;flex-direction: column;align-items: center;background-color: white;padding-right: 0.2em;padding-left: 0.2em;position: relative;}#sk-container-id-4 div.sk-item {position: relative;z-index: 1;}#sk-container-id-4 div.sk-parallel {display: flex;align-items: stretch;justify-content: center;background-color: white;position: relative;}#sk-container-id-4 div.sk-item::before, #sk-container-id-4 div.sk-parallel-item::before {content: \"\";position: absolute;border-left: 1px solid gray;box-sizing: border-box;top: 0;bottom: 0;left: 50%;z-index: -1;}#sk-container-id-4 div.sk-parallel-item {display: flex;flex-direction: column;z-index: 1;position: relative;background-color: white;}#sk-container-id-4 div.sk-parallel-item:first-child::after {align-self: flex-end;width: 50%;}#sk-container-id-4 div.sk-parallel-item:last-child::after {align-self: flex-start;width: 50%;}#sk-container-id-4 div.sk-parallel-item:only-child::after {width: 0;}#sk-container-id-4 div.sk-dashed-wrapped {border: 1px dashed gray;margin: 0 0.4em 0.5em 0.4em;box-sizing: border-box;padding-bottom: 0.4em;background-color: white;}#sk-container-id-4 div.sk-label label {font-family: monospace;font-weight: bold;display: inline-block;line-height: 1.2em;}#sk-container-id-4 div.sk-label-container {text-align: center;}#sk-container-id-4 div.sk-container {/* jupyter's `normalize.less` sets `[hidden] { display: none; }` but bootstrap.min.css set `[hidden] { display: none !important; }` so we also need the `!important` here to be able to override the default hidden behavior on the sphinx rendered scikit-learn.org. See: https://github.com/scikit-learn/scikit-learn/issues/21755 */display: inline-block !important;position: relative;}#sk-container-id-4 div.sk-text-repr-fallback {display: none;}</style><div id=\"sk-container-id-4\" class=\"sk-top-container\"><div class=\"sk-text-repr-fallback\"><pre>GaussianNB(var_smoothing=0.03897178042823965)</pre><b>In a Jupyter environment, please rerun this cell to show the HTML representation or trust the notebook. <br />On GitHub, the HTML representation is unable to render, please try loading this page with nbviewer.org.</b></div><div class=\"sk-container\" hidden><div class=\"sk-item\"><div class=\"sk-estimator sk-toggleable\"><input class=\"sk-toggleable__control sk-hidden--visually\" id=\"sk-estimator-id-4\" type=\"checkbox\" checked><label for=\"sk-estimator-id-4\" class=\"sk-toggleable__label sk-toggleable__label-arrow\">GaussianNB</label><div class=\"sk-toggleable__content\"><pre>GaussianNB(var_smoothing=0.03897178042823965)</pre></div></div></div></div></div>"
      ],
      "text/plain": [
       "GaussianNB(var_smoothing=0.03897178042823965)"
      ]
     },
     "execution_count": 91,
     "metadata": {},
     "output_type": "execute_result"
    }
   ],
   "source": [
    "naiveBayes = GaussianNB(var_smoothing=trial.params['var_smoothing'])\n",
    "naiveBayes.fit(X_train, y_train)"
   ]
  },
  {
   "cell_type": "markdown",
   "metadata": {},
   "source": [
    "# Performance matrix"
   ]
  },
  {
   "cell_type": "code",
   "execution_count": 93,
   "metadata": {},
   "outputs": [
    {
     "name": "stdout",
     "output_type": "stream",
     "text": [
      "Confusion matrix is as follows : \n",
      "\n",
      " [[16441  2737]\n",
      " [  373 18805]]\n",
      "\n",
      "Accuracy score is : 0.9189175096464699\n",
      "\n",
      "Classification report is as follows :\n",
      "\n",
      "               precision    recall  f1-score   support\n",
      "\n",
      "         0.0       0.98      0.86      0.91     19178\n",
      "         1.0       0.87      0.98      0.92     19178\n",
      "\n",
      "    accuracy                           0.92     38356\n",
      "   macro avg       0.93      0.92      0.92     38356\n",
      "weighted avg       0.93      0.92      0.92     38356\n",
      "\n"
     ]
    }
   ],
   "source": [
    "y_pred = naiveBayes.predict(X_test)\n",
    "print(\"Confusion matrix is as follows : \\n\\n\", confusion_matrix(y_test, y_pred))\n",
    "print(\"\\nAccuracy score is :\",accuracy_score(y_test, y_pred))\n",
    "print(\"\\nClassification report is as follows :\\n\\n\", classification_report(y_test, y_pred))"
   ]
  },
  {
   "cell_type": "markdown",
   "metadata": {},
   "source": [
    "# Decision Tree"
   ]
  },
  {
   "cell_type": "code",
   "execution_count": 96,
   "metadata": {},
   "outputs": [
    {
     "data": {
      "text/plain": [
       "(77644, 11)"
      ]
     },
     "execution_count": 96,
     "metadata": {},
     "output_type": "execute_result"
    }
   ],
   "source": [
    "X_train.shape"
   ]
  },
  {
   "cell_type": "code",
   "execution_count": 99,
   "metadata": {},
   "outputs": [
    {
     "name": "stderr",
     "output_type": "stream",
     "text": [
      "[I 2024-01-19 00:44:35,232] A new study created in memory with name: no-name-6a3359a9-316b-47c0-8ea2-eae40fef8960\n",
      "[I 2024-01-19 00:44:36,018] Trial 0 finished with value: 0.9521921767911846 and parameters: {'criterion': 'gini', 'max_depth': 10, 'min_samples_split': 14, 'min_samples_leaf': 10}. Best is trial 0 with value: 0.9521921767911846.\n",
      "[I 2024-01-19 00:44:36,557] Trial 1 finished with value: 0.9417470617090892 and parameters: {'criterion': 'entropy', 'max_depth': 6, 'min_samples_split': 18, 'min_samples_leaf': 14}. Best is trial 0 with value: 0.9521921767911846.\n",
      "[I 2024-01-19 00:44:37,287] Trial 2 finished with value: 0.9526300799622454 and parameters: {'criterion': 'gini', 'max_depth': 11, 'min_samples_split': 13, 'min_samples_leaf': 16}. Best is trial 2 with value: 0.9526300799622454.\n",
      "[I 2024-01-19 00:44:37,868] Trial 3 finished with value: 0.9481480364485226 and parameters: {'criterion': 'entropy', 'max_depth': 7, 'min_samples_split': 16, 'min_samples_leaf': 7}. Best is trial 2 with value: 0.9526300799622454.\n",
      "[I 2024-01-19 00:44:38,366] Trial 4 finished with value: 0.9417470617090892 and parameters: {'criterion': 'entropy', 'max_depth': 6, 'min_samples_split': 3, 'min_samples_leaf': 11}. Best is trial 2 with value: 0.9526300799622454.\n",
      "[I 2024-01-19 00:44:39,089] Trial 5 finished with value: 0.9538407229338565 and parameters: {'criterion': 'entropy', 'max_depth': 10, 'min_samples_split': 9, 'min_samples_leaf': 8}. Best is trial 5 with value: 0.9538407229338565.\n",
      "[I 2024-01-19 00:44:39,841] Trial 6 finished with value: 0.9544460605923876 and parameters: {'criterion': 'entropy', 'max_depth': 11, 'min_samples_split': 10, 'min_samples_leaf': 13}. Best is trial 6 with value: 0.9544460605923876.\n",
      "[I 2024-01-19 00:44:40,465] Trial 7 finished with value: 0.9491269043559921 and parameters: {'criterion': 'entropy', 'max_depth': 8, 'min_samples_split': 7, 'min_samples_leaf': 19}. Best is trial 6 with value: 0.9544460605923876.\n",
      "[I 2024-01-19 00:44:41,028] Trial 8 finished with value: 0.946164662633563 and parameters: {'criterion': 'gini', 'max_depth': 7, 'min_samples_split': 6, 'min_samples_leaf': 19}. Best is trial 6 with value: 0.9544460605923876.\n",
      "[I 2024-01-19 00:44:41,658] Trial 9 finished with value: 0.9507496841120823 and parameters: {'criterion': 'gini', 'max_depth': 9, 'min_samples_split': 8, 'min_samples_leaf': 18}. Best is trial 6 with value: 0.9544460605923876.\n"
     ]
    }
   ],
   "source": [
    "# step 1 : Define an objective function to be maximized\n",
    "def objective(trial):\n",
    "    classifier_name = 'decisionTree'\n",
    "    \n",
    "    # step 2 : Setup values for hyperparameters\n",
    "    if classifier_name == 'decisionTree':\n",
    "        criterion = trial.suggest_categorical('criterion', ['entropy', 'gini'])\n",
    "        max_depth = trial.suggest_int('max_depth', 5, X_train.shape[1])\n",
    "        min_samples_split = trial.suggest_int('min_samples_split', 2, 20)\n",
    "        min_samples_leaf = trial.suggest_int('min_samples_leaf', 2, 20)\n",
    "        \n",
    "        classifier_obj = DecisionTreeClassifier(criterion=criterion, max_depth=max_depth, min_samples_split=min_samples_split, min_samples_leaf=min_samples_leaf)\n",
    "        \n",
    "    # step 3 : Scoring method :\n",
    "    score = cross_val_score(estimator=classifier_obj, X=X_train, y=y_train, cv=3)\n",
    "    accuracy = score.mean()\n",
    "    return accuracy\n",
    "\n",
    "# step 4 : Running it\n",
    "study = optuna.create_study(direction='maximize')\n",
    "study.optimize(objective, n_trials=10)"
   ]
  },
  {
   "cell_type": "markdown",
   "metadata": {},
   "source": [
    "# Important hyperparameters\n"
   ]
  },
  {
   "cell_type": "code",
   "execution_count": 101,
   "metadata": {},
   "outputs": [
    {
     "data": {
      "text/plain": [
       "<Axes: title={'left': 'Hyperparameter Importances'}, xlabel='Hyperparameter Importance', ylabel='Hyperparameter'>"
      ]
     },
     "execution_count": 101,
     "metadata": {},
     "output_type": "execute_result"
    },
    {
     "data": {
      "image/png": "[encoded data removed]",
      "text/plain": [
       "<Figure size 640x480 with 1 Axes>"
      ]
     },
     "metadata": {},
     "output_type": "display_data"
    }
   ],
   "source": [
    "plot_param_importances(study)"
   ]
  },
  {
   "cell_type": "markdown",
   "metadata": {},
   "source": [
    "# Getting best parameter\n"
   ]
  },
  {
   "cell_type": "code",
   "execution_count": 103,
   "metadata": {},
   "outputs": [
    {
     "data": {
      "text/plain": [
       "{'criterion': 'entropy',\n",
       " 'max_depth': 11,\n",
       " 'min_samples_split': 10,\n",
       " 'min_samples_leaf': 13}"
      ]
     },
     "execution_count": 103,
     "metadata": {},
     "output_type": "execute_result"
    }
   ],
   "source": [
    "trial = study.best_trial\n",
    "trial.params"
   ]
  },
  {
   "cell_type": "markdown",
   "metadata": {},
   "source": [
    "# Training model with best parameters\n"
   ]
  },
  {
   "cell_type": "code",
   "execution_count": 105,
   "metadata": {},
   "outputs": [
    {
     "data": {
      "text/html": [
       "<style>#sk-container-id-5 {color: black;}#sk-container-id-5 pre{padding: 0;}#sk-container-id-5 div.sk-toggleable {background-color: white;}#sk-container-id-5 label.sk-toggleable__label {cursor: pointer;display: block;width: 100%;margin-bottom: 0;padding: 0.3em;box-sizing: border-box;text-align: center;}#sk-container-id-5 label.sk-toggleable__label-arrow:before {content: \"▸\";float: left;margin-right: 0.25em;color: #696969;}#sk-container-id-5 label.sk-toggleable__label-arrow:hover:before {color: black;}#sk-container-id-5 div.sk-estimator:hover label.sk-toggleable__label-arrow:before {color: black;}#sk-container-id-5 div.sk-toggleable__content {max-height: 0;max-width: 0;overflow: hidden;text-align: left;background-color: #f0f8ff;}#sk-container-id-5 div.sk-toggleable__content pre {margin: 0.2em;color: black;border-radius: 0.25em;background-color: #f0f8ff;}#sk-container-id-5 input.sk-toggleable__control:checked~div.sk-toggleable__content {max-height: 200px;max-width: 100%;overflow: auto;}#sk-container-id-5 input.sk-toggleable__control:checked~label.sk-toggleable__label-arrow:before {content: \"▾\";}#sk-container-id-5 div.sk-estimator input.sk-toggleable__control:checked~label.sk-toggleable__label {background-color: #d4ebff;}#sk-container-id-5 div.sk-label input.sk-toggleable__control:checked~label.sk-toggleable__label {background-color: #d4ebff;}#sk-container-id-5 input.sk-hidden--visually {border: 0;clip: rect(1px 1px 1px 1px);clip: rect(1px, 1px, 1px, 1px);height: 1px;margin: -1px;overflow: hidden;padding: 0;position: absolute;width: 1px;}#sk-container-id-5 div.sk-estimator {font-family: monospace;background-color: #f0f8ff;border: 1px dotted black;border-radius: 0.25em;box-sizing: border-box;margin-bottom: 0.5em;}#sk-container-id-5 div.sk-estimator:hover {background-color: #d4ebff;}#sk-container-id-5 div.sk-parallel-item::after {content: \"\";width: 100%;border-bottom: 1px solid gray;flex-grow: 1;}#sk-container-id-5 div.sk-label:hover label.sk-toggleable__label {background-color: #d4ebff;}#sk-container-id-5 div.sk-serial::before {content: \"\";position: absolute;border-left: 1px solid gray;box-sizing: border-box;top: 0;bottom: 0;left: 50%;z-index: 0;}#sk-container-id-5 div.sk-serial {display: flex;flex-direction: column;align-items: center;background-color: white;padding-right: 0.2em;padding-left: 0.2em;position: relative;}#sk-container-id-5 div.sk-item {position: relative;z-index: 1;}#sk-container-id-5 div.sk-parallel {display: flex;align-items: stretch;justify-content: center;background-color: white;position: relative;}#sk-container-id-5 div.sk-item::before, #sk-container-id-5 div.sk-parallel-item::before {content: \"\";position: absolute;border-left: 1px solid gray;box-sizing: border-box;top: 0;bottom: 0;left: 50%;z-index: -1;}#sk-container-id-5 div.sk-parallel-item {display: flex;flex-direction: column;z-index: 1;position: relative;background-color: white;}#sk-container-id-5 div.sk-parallel-item:first-child::after {align-self: flex-end;width: 50%;}#sk-container-id-5 div.sk-parallel-item:last-child::after {align-self: flex-start;width: 50%;}#sk-container-id-5 div.sk-parallel-item:only-child::after {width: 0;}#sk-container-id-5 div.sk-dashed-wrapped {border: 1px dashed gray;margin: 0 0.4em 0.5em 0.4em;box-sizing: border-box;padding-bottom: 0.4em;background-color: white;}#sk-container-id-5 div.sk-label label {font-family: monospace;font-weight: bold;display: inline-block;line-height: 1.2em;}#sk-container-id-5 div.sk-label-container {text-align: center;}#sk-container-id-5 div.sk-container {/* jupyter's `normalize.less` sets `[hidden] { display: none; }` but bootstrap.min.css set `[hidden] { display: none !important; }` so we also need the `!important` here to be able to override the default hidden behavior on the sphinx rendered scikit-learn.org. See: https://github.com/scikit-learn/scikit-learn/issues/21755 */display: inline-block !important;position: relative;}#sk-container-id-5 div.sk-text-repr-fallback {display: none;}</style><div id=\"sk-container-id-5\" class=\"sk-top-container\"><div class=\"sk-text-repr-fallback\"><pre>DecisionTreeClassifier(criterion=&#x27;entropy&#x27;, max_depth=11, min_samples_leaf=13,\n",
       "                       min_samples_split=10)</pre><b>In a Jupyter environment, please rerun this cell to show the HTML representation or trust the notebook. <br />On GitHub, the HTML representation is unable to render, please try loading this page with nbviewer.org.</b></div><div class=\"sk-container\" hidden><div class=\"sk-item\"><div class=\"sk-estimator sk-toggleable\"><input class=\"sk-toggleable__control sk-hidden--visually\" id=\"sk-estimator-id-5\" type=\"checkbox\" checked><label for=\"sk-estimator-id-5\" class=\"sk-toggleable__label sk-toggleable__label-arrow\">DecisionTreeClassifier</label><div class=\"sk-toggleable__content\"><pre>DecisionTreeClassifier(criterion=&#x27;entropy&#x27;, max_depth=11, min_samples_leaf=13,\n",
       "                       min_samples_split=10)</pre></div></div></div></div></div>"
      ],
      "text/plain": [
       "DecisionTreeClassifier(criterion='entropy', max_depth=11, min_samples_leaf=13,\n",
       "                       min_samples_split=10)"
      ]
     },
     "execution_count": 105,
     "metadata": {},
     "output_type": "execute_result"
    }
   ],
   "source": [
    "decisionTree = DecisionTreeClassifier(criterion=trial.params['criterion'], max_depth=trial.params['max_depth'], min_samples_split=trial.params['min_samples_split'], min_samples_leaf=trial.params['min_samples_leaf'])\n",
    "decisionTree.fit(X_train, y_train)"
   ]
  },
  {
   "cell_type": "markdown",
   "metadata": {},
   "source": [
    "# Performance matrix"
   ]
  },
  {
   "cell_type": "code",
   "execution_count": 106,
   "metadata": {},
   "outputs": [
    {
     "name": "stdout",
     "output_type": "stream",
     "text": [
      "Confusion matrix is as follows : \n",
      "\n",
      " [[17788  1390]\n",
      " [  722 18456]]\n",
      "\n",
      "Accuracy score is : 0.944936906872458\n",
      "\n",
      "Classification report is as follows :\n",
      "\n",
      "               precision    recall  f1-score   support\n",
      "\n",
      "         0.0       0.96      0.93      0.94     19178\n",
      "         1.0       0.93      0.96      0.95     19178\n",
      "\n",
      "    accuracy                           0.94     38356\n",
      "   macro avg       0.95      0.94      0.94     38356\n",
      "weighted avg       0.95      0.94      0.94     38356\n",
      "\n"
     ]
    }
   ],
   "source": [
    "y_pred = decisionTree.predict(X_test)\n",
    "print(\"Confusion matrix is as follows : \\n\\n\", confusion_matrix(y_test, y_pred))\n",
    "print(\"\\nAccuracy score is :\",accuracy_score(y_test, y_pred))\n",
    "print(\"\\nClassification report is as follows :\\n\\n\", classification_report(y_test, y_pred))"
   ]
  },
  {
   "cell_type": "markdown",
   "metadata": {},
   "source": [
    "# XGBoost"
   ]
  },
  {
   "cell_type": "code",
   "execution_count": 111,
   "metadata": {},
   "outputs": [
    {
     "name": "stderr",
     "output_type": "stream",
     "text": [
      "[I 2024-01-19 01:50:14,099] A new study created in memory with name: no-name-2ee806ff-a5ca-43bf-b0c5-984c5fafabad\n",
      "[I 2024-01-19 01:50:45,702] Trial 0 finished with value: 0.9248497212662574 and parameters: {'verbosity': 1, 'booster': 'dart', 'reg_lambda': 0.36018033504261915, 'reg_alpha': 0.40665432319553385, 'subsample': 0.26714967777481324, 'colsample_bytree': 0.4214340598146128, 'gamma': 3.5221818657030424, 'eta': 1.5739480006681255}. Best is trial 0 with value: 0.9248497212662574.\n",
      "[I 2024-01-19 01:50:46,328] Trial 1 finished with value: 0.8488229624097595 and parameters: {'verbosity': 1, 'booster': 'gbtree', 'reg_lambda': 0.34927937854751334, 'reg_alpha': 0.040770564276234836, 'subsample': 0.4704776665284913, 'colsample_bytree': 0.2795220791176363, 'gamma': 3.283075176636029, 'eta': 4.353291552482734}. Best is trial 0 with value: 0.9248497212662574.\n",
      "[I 2024-01-19 01:51:15,690] Trial 2 finished with value: 0.617576542870841 and parameters: {'verbosity': 0, 'booster': 'dart', 'reg_lambda': 0.3073277366908443, 'reg_alpha': 0.5854484078150471, 'subsample': 0.11657821385357825, 'colsample_bytree': 0.2252157402085723, 'gamma': 0.6348636955076791, 'eta': 2.641784599971157}. Best is trial 0 with value: 0.9248497212662574.\n"
     ]
    },
    {
     "name": "stdout",
     "output_type": "stream",
     "text": [
      "[01:51:15] ======== Monitor (0): HostSketchContainer ========\n",
      "[01:51:15] AllReduce: 0.001568s, 1 calls @ 1568us\n",
      "\n",
      "[01:51:15] MakeCuts: 0.001614s, 1 calls @ 1614us\n",
      "\n",
      "[01:51:15] DEBUG: C:\\buildkite-agent\\builds\\buildkite-windows-cpu-autoscaling-group-i-0b3782d1791676daf-1\\xgboost\\xgboost-ci-windows\\src\\gbm\\gbtree.cc:130: Using tree method: 0\n",
      "[01:51:15] ======== Monitor (0): Learner ========\n",
      "[01:51:15] Configure: 0.000375s, 1 calls @ 375us\n",
      "\n",
      "[01:51:15] EvalOneIter: 0.000597s, 100 calls @ 597us\n",
      "\n",
      "[01:51:15] GetGradient: 0.073415s, 100 calls @ 73415us\n",
      "\n",
      "[01:51:15] PredictRaw: 0.000117s, 100 calls @ 117us\n",
      "\n",
      "[01:51:15] UpdateOneIter: 0.170963s, 100 calls @ 170963us\n",
      "\n",
      "[01:51:15] ======== Monitor (0): GBTree ========\n",
      "[01:51:15] BoostNewTrees: 0.095958s, 100 calls @ 95958us\n",
      "\n",
      "[01:51:15] CommitModel: 5.1e-05s, 100 calls @ 51us\n",
      "\n",
      "[01:51:15] ======== Monitor (0): HistUpdater ========\n",
      "[01:51:15] BuildHistogram: 0.003477s, 25 calls @ 3477us\n",
      "\n",
      "[01:51:15] EvaluateSplits: 0.002096s, 125 calls @ 2096us\n",
      "\n",
      "[01:51:15] InitData: 0.026078s, 100 calls @ 26078us\n",
      "\n",
      "[01:51:15] InitRoot: 0.019835s, 100 calls @ 19835us\n",
      "\n",
      "[01:51:15] LeafPartition: 1e-05s, 100 calls @ 10us\n",
      "\n",
      "[01:51:15] UpdatePosition: 0.007877s, 30 calls @ 7877us\n",
      "\n",
      "[01:51:15] UpdatePredictionCache: 0.002352s, 100 calls @ 2352us\n",
      "\n",
      "[01:51:15] UpdateTree: 0.058573s, 100 calls @ 58573us\n",
      "\n",
      "[01:51:15] DEBUG: C:\\buildkite-agent\\builds\\buildkite-windows-cpu-autoscaling-group-i-0b3782d1791676daf-1\\xgboost\\xgboost-ci-windows\\src\\gbm\\gbtree.cc:130: Using tree method: 0\n",
      "[01:51:15] ======== Monitor (0): HostSketchContainer ========\n",
      "[01:51:15] AllReduce: 0.001998s, 1 calls @ 1998us\n",
      "\n",
      "[01:51:15] MakeCuts: 0.002069s, 1 calls @ 2069us\n",
      "\n",
      "[01:51:15] DEBUG: C:\\buildkite-agent\\builds\\buildkite-windows-cpu-autoscaling-group-i-0b3782d1791676daf-1\\xgboost\\xgboost-ci-windows\\src\\gbm\\gbtree.cc:130: Using tree method: 0\n",
      "[01:51:16] ======== Monitor (0): Learner ========\n",
      "[01:51:16] Configure: 0.000793s, 1 calls @ 793us\n",
      "\n",
      "[01:51:16] EvalOneIter: 0.000536s, 100 calls @ 536us\n",
      "\n",
      "[01:51:16] GetGradient: 0.070452s, 100 calls @ 70452us\n",
      "\n",
      "[01:51:16] PredictRaw: 0.0001s, 100 calls @ 100us\n",
      "\n",
      "[01:51:16] UpdateOneIter: 0.159888s, 100 calls @ 159888us\n",
      "\n",
      "[01:51:16] ======== Monitor (0): GBTree ========\n",
      "[01:51:16] BoostNewTrees: 0.087473s, 100 calls @ 87473us\n",
      "\n",
      "[01:51:16] CommitModel: 5e-05s, 100 calls @ 50us\n",
      "\n",
      "[01:51:16] ======== Monitor (0): HistUpdater ========\n",
      "[01:51:16] BuildHistogram: 0.003748s, 18 calls @ 3748us\n",
      "\n",
      "[01:51:16] EvaluateSplits: 0.001701s, 118 calls @ 1701us\n",
      "\n",
      "[01:51:16] InitData: 0.022921s, 100 calls @ 22921us\n",
      "\n",
      "[01:51:16] InitRoot: 0.01725s, 100 calls @ 17250us\n",
      "\n",
      "[01:51:16] LeafPartition: 1.1e-05s, 100 calls @ 11us\n",
      "\n",
      "[01:51:16] UpdatePosition: 0.006598s, 21 calls @ 6598us\n",
      "\n",
      "[01:51:16] UpdatePredictionCache: 0.002034s, 100 calls @ 2034us\n",
      "\n",
      "[01:51:16] UpdateTree: 0.051719s, 100 calls @ 51719us\n",
      "\n",
      "[01:51:16] DEBUG: C:\\buildkite-agent\\builds\\buildkite-windows-cpu-autoscaling-group-i-0b3782d1791676daf-1\\xgboost\\xgboost-ci-windows\\src\\gbm\\gbtree.cc:130: Using tree method: 0\n"
     ]
    },
    {
     "name": "stderr",
     "output_type": "stream",
     "text": [
      "[I 2024-01-19 01:51:16,374] Trial 3 finished with value: 0.5004507811393171 and parameters: {'verbosity': 3, 'booster': 'gbtree', 'reg_lambda': 0.13651480749396616, 'reg_alpha': 0.06887307287150896, 'subsample': 0.3204877965455931, 'colsample_bytree': 0.36633801812491806, 'gamma': 1.8058131612150017, 'eta': 3.693883387148211}. Best is trial 0 with value: 0.9248497212662574.\n"
     ]
    },
    {
     "name": "stdout",
     "output_type": "stream",
     "text": [
      "[01:51:16] ======== Monitor (0): HostSketchContainer ========\n",
      "[01:51:16] AllReduce: 0.001914s, 1 calls @ 1914us\n",
      "\n",
      "[01:51:16] MakeCuts: 0.001967s, 1 calls @ 1967us\n",
      "\n",
      "[01:51:16] DEBUG: C:\\buildkite-agent\\builds\\buildkite-windows-cpu-autoscaling-group-i-0b3782d1791676daf-1\\xgboost\\xgboost-ci-windows\\src\\gbm\\gbtree.cc:130: Using tree method: 0\n",
      "[01:51:16] ======== Monitor (0): Learner ========\n",
      "[01:51:16] Configure: 0.000355s, 1 calls @ 355us\n",
      "\n",
      "[01:51:16] EvalOneIter: 0.000422s, 100 calls @ 422us\n",
      "\n",
      "[01:51:16] GetGradient: 0.053798s, 100 calls @ 53798us\n",
      "\n",
      "[01:51:16] PredictRaw: 8.7e-05s, 100 calls @ 87us\n",
      "\n",
      "[01:51:16] UpdateOneIter: 0.12845s, 100 calls @ 128450us\n",
      "\n",
      "[01:51:16] ======== Monitor (0): GBTree ========\n",
      "[01:51:16] BoostNewTrees: 0.073046s, 100 calls @ 73046us\n",
      "\n",
      "[01:51:16] CommitModel: 4.2e-05s, 100 calls @ 42us\n",
      "\n",
      "[01:51:16] ======== Monitor (0): HistUpdater ========\n",
      "[01:51:16] BuildHistogram: 0.003115s, 24 calls @ 3115us\n",
      "\n",
      "[01:51:16] EvaluateSplits: 0.001742s, 124 calls @ 1742us\n",
      "\n",
      "[01:51:16] InitData: 0.016886s, 100 calls @ 16886us\n",
      "\n",
      "[01:51:16] InitRoot: 0.014404s, 100 calls @ 14404us\n",
      "\n",
      "[01:51:16] LeafPartition: 9e-06s, 100 calls @ 9us\n",
      "\n",
      "[01:51:16] UpdatePosition: 0.008817s, 28 calls @ 8817us\n",
      "\n",
      "[01:51:16] UpdatePredictionCache: 0.002119s, 100 calls @ 2119us\n",
      "\n",
      "[01:51:16] UpdateTree: 0.044472s, 100 calls @ 44472us\n",
      "\n",
      "[01:51:16] DEBUG: C:\\buildkite-agent\\builds\\buildkite-windows-cpu-autoscaling-group-i-0b3782d1791676daf-1\\xgboost\\xgboost-ci-windows\\src\\gbm\\gbtree.cc:130: Using tree method: 0\n"
     ]
    },
    {
     "name": "stderr",
     "output_type": "stream",
     "text": [
      "[I 2024-01-19 01:51:16,922] Trial 4 finished with value: 0.8074293223298606 and parameters: {'verbosity': 1, 'booster': 'gbtree', 'reg_lambda': 0.10090781136583205, 'reg_alpha': 0.07783684973413238, 'subsample': 0.3984753345502594, 'colsample_bytree': 0.4638624696384229, 'gamma': 2.7318035457711134, 'eta': 2.515504486246558}. Best is trial 0 with value: 0.9248497212662574.\n"
     ]
    },
    {
     "name": "stdout",
     "output_type": "stream",
     "text": [
      "[01:51:16] ======== Monitor (0): HostSketchContainer ========\n",
      "[01:51:16] AllReduce: 0.001778s, 1 calls @ 1778us\n",
      "\n",
      "[01:51:16] MakeCuts: 0.001824s, 1 calls @ 1824us\n",
      "\n",
      "[01:51:16] DEBUG: C:\\buildkite-agent\\builds\\buildkite-windows-cpu-autoscaling-group-i-0b3782d1791676daf-1\\xgboost\\xgboost-ci-windows\\src\\gbm\\gbtree.cc:130: Using tree method: 0\n",
      "[01:51:17] ======== Monitor (0): Learner ========\n",
      "[01:51:17] Configure: 0.00037s, 1 calls @ 370us\n",
      "\n",
      "[01:51:17] EvalOneIter: 0.000375s, 100 calls @ 375us\n",
      "\n",
      "[01:51:17] GetGradient: 0.044528s, 100 calls @ 44528us\n",
      "\n",
      "[01:51:17] PredictRaw: 8.1e-05s, 100 calls @ 81us\n",
      "\n",
      "[01:51:17] UpdateOneIter: 0.117387s, 100 calls @ 117387us\n",
      "\n",
      "[01:51:17] ======== Monitor (0): GBTree ========\n",
      "[01:51:17] BoostNewTrees: 0.071385s, 100 calls @ 71385us\n",
      "\n",
      "[01:51:17] CommitModel: 3.6e-05s, 100 calls @ 36us\n",
      "\n",
      "[01:51:17] ======== Monitor (0): HistUpdater ========\n",
      "[01:51:17] BuildHistogram: 0.003685s, 36 calls @ 3685us\n",
      "\n",
      "[01:51:17] EvaluateSplits: 0.001521s, 136 calls @ 1521us\n",
      "\n",
      "[01:51:17] InitData: 0.015038s, 100 calls @ 15038us\n",
      "\n",
      "[01:51:17] InitRoot: 0.013286s, 100 calls @ 13286us\n",
      "\n",
      "[01:51:17] LeafPartition: 8e-06s, 100 calls @ 8us\n",
      "\n",
      "[01:51:17] UpdatePosition: 0.012222s, 42 calls @ 12222us\n",
      "\n",
      "[01:51:17] UpdatePredictionCache: 0.001629s, 100 calls @ 1629us\n",
      "\n",
      "[01:51:17] UpdateTree: 0.045434s, 100 calls @ 45434us\n",
      "\n",
      "[01:51:17] DEBUG: C:\\buildkite-agent\\builds\\buildkite-windows-cpu-autoscaling-group-i-0b3782d1791676daf-1\\xgboost\\xgboost-ci-windows\\src\\gbm\\gbtree.cc:130: Using tree method: 0\n",
      "[01:51:17] ======== Monitor (0): HostSketchContainer ========\n",
      "[01:51:17] AllReduce: 0.001395s, 1 calls @ 1395us\n",
      "\n",
      "[01:51:17] MakeCuts: 0.001434s, 1 calls @ 1434us\n",
      "\n",
      "[01:51:17] DEBUG: C:\\buildkite-agent\\builds\\buildkite-windows-cpu-autoscaling-group-i-0b3782d1791676daf-1\\xgboost\\xgboost-ci-windows\\src\\gbm\\gbtree.cc:130: Using tree method: 0\n"
     ]
    },
    {
     "name": "stderr",
     "output_type": "stream",
     "text": [
      "[I 2024-01-19 01:51:17,493] Trial 5 finished with value: 0.6271797645725472 and parameters: {'verbosity': 3, 'booster': 'gbtree', 'reg_lambda': 0.9925460215787051, 'reg_alpha': 0.9977713605767018, 'subsample': 0.36879636277718586, 'colsample_bytree': 0.32767259669315996, 'gamma': 3.8632760673737785, 'eta': 2.7588460094694005}. Best is trial 0 with value: 0.9248497212662574.\n"
     ]
    },
    {
     "name": "stdout",
     "output_type": "stream",
     "text": [
      "[01:51:17] ======== Monitor (0): Learner ========\n",
      "[01:51:17] Configure: 0.000351s, 1 calls @ 351us\n",
      "\n",
      "[01:51:17] EvalOneIter: 0.00042s, 100 calls @ 420us\n",
      "\n",
      "[01:51:17] GetGradient: 0.051585s, 100 calls @ 51585us\n",
      "\n",
      "[01:51:17] PredictRaw: 8.8e-05s, 100 calls @ 88us\n",
      "\n",
      "[01:51:17] UpdateOneIter: 0.14044s, 100 calls @ 140440us\n",
      "\n",
      "[01:51:17] ======== Monitor (0): GBTree ========\n",
      "[01:51:17] BoostNewTrees: 0.087466s, 100 calls @ 87466us\n",
      "\n",
      "[01:51:17] CommitModel: 4e-05s, 100 calls @ 40us\n",
      "\n",
      "[01:51:17] ======== Monitor (0): HistUpdater ========\n",
      "[01:51:17] BuildHistogram: 0.004599s, 53 calls @ 4599us\n",
      "\n",
      "[01:51:17] EvaluateSplits: 0.00194s, 153 calls @ 1940us\n",
      "\n",
      "[01:51:17] InitData: 0.018625s, 100 calls @ 18625us\n",
      "\n",
      "[01:51:17] InitRoot: 0.013739s, 100 calls @ 13739us\n",
      "\n",
      "[01:51:17] LeafPartition: 9e-06s, 100 calls @ 9us\n",
      "\n",
      "[01:51:17] UpdatePosition: 0.018819s, 58 calls @ 18819us\n",
      "\n",
      "[01:51:17] UpdatePredictionCache: 0.00194s, 100 calls @ 1940us\n",
      "\n",
      "[01:51:17] UpdateTree: 0.057604s, 100 calls @ 57604us\n",
      "\n",
      "[01:51:17] DEBUG: C:\\buildkite-agent\\builds\\buildkite-windows-cpu-autoscaling-group-i-0b3782d1791676daf-1\\xgboost\\xgboost-ci-windows\\src\\gbm\\gbtree.cc:130: Using tree method: 0\n",
      "[01:51:17] ======== Monitor (0): HostSketchContainer ========\n",
      "[01:51:17] AllReduce: 0.00171s, 1 calls @ 1710us\n",
      "\n",
      "[01:51:17] MakeCuts: 0.001753s, 1 calls @ 1753us\n",
      "\n",
      "[01:51:17] DEBUG: C:\\buildkite-agent\\builds\\buildkite-windows-cpu-autoscaling-group-i-0b3782d1791676daf-1\\xgboost\\xgboost-ci-windows\\src\\gbm\\gbtree.cc:130: Using tree method: 0\n",
      "[01:51:17] ======== Monitor (0): Learner ========\n",
      "[01:51:17] Configure: 0.000361s, 1 calls @ 361us\n",
      "\n",
      "[01:51:17] EvalOneIter: 0.000369s, 100 calls @ 369us\n",
      "\n",
      "[01:51:17] GetGradient: 0.047985s, 100 calls @ 47985us\n",
      "\n",
      "[01:51:17] PredictRaw: 7.9e-05s, 100 calls @ 79us\n",
      "\n",
      "[01:51:17] UpdateOneIter: 0.121597s, 100 calls @ 121597us\n",
      "\n",
      "[01:51:17] ======== Monitor (0): GBTree ========\n",
      "[01:51:17] BoostNewTrees: 0.072259s, 100 calls @ 72259us\n",
      "\n",
      "[01:51:17] CommitModel: 3.7e-05s, 100 calls @ 37us\n",
      "\n",
      "[01:51:17] ======== Monitor (0): HistUpdater ========\n",
      "[01:51:17] BuildHistogram: 0.002943s, 35 calls @ 2943us\n",
      "\n",
      "[01:51:17] EvaluateSplits: 0.001566s, 135 calls @ 1566us\n",
      "\n",
      "[01:51:17] InitData: 0.016247s, 100 calls @ 16247us\n",
      "\n",
      "[01:51:17] InitRoot: 0.012825s, 100 calls @ 12825us\n",
      "\n",
      "[01:51:17] LeafPartition: 8e-06s, 100 calls @ 8us\n",
      "\n",
      "[01:51:17] UpdatePosition: 0.012645s, 41 calls @ 12645us\n",
      "\n",
      "[01:51:17] UpdatePredictionCache: 0.001651s, 100 calls @ 1651us\n",
      "\n",
      "[01:51:17] UpdateTree: 0.045961s, 100 calls @ 45961us\n",
      "\n",
      "[01:51:17] DEBUG: C:\\buildkite-agent\\builds\\buildkite-windows-cpu-autoscaling-group-i-0b3782d1791676daf-1\\xgboost\\xgboost-ci-windows\\src\\gbm\\gbtree.cc:130: Using tree method: 0\n",
      "[01:51:17] ======== Monitor (0): HostSketchContainer ========\n",
      "[01:51:17] AllReduce: 0.001872s, 1 calls @ 1872us\n",
      "\n",
      "[01:51:17] MakeCuts: 0.002009s, 1 calls @ 2009us\n",
      "\n",
      "[01:51:17] DEBUG: C:\\buildkite-agent\\builds\\buildkite-windows-cpu-autoscaling-group-i-0b3782d1791676daf-1\\xgboost\\xgboost-ci-windows\\src\\gbm\\gbtree.cc:130: Using tree method: 0\n",
      "[01:51:17] ======== Monitor (0): Learner ========\n",
      "[01:51:17] Configure: 0.000327s, 1 calls @ 327us\n",
      "\n",
      "[01:51:17] EvalOneIter: 0.000582s, 100 calls @ 582us\n",
      "\n",
      "[01:51:17] GetGradient: 0.007507s, 100 calls @ 7507us\n",
      "\n",
      "[01:51:17] PredictRaw: 0.000113s, 100 calls @ 113us\n",
      "\n",
      "[01:51:17] UpdateOneIter: 0.227293s, 100 calls @ 227293us\n",
      "\n",
      "[01:51:17] ======== Monitor (0): GBTree ========\n",
      "[01:51:17] BoostNewTrees: 0.218092s, 100 calls @ 218092us\n",
      "\n",
      "[01:51:17] CommitModel: 4.1e-05s, 100 calls @ 41us\n",
      "\n",
      "[01:51:17] ======== Monitor (0): HistUpdater ========\n",
      "[01:51:17] BuildHistogram: 0.016901s, 323 calls @ 16901us\n",
      "\n",
      "[01:51:17] EvaluateSplits: 0.005312s, 423 calls @ 5312us\n",
      "\n",
      "[01:51:17] InitData: 0.040565s, 100 calls @ 40565us\n",
      "\n",
      "[01:51:17] InitRoot: 0.013058s, 100 calls @ 13058us\n",
      "\n",
      "[01:51:17] LeafPartition: 9e-06s, 100 calls @ 9us\n",
      "\n",
      "[01:51:17] UpdatePosition: 0.114321s, 356 calls @ 114321us\n",
      "\n",
      "[01:51:17] UpdatePredictionCache: 0.002709s, 100 calls @ 2709us\n",
      "\n",
      "[01:51:17] UpdateTree: 0.191224s, 100 calls @ 191224us\n",
      "\n",
      "[01:51:17] DEBUG: C:\\buildkite-agent\\builds\\buildkite-windows-cpu-autoscaling-group-i-0b3782d1791676daf-1\\xgboost\\xgboost-ci-windows\\src\\gbm\\gbtree.cc:130: Using tree method: 0\n",
      "[01:51:17] ======== Monitor (0): HostSketchContainer ========\n",
      "[01:51:17] AllReduce: 0.001861s, 1 calls @ 1861us\n",
      "\n",
      "[01:51:17] MakeCuts: 0.001902s, 1 calls @ 1902us\n",
      "\n",
      "[01:51:17] DEBUG: C:\\buildkite-agent\\builds\\buildkite-windows-cpu-autoscaling-group-i-0b3782d1791676daf-1\\xgboost\\xgboost-ci-windows\\src\\gbm\\gbtree.cc:130: Using tree method: 0\n",
      "[01:51:18] ======== Monitor (0): Learner ========\n",
      "[01:51:18] Configure: 0.000344s, 1 calls @ 344us\n",
      "\n",
      "[01:51:18] EvalOneIter: 0.000453s, 100 calls @ 453us\n",
      "\n",
      "[01:51:18] GetGradient: 0.006948s, 100 calls @ 6948us\n",
      "\n",
      "[01:51:18] PredictRaw: 9.2e-05s, 100 calls @ 92us\n",
      "\n",
      "[01:51:18] UpdateOneIter: 0.22341s, 100 calls @ 223410us\n",
      "\n",
      "[01:51:18] ======== Monitor (0): GBTree ========\n",
      "[01:51:18] BoostNewTrees: 0.215064s, 100 calls @ 215064us\n",
      "\n",
      "[01:51:18] CommitModel: 4.2e-05s, 100 calls @ 42us\n",
      "\n",
      "[01:51:18] ======== Monitor (0): HistUpdater ========\n",
      "[01:51:18] BuildHistogram: 0.016671s, 329 calls @ 16671us\n",
      "\n",
      "[01:51:18] EvaluateSplits: 0.005194s, 429 calls @ 5194us\n",
      "\n",
      "[01:51:18] InitData: 0.036938s, 100 calls @ 36938us\n",
      "\n",
      "[01:51:18] InitRoot: 0.012851s, 100 calls @ 12851us\n",
      "\n",
      "[01:51:18] LeafPartition: 9e-06s, 100 calls @ 9us\n",
      "\n",
      "[01:51:18] UpdatePosition: 0.11641s, 363 calls @ 116410us\n",
      "\n",
      "[01:51:18] UpdatePredictionCache: 0.002642s, 100 calls @ 2642us\n",
      "\n",
      "[01:51:18] UpdateTree: 0.189242s, 100 calls @ 189242us\n",
      "\n",
      "[01:51:18] DEBUG: C:\\buildkite-agent\\builds\\buildkite-windows-cpu-autoscaling-group-i-0b3782d1791676daf-1\\xgboost\\xgboost-ci-windows\\src\\gbm\\gbtree.cc:130: Using tree method: 0\n",
      "[01:51:18] ======== Monitor (0): HostSketchContainer ========\n",
      "[01:51:18] AllReduce: 0.001533s, 1 calls @ 1533us\n",
      "\n",
      "[01:51:18] MakeCuts: 0.001573s, 1 calls @ 1573us\n",
      "\n",
      "[01:51:18] DEBUG: C:\\buildkite-agent\\builds\\buildkite-windows-cpu-autoscaling-group-i-0b3782d1791676daf-1\\xgboost\\xgboost-ci-windows\\src\\gbm\\gbtree.cc:130: Using tree method: 0\n"
     ]
    },
    {
     "name": "stderr",
     "output_type": "stream",
     "text": [
      "[I 2024-01-19 01:51:18,370] Trial 6 finished with value: 0.9564552425942047 and parameters: {'verbosity': 3, 'booster': 'gbtree', 'reg_lambda': 0.21936595929201058, 'reg_alpha': 0.3583061774828618, 'subsample': 0.13756399001679084, 'colsample_bytree': 0.34968859474224645, 'gamma': 3.8768036597987443, 'eta': 0.18390847730337265}. Best is trial 6 with value: 0.9564552425942047.\n"
     ]
    },
    {
     "name": "stdout",
     "output_type": "stream",
     "text": [
      "[01:51:18] ======== Monitor (0): Learner ========\n",
      "[01:51:18] Configure: 0.00036s, 1 calls @ 360us\n",
      "\n",
      "[01:51:18] EvalOneIter: 0.000422s, 100 calls @ 422us\n",
      "\n",
      "[01:51:18] GetGradient: 0.007139s, 100 calls @ 7139us\n",
      "\n",
      "[01:51:18] PredictRaw: 9.3e-05s, 100 calls @ 93us\n",
      "\n",
      "[01:51:18] UpdateOneIter: 0.217545s, 100 calls @ 217545us\n",
      "\n",
      "[01:51:18] ======== Monitor (0): GBTree ========\n",
      "[01:51:18] BoostNewTrees: 0.208986s, 100 calls @ 208986us\n",
      "\n",
      "[01:51:18] CommitModel: 4.1e-05s, 100 calls @ 41us\n",
      "\n",
      "[01:51:18] ======== Monitor (0): HistUpdater ========\n",
      "[01:51:18] BuildHistogram: 0.017066s, 328 calls @ 17066us\n",
      "\n",
      "[01:51:18] EvaluateSplits: 0.005279s, 428 calls @ 5279us\n",
      "\n",
      "[01:51:18] InitData: 0.036402s, 100 calls @ 36402us\n",
      "\n",
      "[01:51:18] InitRoot: 0.013015s, 100 calls @ 13015us\n",
      "\n",
      "[01:51:18] LeafPartition: 9e-06s, 100 calls @ 9us\n",
      "\n",
      "[01:51:18] UpdatePosition: 0.111029s, 363 calls @ 111029us\n",
      "\n",
      "[01:51:18] UpdatePredictionCache: 0.002699s, 100 calls @ 2699us\n",
      "\n",
      "[01:51:18] UpdateTree: 0.183876s, 100 calls @ 183876us\n",
      "\n",
      "[01:51:18] DEBUG: C:\\buildkite-agent\\builds\\buildkite-windows-cpu-autoscaling-group-i-0b3782d1791676daf-1\\xgboost\\xgboost-ci-windows\\src\\gbm\\gbtree.cc:130: Using tree method: 0\n",
      "[01:51:18] ======== Monitor (0): HostSketchContainer ========\n",
      "[01:51:18] AllReduce: 0.001921s, 1 calls @ 1921us\n",
      "\n",
      "[01:51:18] MakeCuts: 0.001962s, 1 calls @ 1962us\n",
      "\n",
      "[01:51:18] DEBUG: C:\\buildkite-agent\\builds\\buildkite-windows-cpu-autoscaling-group-i-0b3782d1791676daf-1\\xgboost\\xgboost-ci-windows\\src\\gbm\\gbtree.cc:130: Using tree method: 0\n",
      "[01:51:18] INFO: C:\\buildkite-agent\\builds\\buildkite-windows-cpu-autoscaling-group-i-0b3782d1791676daf-1\\xgboost\\xgboost-ci-windows\\src\\gbm\\gbtree.cc:887: drop 0 trees, weight = 1\n",
      "[01:51:18] INFO: C:\\buildkite-agent\\builds\\buildkite-windows-cpu-autoscaling-group-i-0b3782d1791676daf-1\\xgboost\\xgboost-ci-windows\\src\\gbm\\gbtree.cc:887: drop 0 trees, weight = 1\n",
      "[01:51:18] INFO: C:\\buildkite-agent\\builds\\buildkite-windows-cpu-autoscaling-group-i-0b3782d1791676daf-1\\xgboost\\xgboost-ci-windows\\src\\gbm\\gbtree.cc:887: drop 0 trees, weight = 1\n",
      "[01:51:18] INFO: C:\\buildkite-agent\\builds\\buildkite-windows-cpu-autoscaling-group-i-0b3782d1791676daf-1\\xgboost\\xgboost-ci-windows\\src\\gbm\\gbtree.cc:887: drop 0 trees, weight = 1\n",
      "[01:51:18] INFO: C:\\buildkite-agent\\builds\\buildkite-windows-cpu-autoscaling-group-i-0b3782d1791676daf-1\\xgboost\\xgboost-ci-windows\\src\\gbm\\gbtree.cc:887: drop 0 trees, weight = 1\n",
      "[01:51:18] INFO: C:\\buildkite-agent\\builds\\buildkite-windows-cpu-autoscaling-group-i-0b3782d1791676daf-1\\xgboost\\xgboost-ci-windows\\src\\gbm\\gbtree.cc:887: drop 0 trees, weight = 1\n",
      "[01:51:18] INFO: C:\\buildkite-agent\\builds\\buildkite-windows-cpu-autoscaling-group-i-0b3782d1791676daf-1\\xgboost\\xgboost-ci-windows\\src\\gbm\\gbtree.cc:887: drop 0 trees, weight = 1\n",
      "[01:51:18] INFO: C:\\buildkite-agent\\builds\\buildkite-windows-cpu-autoscaling-group-i-0b3782d1791676daf-1\\xgboost\\xgboost-ci-windows\\src\\gbm\\gbtree.cc:887: drop 0 trees, weight = 1\n",
      "[01:51:18] INFO: C:\\buildkite-agent\\builds\\buildkite-windows-cpu-autoscaling-group-i-0b3782d1791676daf-1\\xgboost\\xgboost-ci-windows\\src\\gbm\\gbtree.cc:887: drop 0 trees, weight = 1\n",
      "[01:51:18] INFO: C:\\buildkite-agent\\builds\\buildkite-windows-cpu-autoscaling-group-i-0b3782d1791676daf-1\\xgboost\\xgboost-ci-windows\\src\\gbm\\gbtree.cc:887: drop 0 trees, weight = 1\n",
      "[01:51:18] INFO: C:\\buildkite-agent\\builds\\buildkite-windows-cpu-autoscaling-group-i-0b3782d1791676daf-1\\xgboost\\xgboost-ci-windows\\src\\gbm\\gbtree.cc:887: drop 0 trees, weight = 1\n",
      "[01:51:18] INFO: C:\\buildkite-agent\\builds\\buildkite-windows-cpu-autoscaling-group-i-0b3782d1791676daf-1\\xgboost\\xgboost-ci-windows\\src\\gbm\\gbtree.cc:887: drop 0 trees, weight = 1\n",
      "[01:51:18] INFO: C:\\buildkite-agent\\builds\\buildkite-windows-cpu-autoscaling-group-i-0b3782d1791676daf-1\\xgboost\\xgboost-ci-windows\\src\\gbm\\gbtree.cc:887: drop 0 trees, weight = 1\n",
      "[01:51:18] INFO: C:\\buildkite-agent\\builds\\buildkite-windows-cpu-autoscaling-group-i-0b3782d1791676daf-1\\xgboost\\xgboost-ci-windows\\src\\gbm\\gbtree.cc:887: drop 0 trees, weight = 1\n",
      "[01:51:18] INFO: C:\\buildkite-agent\\builds\\buildkite-windows-cpu-autoscaling-group-i-0b3782d1791676daf-1\\xgboost\\xgboost-ci-windows\\src\\gbm\\gbtree.cc:887: drop 0 trees, weight = 1\n",
      "[01:51:18] INFO: C:\\buildkite-agent\\builds\\buildkite-windows-cpu-autoscaling-group-i-0b3782d1791676daf-1\\xgboost\\xgboost-ci-windows\\src\\gbm\\gbtree.cc:887: drop 0 trees, weight = 1\n",
      "[01:51:18] INFO: C:\\buildkite-agent\\builds\\buildkite-windows-cpu-autoscaling-group-i-0b3782d1791676daf-1\\xgboost\\xgboost-ci-windows\\src\\gbm\\gbtree.cc:887: drop 0 trees, weight = 1\n",
      "[01:51:18] INFO: C:\\buildkite-agent\\builds\\buildkite-windows-cpu-autoscaling-group-i-0b3782d1791676daf-1\\xgboost\\xgboost-ci-windows\\src\\gbm\\gbtree.cc:887: drop 0 trees, weight = 1\n",
      "[01:51:18] INFO: C:\\buildkite-agent\\builds\\buildkite-windows-cpu-autoscaling-group-i-0b3782d1791676daf-1\\xgboost\\xgboost-ci-windows\\src\\gbm\\gbtree.cc:887: drop 0 trees, weight = 1\n",
      "[01:51:18] INFO: C:\\buildkite-agent\\builds\\buildkite-windows-cpu-autoscaling-group-i-0b3782d1791676daf-1\\xgboost\\xgboost-ci-windows\\src\\gbm\\gbtree.cc:887: drop 0 trees, weight = 1\n",
      "[01:51:18] INFO: C:\\buildkite-agent\\builds\\buildkite-windows-cpu-autoscaling-group-i-0b3782d1791676daf-1\\xgboost\\xgboost-ci-windows\\src\\gbm\\gbtree.cc:887: drop 0 trees, weight = 1\n",
      "[01:51:18] INFO: C:\\buildkite-agent\\builds\\buildkite-windows-cpu-autoscaling-group-i-0b3782d1791676daf-1\\xgboost\\xgboost-ci-windows\\src\\gbm\\gbtree.cc:887: drop 0 trees, weight = 1\n",
      "[01:51:18] INFO: C:\\buildkite-agent\\builds\\buildkite-windows-cpu-autoscaling-group-i-0b3782d1791676daf-1\\xgboost\\xgboost-ci-windows\\src\\gbm\\gbtree.cc:887: drop 0 trees, weight = 1\n",
      "[01:51:18] INFO: C:\\buildkite-agent\\builds\\buildkite-windows-cpu-autoscaling-group-i-0b3782d1791676daf-1\\xgboost\\xgboost-ci-windows\\src\\gbm\\gbtree.cc:887: drop 0 trees, weight = 1\n",
      "[01:51:19] INFO: C:\\buildkite-agent\\builds\\buildkite-windows-cpu-autoscaling-group-i-0b3782d1791676daf-1\\xgboost\\xgboost-ci-windows\\src\\gbm\\gbtree.cc:887: drop 0 trees, weight = 1\n",
      "[01:51:19] INFO: C:\\buildkite-agent\\builds\\buildkite-windows-cpu-autoscaling-group-i-0b3782d1791676daf-1\\xgboost\\xgboost-ci-windows\\src\\gbm\\gbtree.cc:887: drop 0 trees, weight = 1\n",
      "[01:51:19] INFO: C:\\buildkite-agent\\builds\\buildkite-windows-cpu-autoscaling-group-i-0b3782d1791676daf-1\\xgboost\\xgboost-ci-windows\\src\\gbm\\gbtree.cc:887: drop 0 trees, weight = 1\n",
      "[01:51:19] INFO: C:\\buildkite-agent\\builds\\buildkite-windows-cpu-autoscaling-group-i-0b3782d1791676daf-1\\xgboost\\xgboost-ci-windows\\src\\gbm\\gbtree.cc:887: drop 0 trees, weight = 1\n",
      "[01:51:19] INFO: C:\\buildkite-agent\\builds\\buildkite-windows-cpu-autoscaling-group-i-0b3782d1791676daf-1\\xgboost\\xgboost-ci-windows\\src\\gbm\\gbtree.cc:887: drop 0 trees, weight = 1\n",
      "[01:51:19] INFO: C:\\buildkite-agent\\builds\\buildkite-windows-cpu-autoscaling-group-i-0b3782d1791676daf-1\\xgboost\\xgboost-ci-windows\\src\\gbm\\gbtree.cc:887: drop 0 trees, weight = 1\n",
      "[01:51:19] INFO: C:\\buildkite-agent\\builds\\buildkite-windows-cpu-autoscaling-group-i-0b3782d1791676daf-1\\xgboost\\xgboost-ci-windows\\src\\gbm\\gbtree.cc:887: drop 0 trees, weight = 1\n",
      "[01:51:19] INFO: C:\\buildkite-agent\\builds\\buildkite-windows-cpu-autoscaling-group-i-0b3782d1791676daf-1\\xgboost\\xgboost-ci-windows\\src\\gbm\\gbtree.cc:887: drop 0 trees, weight = 1\n",
      "[01:51:19] INFO: C:\\buildkite-agent\\builds\\buildkite-windows-cpu-autoscaling-group-i-0b3782d1791676daf-1\\xgboost\\xgboost-ci-windows\\src\\gbm\\gbtree.cc:887: drop 0 trees, weight = 1\n",
      "[01:51:19] INFO: C:\\buildkite-agent\\builds\\buildkite-windows-cpu-autoscaling-group-i-0b3782d1791676daf-1\\xgboost\\xgboost-ci-windows\\src\\gbm\\gbtree.cc:887: drop 0 trees, weight = 1\n",
      "[01:51:19] INFO: C:\\buildkite-agent\\builds\\buildkite-windows-cpu-autoscaling-group-i-0b3782d1791676daf-1\\xgboost\\xgboost-ci-windows\\src\\gbm\\gbtree.cc:887: drop 0 trees, weight = 1\n",
      "[01:51:19] INFO: C:\\buildkite-agent\\builds\\buildkite-windows-cpu-autoscaling-group-i-0b3782d1791676daf-1\\xgboost\\xgboost-ci-windows\\src\\gbm\\gbtree.cc:887: drop 0 trees, weight = 1\n",
      "[01:51:19] INFO: C:\\buildkite-agent\\builds\\buildkite-windows-cpu-autoscaling-group-i-0b3782d1791676daf-1\\xgboost\\xgboost-ci-windows\\src\\gbm\\gbtree.cc:887: drop 0 trees, weight = 1\n",
      "[01:51:19] INFO: C:\\buildkite-agent\\builds\\buildkite-windows-cpu-autoscaling-group-i-0b3782d1791676daf-1\\xgboost\\xgboost-ci-windows\\src\\gbm\\gbtree.cc:887: drop 0 trees, weight = 1\n",
      "[01:51:19] INFO: C:\\buildkite-agent\\builds\\buildkite-windows-cpu-autoscaling-group-i-0b3782d1791676daf-1\\xgboost\\xgboost-ci-windows\\src\\gbm\\gbtree.cc:887: drop 0 trees, weight = 1\n",
      "[01:51:19] INFO: C:\\buildkite-agent\\builds\\buildkite-windows-cpu-autoscaling-group-i-0b3782d1791676daf-1\\xgboost\\xgboost-ci-windows\\src\\gbm\\gbtree.cc:887: drop 0 trees, weight = 1\n",
      "[01:51:19] INFO: C:\\buildkite-agent\\builds\\buildkite-windows-cpu-autoscaling-group-i-0b3782d1791676daf-1\\xgboost\\xgboost-ci-windows\\src\\gbm\\gbtree.cc:887: drop 0 trees, weight = 1\n",
      "[01:51:20] INFO: C:\\buildkite-agent\\builds\\buildkite-windows-cpu-autoscaling-group-i-0b3782d1791676daf-1\\xgboost\\xgboost-ci-windows\\src\\gbm\\gbtree.cc:887: drop 0 trees, weight = 1\n",
      "[01:51:20] INFO: C:\\buildkite-agent\\builds\\buildkite-windows-cpu-autoscaling-group-i-0b3782d1791676daf-1\\xgboost\\xgboost-ci-windows\\src\\gbm\\gbtree.cc:887: drop 0 trees, weight = 1\n",
      "[01:51:20] INFO: C:\\buildkite-agent\\builds\\buildkite-windows-cpu-autoscaling-group-i-0b3782d1791676daf-1\\xgboost\\xgboost-ci-windows\\src\\gbm\\gbtree.cc:887: drop 0 trees, weight = 1\n",
      "[01:51:20] INFO: C:\\buildkite-agent\\builds\\buildkite-windows-cpu-autoscaling-group-i-0b3782d1791676daf-1\\xgboost\\xgboost-ci-windows\\src\\gbm\\gbtree.cc:887: drop 0 trees, weight = 1\n",
      "[01:51:20] INFO: C:\\buildkite-agent\\builds\\buildkite-windows-cpu-autoscaling-group-i-0b3782d1791676daf-1\\xgboost\\xgboost-ci-windows\\src\\gbm\\gbtree.cc:887: drop 0 trees, weight = 1\n",
      "[01:51:20] INFO: C:\\buildkite-agent\\builds\\buildkite-windows-cpu-autoscaling-group-i-0b3782d1791676daf-1\\xgboost\\xgboost-ci-windows\\src\\gbm\\gbtree.cc:887: drop 0 trees, weight = 1\n",
      "[01:51:20] INFO: C:\\buildkite-agent\\builds\\buildkite-windows-cpu-autoscaling-group-i-0b3782d1791676daf-1\\xgboost\\xgboost-ci-windows\\src\\gbm\\gbtree.cc:887: drop 0 trees, weight = 1\n",
      "[01:51:20] INFO: C:\\buildkite-agent\\builds\\buildkite-windows-cpu-autoscaling-group-i-0b3782d1791676daf-1\\xgboost\\xgboost-ci-windows\\src\\gbm\\gbtree.cc:887: drop 0 trees, weight = 1\n",
      "[01:51:20] INFO: C:\\buildkite-agent\\builds\\buildkite-windows-cpu-autoscaling-group-i-0b3782d1791676daf-1\\xgboost\\xgboost-ci-windows\\src\\gbm\\gbtree.cc:887: drop 0 trees, weight = 1\n",
      "[01:51:20] INFO: C:\\buildkite-agent\\builds\\buildkite-windows-cpu-autoscaling-group-i-0b3782d1791676daf-1\\xgboost\\xgboost-ci-windows\\src\\gbm\\gbtree.cc:887: drop 0 trees, weight = 1\n",
      "[01:51:20] INFO: C:\\buildkite-agent\\builds\\buildkite-windows-cpu-autoscaling-group-i-0b3782d1791676daf-1\\xgboost\\xgboost-ci-windows\\src\\gbm\\gbtree.cc:887: drop 0 trees, weight = 1\n",
      "[01:51:20] INFO: C:\\buildkite-agent\\builds\\buildkite-windows-cpu-autoscaling-group-i-0b3782d1791676daf-1\\xgboost\\xgboost-ci-windows\\src\\gbm\\gbtree.cc:887: drop 0 trees, weight = 1\n",
      "[01:51:21] INFO: C:\\buildkite-agent\\builds\\buildkite-windows-cpu-autoscaling-group-i-0b3782d1791676daf-1\\xgboost\\xgboost-ci-windows\\src\\gbm\\gbtree.cc:887: drop 0 trees, weight = 1\n",
      "[01:51:21] INFO: C:\\buildkite-agent\\builds\\buildkite-windows-cpu-autoscaling-group-i-0b3782d1791676daf-1\\xgboost\\xgboost-ci-windows\\src\\gbm\\gbtree.cc:887: drop 0 trees, weight = 1\n",
      "[01:51:21] INFO: C:\\buildkite-agent\\builds\\buildkite-windows-cpu-autoscaling-group-i-0b3782d1791676daf-1\\xgboost\\xgboost-ci-windows\\src\\gbm\\gbtree.cc:887: drop 0 trees, weight = 1\n",
      "[01:51:21] INFO: C:\\buildkite-agent\\builds\\buildkite-windows-cpu-autoscaling-group-i-0b3782d1791676daf-1\\xgboost\\xgboost-ci-windows\\src\\gbm\\gbtree.cc:887: drop 0 trees, weight = 1\n",
      "[01:51:21] INFO: C:\\buildkite-agent\\builds\\buildkite-windows-cpu-autoscaling-group-i-0b3782d1791676daf-1\\xgboost\\xgboost-ci-windows\\src\\gbm\\gbtree.cc:887: drop 0 trees, weight = 1\n",
      "[01:51:21] INFO: C:\\buildkite-agent\\builds\\buildkite-windows-cpu-autoscaling-group-i-0b3782d1791676daf-1\\xgboost\\xgboost-ci-windows\\src\\gbm\\gbtree.cc:887: drop 0 trees, weight = 1\n",
      "[01:51:21] INFO: C:\\buildkite-agent\\builds\\buildkite-windows-cpu-autoscaling-group-i-0b3782d1791676daf-1\\xgboost\\xgboost-ci-windows\\src\\gbm\\gbtree.cc:887: drop 0 trees, weight = 1\n",
      "[01:51:21] INFO: C:\\buildkite-agent\\builds\\buildkite-windows-cpu-autoscaling-group-i-0b3782d1791676daf-1\\xgboost\\xgboost-ci-windows\\src\\gbm\\gbtree.cc:887: drop 0 trees, weight = 1\n",
      "[01:51:21] INFO: C:\\buildkite-agent\\builds\\buildkite-windows-cpu-autoscaling-group-i-0b3782d1791676daf-1\\xgboost\\xgboost-ci-windows\\src\\gbm\\gbtree.cc:887: drop 0 trees, weight = 1\n",
      "[01:51:21] INFO: C:\\buildkite-agent\\builds\\buildkite-windows-cpu-autoscaling-group-i-0b3782d1791676daf-1\\xgboost\\xgboost-ci-windows\\src\\gbm\\gbtree.cc:887: drop 0 trees, weight = 1\n",
      "[01:51:22] INFO: C:\\buildkite-agent\\builds\\buildkite-windows-cpu-autoscaling-group-i-0b3782d1791676daf-1\\xgboost\\xgboost-ci-windows\\src\\gbm\\gbtree.cc:887: drop 0 trees, weight = 1\n",
      "[01:51:22] INFO: C:\\buildkite-agent\\builds\\buildkite-windows-cpu-autoscaling-group-i-0b3782d1791676daf-1\\xgboost\\xgboost-ci-windows\\src\\gbm\\gbtree.cc:887: drop 0 trees, weight = 1\n",
      "[01:51:22] INFO: C:\\buildkite-agent\\builds\\buildkite-windows-cpu-autoscaling-group-i-0b3782d1791676daf-1\\xgboost\\xgboost-ci-windows\\src\\gbm\\gbtree.cc:887: drop 0 trees, weight = 1\n",
      "[01:51:22] INFO: C:\\buildkite-agent\\builds\\buildkite-windows-cpu-autoscaling-group-i-0b3782d1791676daf-1\\xgboost\\xgboost-ci-windows\\src\\gbm\\gbtree.cc:887: drop 0 trees, weight = 1\n",
      "[01:51:22] INFO: C:\\buildkite-agent\\builds\\buildkite-windows-cpu-autoscaling-group-i-0b3782d1791676daf-1\\xgboost\\xgboost-ci-windows\\src\\gbm\\gbtree.cc:887: drop 0 trees, weight = 1\n",
      "[01:51:22] INFO: C:\\buildkite-agent\\builds\\buildkite-windows-cpu-autoscaling-group-i-0b3782d1791676daf-1\\xgboost\\xgboost-ci-windows\\src\\gbm\\gbtree.cc:887: drop 0 trees, weight = 1\n",
      "[01:51:22] INFO: C:\\buildkite-agent\\builds\\buildkite-windows-cpu-autoscaling-group-i-0b3782d1791676daf-1\\xgboost\\xgboost-ci-windows\\src\\gbm\\gbtree.cc:887: drop 0 trees, weight = 1\n",
      "[01:51:22] INFO: C:\\buildkite-agent\\builds\\buildkite-windows-cpu-autoscaling-group-i-0b3782d1791676daf-1\\xgboost\\xgboost-ci-windows\\src\\gbm\\gbtree.cc:887: drop 0 trees, weight = 1\n",
      "[01:51:23] INFO: C:\\buildkite-agent\\builds\\buildkite-windows-cpu-autoscaling-group-i-0b3782d1791676daf-1\\xgboost\\xgboost-ci-windows\\src\\gbm\\gbtree.cc:887: drop 0 trees, weight = 1\n",
      "[01:51:23] INFO: C:\\buildkite-agent\\builds\\buildkite-windows-cpu-autoscaling-group-i-0b3782d1791676daf-1\\xgboost\\xgboost-ci-windows\\src\\gbm\\gbtree.cc:887: drop 0 trees, weight = 1\n",
      "[01:51:23] INFO: C:\\buildkite-agent\\builds\\buildkite-windows-cpu-autoscaling-group-i-0b3782d1791676daf-1\\xgboost\\xgboost-ci-windows\\src\\gbm\\gbtree.cc:887: drop 0 trees, weight = 1\n",
      "[01:51:23] INFO: C:\\buildkite-agent\\builds\\buildkite-windows-cpu-autoscaling-group-i-0b3782d1791676daf-1\\xgboost\\xgboost-ci-windows\\src\\gbm\\gbtree.cc:887: drop 0 trees, weight = 1\n",
      "[01:51:23] INFO: C:\\buildkite-agent\\builds\\buildkite-windows-cpu-autoscaling-group-i-0b3782d1791676daf-1\\xgboost\\xgboost-ci-windows\\src\\gbm\\gbtree.cc:887: drop 0 trees, weight = 1\n",
      "[01:51:23] INFO: C:\\buildkite-agent\\builds\\buildkite-windows-cpu-autoscaling-group-i-0b3782d1791676daf-1\\xgboost\\xgboost-ci-windows\\src\\gbm\\gbtree.cc:887: drop 0 trees, weight = 1\n",
      "[01:51:23] INFO: C:\\buildkite-agent\\builds\\buildkite-windows-cpu-autoscaling-group-i-0b3782d1791676daf-1\\xgboost\\xgboost-ci-windows\\src\\gbm\\gbtree.cc:887: drop 0 trees, weight = 1\n",
      "[01:51:24] INFO: C:\\buildkite-agent\\builds\\buildkite-windows-cpu-autoscaling-group-i-0b3782d1791676daf-1\\xgboost\\xgboost-ci-windows\\src\\gbm\\gbtree.cc:887: drop 0 trees, weight = 1\n",
      "[01:51:24] INFO: C:\\buildkite-agent\\builds\\buildkite-windows-cpu-autoscaling-group-i-0b3782d1791676daf-1\\xgboost\\xgboost-ci-windows\\src\\gbm\\gbtree.cc:887: drop 0 trees, weight = 1\n",
      "[01:51:24] INFO: C:\\buildkite-agent\\builds\\buildkite-windows-cpu-autoscaling-group-i-0b3782d1791676daf-1\\xgboost\\xgboost-ci-windows\\src\\gbm\\gbtree.cc:887: drop 0 trees, weight = 1\n",
      "[01:51:24] INFO: C:\\buildkite-agent\\builds\\buildkite-windows-cpu-autoscaling-group-i-0b3782d1791676daf-1\\xgboost\\xgboost-ci-windows\\src\\gbm\\gbtree.cc:887: drop 0 trees, weight = 1\n",
      "[01:51:24] INFO: C:\\buildkite-agent\\builds\\buildkite-windows-cpu-autoscaling-group-i-0b3782d1791676daf-1\\xgboost\\xgboost-ci-windows\\src\\gbm\\gbtree.cc:887: drop 0 trees, weight = 1\n",
      "[01:51:24] INFO: C:\\buildkite-agent\\builds\\buildkite-windows-cpu-autoscaling-group-i-0b3782d1791676daf-1\\xgboost\\xgboost-ci-windows\\src\\gbm\\gbtree.cc:887: drop 0 trees, weight = 1\n",
      "[01:51:24] INFO: C:\\buildkite-agent\\builds\\buildkite-windows-cpu-autoscaling-group-i-0b3782d1791676daf-1\\xgboost\\xgboost-ci-windows\\src\\gbm\\gbtree.cc:887: drop 0 trees, weight = 1\n",
      "[01:51:25] INFO: C:\\buildkite-agent\\builds\\buildkite-windows-cpu-autoscaling-group-i-0b3782d1791676daf-1\\xgboost\\xgboost-ci-windows\\src\\gbm\\gbtree.cc:887: drop 0 trees, weight = 1\n",
      "[01:51:25] INFO: C:\\buildkite-agent\\builds\\buildkite-windows-cpu-autoscaling-group-i-0b3782d1791676daf-1\\xgboost\\xgboost-ci-windows\\src\\gbm\\gbtree.cc:887: drop 0 trees, weight = 1\n",
      "[01:51:25] INFO: C:\\buildkite-agent\\builds\\buildkite-windows-cpu-autoscaling-group-i-0b3782d1791676daf-1\\xgboost\\xgboost-ci-windows\\src\\gbm\\gbtree.cc:887: drop 0 trees, weight = 1\n",
      "[01:51:25] INFO: C:\\buildkite-agent\\builds\\buildkite-windows-cpu-autoscaling-group-i-0b3782d1791676daf-1\\xgboost\\xgboost-ci-windows\\src\\gbm\\gbtree.cc:887: drop 0 trees, weight = 1\n",
      "[01:51:25] INFO: C:\\buildkite-agent\\builds\\buildkite-windows-cpu-autoscaling-group-i-0b3782d1791676daf-1\\xgboost\\xgboost-ci-windows\\src\\gbm\\gbtree.cc:887: drop 0 trees, weight = 1\n",
      "[01:51:25] INFO: C:\\buildkite-agent\\builds\\buildkite-windows-cpu-autoscaling-group-i-0b3782d1791676daf-1\\xgboost\\xgboost-ci-windows\\src\\gbm\\gbtree.cc:887: drop 0 trees, weight = 1\n",
      "[01:51:25] INFO: C:\\buildkite-agent\\builds\\buildkite-windows-cpu-autoscaling-group-i-0b3782d1791676daf-1\\xgboost\\xgboost-ci-windows\\src\\gbm\\gbtree.cc:887: drop 0 trees, weight = 1\n",
      "[01:51:26] INFO: C:\\buildkite-agent\\builds\\buildkite-windows-cpu-autoscaling-group-i-0b3782d1791676daf-1\\xgboost\\xgboost-ci-windows\\src\\gbm\\gbtree.cc:887: drop 0 trees, weight = 1\n",
      "[01:51:26] INFO: C:\\buildkite-agent\\builds\\buildkite-windows-cpu-autoscaling-group-i-0b3782d1791676daf-1\\xgboost\\xgboost-ci-windows\\src\\gbm\\gbtree.cc:887: drop 0 trees, weight = 1\n",
      "[01:51:26] INFO: C:\\buildkite-agent\\builds\\buildkite-windows-cpu-autoscaling-group-i-0b3782d1791676daf-1\\xgboost\\xgboost-ci-windows\\src\\gbm\\gbtree.cc:887: drop 0 trees, weight = 1\n",
      "[01:51:26] INFO: C:\\buildkite-agent\\builds\\buildkite-windows-cpu-autoscaling-group-i-0b3782d1791676daf-1\\xgboost\\xgboost-ci-windows\\src\\gbm\\gbtree.cc:887: drop 0 trees, weight = 1\n",
      "[01:51:26] INFO: C:\\buildkite-agent\\builds\\buildkite-windows-cpu-autoscaling-group-i-0b3782d1791676daf-1\\xgboost\\xgboost-ci-windows\\src\\gbm\\gbtree.cc:887: drop 0 trees, weight = 1\n",
      "[01:51:26] INFO: C:\\buildkite-agent\\builds\\buildkite-windows-cpu-autoscaling-group-i-0b3782d1791676daf-1\\xgboost\\xgboost-ci-windows\\src\\gbm\\gbtree.cc:887: drop 0 trees, weight = 1\n",
      "[01:51:27] INFO: C:\\buildkite-agent\\builds\\buildkite-windows-cpu-autoscaling-group-i-0b3782d1791676daf-1\\xgboost\\xgboost-ci-windows\\src\\gbm\\gbtree.cc:887: drop 0 trees, weight = 1\n",
      "[01:51:27] INFO: C:\\buildkite-agent\\builds\\buildkite-windows-cpu-autoscaling-group-i-0b3782d1791676daf-1\\xgboost\\xgboost-ci-windows\\src\\gbm\\gbtree.cc:887: drop 0 trees, weight = 1\n",
      "[01:51:27] ======== Monitor (0): Learner ========\n",
      "[01:51:27] Configure: 0.000406s, 1 calls @ 406us\n",
      "\n",
      "[01:51:27] EvalOneIter: 0.000501s, 100 calls @ 501us\n",
      "\n",
      "[01:51:27] GetGradient: 0.049049s, 100 calls @ 49049us\n",
      "\n",
      "[01:51:27] PredictRaw: 8.75616s, 100 calls @ 8756156us\n",
      "\n",
      "[01:51:27] UpdateOneIter: 8.89735s, 100 calls @ 8897353us\n",
      "\n",
      "[01:51:27] ======== Monitor (0): GBTree ========\n",
      "[01:51:27] BoostNewTrees: 0.073588s, 100 calls @ 73588us\n",
      "\n",
      "[01:51:27] ======== Monitor (0): HistUpdater ========\n",
      "[01:51:27] BuildHistogram: 0.003137s, 33 calls @ 3137us\n",
      "\n",
      "[01:51:27] EvaluateSplits: 0.002177s, 133 calls @ 2177us\n",
      "\n",
      "[01:51:27] InitData: 0.014586s, 100 calls @ 14586us\n",
      "\n",
      "[01:51:27] InitRoot: 0.015167s, 100 calls @ 15167us\n",
      "\n",
      "[01:51:27] LeafPartition: 1.1e-05s, 100 calls @ 11us\n",
      "\n",
      "[01:51:27] UpdatePosition: 0.011052s, 39 calls @ 11052us\n",
      "\n",
      "[01:51:27] UpdatePredictionCache: 0.001722s, 100 calls @ 1722us\n",
      "\n",
      "[01:51:27] UpdateTree: 0.045905s, 100 calls @ 45905us\n",
      "\n",
      "[01:51:27] DEBUG: C:\\buildkite-agent\\builds\\buildkite-windows-cpu-autoscaling-group-i-0b3782d1791676daf-1\\xgboost\\xgboost-ci-windows\\src\\gbm\\gbtree.cc:130: Using tree method: 0\n",
      "[01:51:27] ======== Monitor (0): HostSketchContainer ========\n",
      "[01:51:27] AllReduce: 0.001415s, 1 calls @ 1415us\n",
      "\n",
      "[01:51:27] MakeCuts: 0.001532s, 1 calls @ 1532us\n",
      "\n",
      "[01:51:27] DEBUG: C:\\buildkite-agent\\builds\\buildkite-windows-cpu-autoscaling-group-i-0b3782d1791676daf-1\\xgboost\\xgboost-ci-windows\\src\\gbm\\gbtree.cc:130: Using tree method: 0\n",
      "[01:51:27] INFO: C:\\buildkite-agent\\builds\\buildkite-windows-cpu-autoscaling-group-i-0b3782d1791676daf-1\\xgboost\\xgboost-ci-windows\\src\\gbm\\gbtree.cc:887: drop 0 trees, weight = 1\n",
      "[01:51:27] INFO: C:\\buildkite-agent\\builds\\buildkite-windows-cpu-autoscaling-group-i-0b3782d1791676daf-1\\xgboost\\xgboost-ci-windows\\src\\gbm\\gbtree.cc:887: drop 0 trees, weight = 1\n",
      "[01:51:27] INFO: C:\\buildkite-agent\\builds\\buildkite-windows-cpu-autoscaling-group-i-0b3782d1791676daf-1\\xgboost\\xgboost-ci-windows\\src\\gbm\\gbtree.cc:887: drop 0 trees, weight = 1\n",
      "[01:51:27] INFO: C:\\buildkite-agent\\builds\\buildkite-windows-cpu-autoscaling-group-i-0b3782d1791676daf-1\\xgboost\\xgboost-ci-windows\\src\\gbm\\gbtree.cc:887: drop 0 trees, weight = 1\n",
      "[01:51:27] INFO: C:\\buildkite-agent\\builds\\buildkite-windows-cpu-autoscaling-group-i-0b3782d1791676daf-1\\xgboost\\xgboost-ci-windows\\src\\gbm\\gbtree.cc:887: drop 0 trees, weight = 1\n",
      "[01:51:27] INFO: C:\\buildkite-agent\\builds\\buildkite-windows-cpu-autoscaling-group-i-0b3782d1791676daf-1\\xgboost\\xgboost-ci-windows\\src\\gbm\\gbtree.cc:887: drop 0 trees, weight = 1\n",
      "[01:51:27] INFO: C:\\buildkite-agent\\builds\\buildkite-windows-cpu-autoscaling-group-i-0b3782d1791676daf-1\\xgboost\\xgboost-ci-windows\\src\\gbm\\gbtree.cc:887: drop 0 trees, weight = 1\n",
      "[01:51:27] INFO: C:\\buildkite-agent\\builds\\buildkite-windows-cpu-autoscaling-group-i-0b3782d1791676daf-1\\xgboost\\xgboost-ci-windows\\src\\gbm\\gbtree.cc:887: drop 0 trees, weight = 1\n",
      "[01:51:27] INFO: C:\\buildkite-agent\\builds\\buildkite-windows-cpu-autoscaling-group-i-0b3782d1791676daf-1\\xgboost\\xgboost-ci-windows\\src\\gbm\\gbtree.cc:887: drop 0 trees, weight = 1\n",
      "[01:51:27] INFO: C:\\buildkite-agent\\builds\\buildkite-windows-cpu-autoscaling-group-i-0b3782d1791676daf-1\\xgboost\\xgboost-ci-windows\\src\\gbm\\gbtree.cc:887: drop 0 trees, weight = 1\n",
      "[01:51:27] INFO: C:\\buildkite-agent\\builds\\buildkite-windows-cpu-autoscaling-group-i-0b3782d1791676daf-1\\xgboost\\xgboost-ci-windows\\src\\gbm\\gbtree.cc:887: drop 0 trees, weight = 1\n",
      "[01:51:27] INFO: C:\\buildkite-agent\\builds\\buildkite-windows-cpu-autoscaling-group-i-0b3782d1791676daf-1\\xgboost\\xgboost-ci-windows\\src\\gbm\\gbtree.cc:887: drop 0 trees, weight = 1\n",
      "[01:51:27] INFO: C:\\buildkite-agent\\builds\\buildkite-windows-cpu-autoscaling-group-i-0b3782d1791676daf-1\\xgboost\\xgboost-ci-windows\\src\\gbm\\gbtree.cc:887: drop 0 trees, weight = 1\n",
      "[01:51:27] INFO: C:\\buildkite-agent\\builds\\buildkite-windows-cpu-autoscaling-group-i-0b3782d1791676daf-1\\xgboost\\xgboost-ci-windows\\src\\gbm\\gbtree.cc:887: drop 0 trees, weight = 1\n",
      "[01:51:27] INFO: C:\\buildkite-agent\\builds\\buildkite-windows-cpu-autoscaling-group-i-0b3782d1791676daf-1\\xgboost\\xgboost-ci-windows\\src\\gbm\\gbtree.cc:887: drop 0 trees, weight = 1\n",
      "[01:51:27] INFO: C:\\buildkite-agent\\builds\\buildkite-windows-cpu-autoscaling-group-i-0b3782d1791676daf-1\\xgboost\\xgboost-ci-windows\\src\\gbm\\gbtree.cc:887: drop 0 trees, weight = 1\n",
      "[01:51:27] INFO: C:\\buildkite-agent\\builds\\buildkite-windows-cpu-autoscaling-group-i-0b3782d1791676daf-1\\xgboost\\xgboost-ci-windows\\src\\gbm\\gbtree.cc:887: drop 0 trees, weight = 1\n",
      "[01:51:27] INFO: C:\\buildkite-agent\\builds\\buildkite-windows-cpu-autoscaling-group-i-0b3782d1791676daf-1\\xgboost\\xgboost-ci-windows\\src\\gbm\\gbtree.cc:887: drop 0 trees, weight = 1\n",
      "[01:51:27] INFO: C:\\buildkite-agent\\builds\\buildkite-windows-cpu-autoscaling-group-i-0b3782d1791676daf-1\\xgboost\\xgboost-ci-windows\\src\\gbm\\gbtree.cc:887: drop 0 trees, weight = 1\n",
      "[01:51:27] INFO: C:\\buildkite-agent\\builds\\buildkite-windows-cpu-autoscaling-group-i-0b3782d1791676daf-1\\xgboost\\xgboost-ci-windows\\src\\gbm\\gbtree.cc:887: drop 0 trees, weight = 1\n",
      "[01:51:27] INFO: C:\\buildkite-agent\\builds\\buildkite-windows-cpu-autoscaling-group-i-0b3782d1791676daf-1\\xgboost\\xgboost-ci-windows\\src\\gbm\\gbtree.cc:887: drop 0 trees, weight = 1\n",
      "[01:51:27] INFO: C:\\buildkite-agent\\builds\\buildkite-windows-cpu-autoscaling-group-i-0b3782d1791676daf-1\\xgboost\\xgboost-ci-windows\\src\\gbm\\gbtree.cc:887: drop 0 trees, weight = 1\n",
      "[01:51:27] INFO: C:\\buildkite-agent\\builds\\buildkite-windows-cpu-autoscaling-group-i-0b3782d1791676daf-1\\xgboost\\xgboost-ci-windows\\src\\gbm\\gbtree.cc:887: drop 0 trees, weight = 1\n",
      "[01:51:28] INFO: C:\\buildkite-agent\\builds\\buildkite-windows-cpu-autoscaling-group-i-0b3782d1791676daf-1\\xgboost\\xgboost-ci-windows\\src\\gbm\\gbtree.cc:887: drop 0 trees, weight = 1\n",
      "[01:51:28] INFO: C:\\buildkite-agent\\builds\\buildkite-windows-cpu-autoscaling-group-i-0b3782d1791676daf-1\\xgboost\\xgboost-ci-windows\\src\\gbm\\gbtree.cc:887: drop 0 trees, weight = 1\n",
      "[01:51:28] INFO: C:\\buildkite-agent\\builds\\buildkite-windows-cpu-autoscaling-group-i-0b3782d1791676daf-1\\xgboost\\xgboost-ci-windows\\src\\gbm\\gbtree.cc:887: drop 0 trees, weight = 1\n",
      "[01:51:28] INFO: C:\\buildkite-agent\\builds\\buildkite-windows-cpu-autoscaling-group-i-0b3782d1791676daf-1\\xgboost\\xgboost-ci-windows\\src\\gbm\\gbtree.cc:887: drop 0 trees, weight = 1\n",
      "[01:51:28] INFO: C:\\buildkite-agent\\builds\\buildkite-windows-cpu-autoscaling-group-i-0b3782d1791676daf-1\\xgboost\\xgboost-ci-windows\\src\\gbm\\gbtree.cc:887: drop 0 trees, weight = 1\n",
      "[01:51:28] INFO: C:\\buildkite-agent\\builds\\buildkite-windows-cpu-autoscaling-group-i-0b3782d1791676daf-1\\xgboost\\xgboost-ci-windows\\src\\gbm\\gbtree.cc:887: drop 0 trees, weight = 1\n",
      "[01:51:28] INFO: C:\\buildkite-agent\\builds\\buildkite-windows-cpu-autoscaling-group-i-0b3782d1791676daf-1\\xgboost\\xgboost-ci-windows\\src\\gbm\\gbtree.cc:887: drop 0 trees, weight = 1\n",
      "[01:51:28] INFO: C:\\buildkite-agent\\builds\\buildkite-windows-cpu-autoscaling-group-i-0b3782d1791676daf-1\\xgboost\\xgboost-ci-windows\\src\\gbm\\gbtree.cc:887: drop 0 trees, weight = 1\n",
      "[01:51:28] INFO: C:\\buildkite-agent\\builds\\buildkite-windows-cpu-autoscaling-group-i-0b3782d1791676daf-1\\xgboost\\xgboost-ci-windows\\src\\gbm\\gbtree.cc:887: drop 0 trees, weight = 1\n",
      "[01:51:28] INFO: C:\\buildkite-agent\\builds\\buildkite-windows-cpu-autoscaling-group-i-0b3782d1791676daf-1\\xgboost\\xgboost-ci-windows\\src\\gbm\\gbtree.cc:887: drop 0 trees, weight = 1\n",
      "[01:51:28] INFO: C:\\buildkite-agent\\builds\\buildkite-windows-cpu-autoscaling-group-i-0b3782d1791676daf-1\\xgboost\\xgboost-ci-windows\\src\\gbm\\gbtree.cc:887: drop 0 trees, weight = 1\n",
      "[01:51:28] INFO: C:\\buildkite-agent\\builds\\buildkite-windows-cpu-autoscaling-group-i-0b3782d1791676daf-1\\xgboost\\xgboost-ci-windows\\src\\gbm\\gbtree.cc:887: drop 0 trees, weight = 1\n",
      "[01:51:28] INFO: C:\\buildkite-agent\\builds\\buildkite-windows-cpu-autoscaling-group-i-0b3782d1791676daf-1\\xgboost\\xgboost-ci-windows\\src\\gbm\\gbtree.cc:887: drop 0 trees, weight = 1\n",
      "[01:51:28] INFO: C:\\buildkite-agent\\builds\\buildkite-windows-cpu-autoscaling-group-i-0b3782d1791676daf-1\\xgboost\\xgboost-ci-windows\\src\\gbm\\gbtree.cc:887: drop 0 trees, weight = 1\n",
      "[01:51:28] INFO: C:\\buildkite-agent\\builds\\buildkite-windows-cpu-autoscaling-group-i-0b3782d1791676daf-1\\xgboost\\xgboost-ci-windows\\src\\gbm\\gbtree.cc:887: drop 0 trees, weight = 1\n",
      "[01:51:28] INFO: C:\\buildkite-agent\\builds\\buildkite-windows-cpu-autoscaling-group-i-0b3782d1791676daf-1\\xgboost\\xgboost-ci-windows\\src\\gbm\\gbtree.cc:887: drop 0 trees, weight = 1\n",
      "[01:51:28] INFO: C:\\buildkite-agent\\builds\\buildkite-windows-cpu-autoscaling-group-i-0b3782d1791676daf-1\\xgboost\\xgboost-ci-windows\\src\\gbm\\gbtree.cc:887: drop 0 trees, weight = 1\n",
      "[01:51:28] INFO: C:\\buildkite-agent\\builds\\buildkite-windows-cpu-autoscaling-group-i-0b3782d1791676daf-1\\xgboost\\xgboost-ci-windows\\src\\gbm\\gbtree.cc:887: drop 0 trees, weight = 1\n",
      "[01:51:29] INFO: C:\\buildkite-agent\\builds\\buildkite-windows-cpu-autoscaling-group-i-0b3782d1791676daf-1\\xgboost\\xgboost-ci-windows\\src\\gbm\\gbtree.cc:887: drop 0 trees, weight = 1\n",
      "[01:51:29] INFO: C:\\buildkite-agent\\builds\\buildkite-windows-cpu-autoscaling-group-i-0b3782d1791676daf-1\\xgboost\\xgboost-ci-windows\\src\\gbm\\gbtree.cc:887: drop 0 trees, weight = 1\n",
      "[01:51:29] INFO: C:\\buildkite-agent\\builds\\buildkite-windows-cpu-autoscaling-group-i-0b3782d1791676daf-1\\xgboost\\xgboost-ci-windows\\src\\gbm\\gbtree.cc:887: drop 0 trees, weight = 1\n",
      "[01:51:29] INFO: C:\\buildkite-agent\\builds\\buildkite-windows-cpu-autoscaling-group-i-0b3782d1791676daf-1\\xgboost\\xgboost-ci-windows\\src\\gbm\\gbtree.cc:887: drop 0 trees, weight = 1\n",
      "[01:51:29] INFO: C:\\buildkite-agent\\builds\\buildkite-windows-cpu-autoscaling-group-i-0b3782d1791676daf-1\\xgboost\\xgboost-ci-windows\\src\\gbm\\gbtree.cc:887: drop 0 trees, weight = 1\n",
      "[01:51:29] INFO: C:\\buildkite-agent\\builds\\buildkite-windows-cpu-autoscaling-group-i-0b3782d1791676daf-1\\xgboost\\xgboost-ci-windows\\src\\gbm\\gbtree.cc:887: drop 0 trees, weight = 1\n",
      "[01:51:29] INFO: C:\\buildkite-agent\\builds\\buildkite-windows-cpu-autoscaling-group-i-0b3782d1791676daf-1\\xgboost\\xgboost-ci-windows\\src\\gbm\\gbtree.cc:887: drop 0 trees, weight = 1\n",
      "[01:51:29] INFO: C:\\buildkite-agent\\builds\\buildkite-windows-cpu-autoscaling-group-i-0b3782d1791676daf-1\\xgboost\\xgboost-ci-windows\\src\\gbm\\gbtree.cc:887: drop 0 trees, weight = 1\n",
      "[01:51:29] INFO: C:\\buildkite-agent\\builds\\buildkite-windows-cpu-autoscaling-group-i-0b3782d1791676daf-1\\xgboost\\xgboost-ci-windows\\src\\gbm\\gbtree.cc:887: drop 0 trees, weight = 1\n",
      "[01:51:29] INFO: C:\\buildkite-agent\\builds\\buildkite-windows-cpu-autoscaling-group-i-0b3782d1791676daf-1\\xgboost\\xgboost-ci-windows\\src\\gbm\\gbtree.cc:887: drop 0 trees, weight = 1\n",
      "[01:51:29] INFO: C:\\buildkite-agent\\builds\\buildkite-windows-cpu-autoscaling-group-i-0b3782d1791676daf-1\\xgboost\\xgboost-ci-windows\\src\\gbm\\gbtree.cc:887: drop 0 trees, weight = 1\n",
      "[01:51:29] INFO: C:\\buildkite-agent\\builds\\buildkite-windows-cpu-autoscaling-group-i-0b3782d1791676daf-1\\xgboost\\xgboost-ci-windows\\src\\gbm\\gbtree.cc:887: drop 0 trees, weight = 1\n",
      "[01:51:29] INFO: C:\\buildkite-agent\\builds\\buildkite-windows-cpu-autoscaling-group-i-0b3782d1791676daf-1\\xgboost\\xgboost-ci-windows\\src\\gbm\\gbtree.cc:887: drop 0 trees, weight = 1\n",
      "[01:51:30] INFO: C:\\buildkite-agent\\builds\\buildkite-windows-cpu-autoscaling-group-i-0b3782d1791676daf-1\\xgboost\\xgboost-ci-windows\\src\\gbm\\gbtree.cc:887: drop 0 trees, weight = 1\n",
      "[01:51:30] INFO: C:\\buildkite-agent\\builds\\buildkite-windows-cpu-autoscaling-group-i-0b3782d1791676daf-1\\xgboost\\xgboost-ci-windows\\src\\gbm\\gbtree.cc:887: drop 0 trees, weight = 1\n",
      "[01:51:30] INFO: C:\\buildkite-agent\\builds\\buildkite-windows-cpu-autoscaling-group-i-0b3782d1791676daf-1\\xgboost\\xgboost-ci-windows\\src\\gbm\\gbtree.cc:887: drop 0 trees, weight = 1\n",
      "[01:51:30] INFO: C:\\buildkite-agent\\builds\\buildkite-windows-cpu-autoscaling-group-i-0b3782d1791676daf-1\\xgboost\\xgboost-ci-windows\\src\\gbm\\gbtree.cc:887: drop 0 trees, weight = 1\n",
      "[01:51:30] INFO: C:\\buildkite-agent\\builds\\buildkite-windows-cpu-autoscaling-group-i-0b3782d1791676daf-1\\xgboost\\xgboost-ci-windows\\src\\gbm\\gbtree.cc:887: drop 0 trees, weight = 1\n",
      "[01:51:30] INFO: C:\\buildkite-agent\\builds\\buildkite-windows-cpu-autoscaling-group-i-0b3782d1791676daf-1\\xgboost\\xgboost-ci-windows\\src\\gbm\\gbtree.cc:887: drop 0 trees, weight = 1\n",
      "[01:51:30] INFO: C:\\buildkite-agent\\builds\\buildkite-windows-cpu-autoscaling-group-i-0b3782d1791676daf-1\\xgboost\\xgboost-ci-windows\\src\\gbm\\gbtree.cc:887: drop 0 trees, weight = 1\n",
      "[01:51:30] INFO: C:\\buildkite-agent\\builds\\buildkite-windows-cpu-autoscaling-group-i-0b3782d1791676daf-1\\xgboost\\xgboost-ci-windows\\src\\gbm\\gbtree.cc:887: drop 0 trees, weight = 1\n",
      "[01:51:30] INFO: C:\\buildkite-agent\\builds\\buildkite-windows-cpu-autoscaling-group-i-0b3782d1791676daf-1\\xgboost\\xgboost-ci-windows\\src\\gbm\\gbtree.cc:887: drop 0 trees, weight = 1\n",
      "[01:51:30] INFO: C:\\buildkite-agent\\builds\\buildkite-windows-cpu-autoscaling-group-i-0b3782d1791676daf-1\\xgboost\\xgboost-ci-windows\\src\\gbm\\gbtree.cc:887: drop 0 trees, weight = 1\n",
      "[01:51:31] INFO: C:\\buildkite-agent\\builds\\buildkite-windows-cpu-autoscaling-group-i-0b3782d1791676daf-1\\xgboost\\xgboost-ci-windows\\src\\gbm\\gbtree.cc:887: drop 0 trees, weight = 1\n",
      "[01:51:31] INFO: C:\\buildkite-agent\\builds\\buildkite-windows-cpu-autoscaling-group-i-0b3782d1791676daf-1\\xgboost\\xgboost-ci-windows\\src\\gbm\\gbtree.cc:887: drop 0 trees, weight = 1\n",
      "[01:51:31] INFO: C:\\buildkite-agent\\builds\\buildkite-windows-cpu-autoscaling-group-i-0b3782d1791676daf-1\\xgboost\\xgboost-ci-windows\\src\\gbm\\gbtree.cc:887: drop 0 trees, weight = 1\n",
      "[01:51:31] INFO: C:\\buildkite-agent\\builds\\buildkite-windows-cpu-autoscaling-group-i-0b3782d1791676daf-1\\xgboost\\xgboost-ci-windows\\src\\gbm\\gbtree.cc:887: drop 0 trees, weight = 1\n",
      "[01:51:31] INFO: C:\\buildkite-agent\\builds\\buildkite-windows-cpu-autoscaling-group-i-0b3782d1791676daf-1\\xgboost\\xgboost-ci-windows\\src\\gbm\\gbtree.cc:887: drop 0 trees, weight = 1\n",
      "[01:51:31] INFO: C:\\buildkite-agent\\builds\\buildkite-windows-cpu-autoscaling-group-i-0b3782d1791676daf-1\\xgboost\\xgboost-ci-windows\\src\\gbm\\gbtree.cc:887: drop 0 trees, weight = 1\n",
      "[01:51:31] INFO: C:\\buildkite-agent\\builds\\buildkite-windows-cpu-autoscaling-group-i-0b3782d1791676daf-1\\xgboost\\xgboost-ci-windows\\src\\gbm\\gbtree.cc:887: drop 0 trees, weight = 1\n",
      "[01:51:31] INFO: C:\\buildkite-agent\\builds\\buildkite-windows-cpu-autoscaling-group-i-0b3782d1791676daf-1\\xgboost\\xgboost-ci-windows\\src\\gbm\\gbtree.cc:887: drop 0 trees, weight = 1\n",
      "[01:51:31] INFO: C:\\buildkite-agent\\builds\\buildkite-windows-cpu-autoscaling-group-i-0b3782d1791676daf-1\\xgboost\\xgboost-ci-windows\\src\\gbm\\gbtree.cc:887: drop 0 trees, weight = 1\n",
      "[01:51:32] INFO: C:\\buildkite-agent\\builds\\buildkite-windows-cpu-autoscaling-group-i-0b3782d1791676daf-1\\xgboost\\xgboost-ci-windows\\src\\gbm\\gbtree.cc:887: drop 0 trees, weight = 1\n",
      "[01:51:32] INFO: C:\\buildkite-agent\\builds\\buildkite-windows-cpu-autoscaling-group-i-0b3782d1791676daf-1\\xgboost\\xgboost-ci-windows\\src\\gbm\\gbtree.cc:887: drop 0 trees, weight = 1\n",
      "[01:51:32] INFO: C:\\buildkite-agent\\builds\\buildkite-windows-cpu-autoscaling-group-i-0b3782d1791676daf-1\\xgboost\\xgboost-ci-windows\\src\\gbm\\gbtree.cc:887: drop 0 trees, weight = 1\n",
      "[01:51:32] INFO: C:\\buildkite-agent\\builds\\buildkite-windows-cpu-autoscaling-group-i-0b3782d1791676daf-1\\xgboost\\xgboost-ci-windows\\src\\gbm\\gbtree.cc:887: drop 0 trees, weight = 1\n",
      "[01:51:32] INFO: C:\\buildkite-agent\\builds\\buildkite-windows-cpu-autoscaling-group-i-0b3782d1791676daf-1\\xgboost\\xgboost-ci-windows\\src\\gbm\\gbtree.cc:887: drop 0 trees, weight = 1\n",
      "[01:51:32] INFO: C:\\buildkite-agent\\builds\\buildkite-windows-cpu-autoscaling-group-i-0b3782d1791676daf-1\\xgboost\\xgboost-ci-windows\\src\\gbm\\gbtree.cc:887: drop 0 trees, weight = 1\n",
      "[01:51:32] INFO: C:\\buildkite-agent\\builds\\buildkite-windows-cpu-autoscaling-group-i-0b3782d1791676daf-1\\xgboost\\xgboost-ci-windows\\src\\gbm\\gbtree.cc:887: drop 0 trees, weight = 1\n",
      "[01:51:32] INFO: C:\\buildkite-agent\\builds\\buildkite-windows-cpu-autoscaling-group-i-0b3782d1791676daf-1\\xgboost\\xgboost-ci-windows\\src\\gbm\\gbtree.cc:887: drop 0 trees, weight = 1\n",
      "[01:51:33] INFO: C:\\buildkite-agent\\builds\\buildkite-windows-cpu-autoscaling-group-i-0b3782d1791676daf-1\\xgboost\\xgboost-ci-windows\\src\\gbm\\gbtree.cc:887: drop 0 trees, weight = 1\n",
      "[01:51:33] INFO: C:\\buildkite-agent\\builds\\buildkite-windows-cpu-autoscaling-group-i-0b3782d1791676daf-1\\xgboost\\xgboost-ci-windows\\src\\gbm\\gbtree.cc:887: drop 0 trees, weight = 1\n",
      "[01:51:33] INFO: C:\\buildkite-agent\\builds\\buildkite-windows-cpu-autoscaling-group-i-0b3782d1791676daf-1\\xgboost\\xgboost-ci-windows\\src\\gbm\\gbtree.cc:887: drop 0 trees, weight = 1\n",
      "[01:51:33] INFO: C:\\buildkite-agent\\builds\\buildkite-windows-cpu-autoscaling-group-i-0b3782d1791676daf-1\\xgboost\\xgboost-ci-windows\\src\\gbm\\gbtree.cc:887: drop 0 trees, weight = 1\n",
      "[01:51:33] INFO: C:\\buildkite-agent\\builds\\buildkite-windows-cpu-autoscaling-group-i-0b3782d1791676daf-1\\xgboost\\xgboost-ci-windows\\src\\gbm\\gbtree.cc:887: drop 0 trees, weight = 1\n",
      "[01:51:34] INFO: C:\\buildkite-agent\\builds\\buildkite-windows-cpu-autoscaling-group-i-0b3782d1791676daf-1\\xgboost\\xgboost-ci-windows\\src\\gbm\\gbtree.cc:887: drop 0 trees, weight = 1\n",
      "[01:51:34] INFO: C:\\buildkite-agent\\builds\\buildkite-windows-cpu-autoscaling-group-i-0b3782d1791676daf-1\\xgboost\\xgboost-ci-windows\\src\\gbm\\gbtree.cc:887: drop 0 trees, weight = 1\n",
      "[01:51:34] INFO: C:\\buildkite-agent\\builds\\buildkite-windows-cpu-autoscaling-group-i-0b3782d1791676daf-1\\xgboost\\xgboost-ci-windows\\src\\gbm\\gbtree.cc:887: drop 0 trees, weight = 1\n",
      "[01:51:34] INFO: C:\\buildkite-agent\\builds\\buildkite-windows-cpu-autoscaling-group-i-0b3782d1791676daf-1\\xgboost\\xgboost-ci-windows\\src\\gbm\\gbtree.cc:887: drop 0 trees, weight = 1\n",
      "[01:51:34] INFO: C:\\buildkite-agent\\builds\\buildkite-windows-cpu-autoscaling-group-i-0b3782d1791676daf-1\\xgboost\\xgboost-ci-windows\\src\\gbm\\gbtree.cc:887: drop 0 trees, weight = 1\n",
      "[01:51:34] INFO: C:\\buildkite-agent\\builds\\buildkite-windows-cpu-autoscaling-group-i-0b3782d1791676daf-1\\xgboost\\xgboost-ci-windows\\src\\gbm\\gbtree.cc:887: drop 0 trees, weight = 1\n",
      "[01:51:34] INFO: C:\\buildkite-agent\\builds\\buildkite-windows-cpu-autoscaling-group-i-0b3782d1791676daf-1\\xgboost\\xgboost-ci-windows\\src\\gbm\\gbtree.cc:887: drop 0 trees, weight = 1\n",
      "[01:51:35] INFO: C:\\buildkite-agent\\builds\\buildkite-windows-cpu-autoscaling-group-i-0b3782d1791676daf-1\\xgboost\\xgboost-ci-windows\\src\\gbm\\gbtree.cc:887: drop 0 trees, weight = 1\n",
      "[01:51:35] INFO: C:\\buildkite-agent\\builds\\buildkite-windows-cpu-autoscaling-group-i-0b3782d1791676daf-1\\xgboost\\xgboost-ci-windows\\src\\gbm\\gbtree.cc:887: drop 0 trees, weight = 1\n",
      "[01:51:35] INFO: C:\\buildkite-agent\\builds\\buildkite-windows-cpu-autoscaling-group-i-0b3782d1791676daf-1\\xgboost\\xgboost-ci-windows\\src\\gbm\\gbtree.cc:887: drop 0 trees, weight = 1\n",
      "[01:51:35] INFO: C:\\buildkite-agent\\builds\\buildkite-windows-cpu-autoscaling-group-i-0b3782d1791676daf-1\\xgboost\\xgboost-ci-windows\\src\\gbm\\gbtree.cc:887: drop 0 trees, weight = 1\n",
      "[01:51:35] INFO: C:\\buildkite-agent\\builds\\buildkite-windows-cpu-autoscaling-group-i-0b3782d1791676daf-1\\xgboost\\xgboost-ci-windows\\src\\gbm\\gbtree.cc:887: drop 0 trees, weight = 1\n",
      "[01:51:35] INFO: C:\\buildkite-agent\\builds\\buildkite-windows-cpu-autoscaling-group-i-0b3782d1791676daf-1\\xgboost\\xgboost-ci-windows\\src\\gbm\\gbtree.cc:887: drop 0 trees, weight = 1\n",
      "[01:51:36] INFO: C:\\buildkite-agent\\builds\\buildkite-windows-cpu-autoscaling-group-i-0b3782d1791676daf-1\\xgboost\\xgboost-ci-windows\\src\\gbm\\gbtree.cc:887: drop 0 trees, weight = 1\n",
      "[01:51:36] ======== Monitor (0): Learner ========\n",
      "[01:51:36] Configure: 0.000365s, 1 calls @ 365us\n",
      "\n",
      "[01:51:36] EvalOneIter: 0.000504s, 100 calls @ 504us\n",
      "\n",
      "[01:51:36] GetGradient: 0.053177s, 100 calls @ 53177us\n",
      "\n",
      "[01:51:36] PredictRaw: 8.40686s, 100 calls @ 8406857us\n",
      "\n",
      "[01:51:36] UpdateOneIter: 8.55027s, 100 calls @ 8550272us\n",
      "\n",
      "[01:51:36] ======== Monitor (0): GBTree ========\n",
      "[01:51:36] BoostNewTrees: 0.072225s, 100 calls @ 72225us\n",
      "\n",
      "[01:51:36] ======== Monitor (0): HistUpdater ========\n",
      "[01:51:36] BuildHistogram: 0.002606s, 25 calls @ 2606us\n",
      "\n",
      "[01:51:36] EvaluateSplits: 0.00179s, 125 calls @ 1790us\n",
      "\n",
      "[01:51:36] InitData: 0.01493s, 100 calls @ 14930us\n",
      "\n",
      "[01:51:36] InitRoot: 0.015703s, 100 calls @ 15703us\n",
      "\n",
      "[01:51:36] LeafPartition: 1e-05s, 100 calls @ 10us\n",
      "\n",
      "[01:51:36] UpdatePosition: 0.00841s, 30 calls @ 8410us\n",
      "\n",
      "[01:51:36] UpdatePredictionCache: 0.001692s, 100 calls @ 1692us\n",
      "\n",
      "[01:51:36] UpdateTree: 0.04319s, 100 calls @ 43190us\n",
      "\n",
      "[01:51:36] DEBUG: C:\\buildkite-agent\\builds\\buildkite-windows-cpu-autoscaling-group-i-0b3782d1791676daf-1\\xgboost\\xgboost-ci-windows\\src\\gbm\\gbtree.cc:130: Using tree method: 0\n",
      "[01:51:36] ======== Monitor (0): HostSketchContainer ========\n",
      "[01:51:36] AllReduce: 0.001677s, 1 calls @ 1677us\n",
      "\n",
      "[01:51:36] MakeCuts: 0.001722s, 1 calls @ 1722us\n",
      "\n",
      "[01:51:36] DEBUG: C:\\buildkite-agent\\builds\\buildkite-windows-cpu-autoscaling-group-i-0b3782d1791676daf-1\\xgboost\\xgboost-ci-windows\\src\\gbm\\gbtree.cc:130: Using tree method: 0\n",
      "[01:51:36] INFO: C:\\buildkite-agent\\builds\\buildkite-windows-cpu-autoscaling-group-i-0b3782d1791676daf-1\\xgboost\\xgboost-ci-windows\\src\\gbm\\gbtree.cc:887: drop 0 trees, weight = 1\n",
      "[01:51:36] INFO: C:\\buildkite-agent\\builds\\buildkite-windows-cpu-autoscaling-group-i-0b3782d1791676daf-1\\xgboost\\xgboost-ci-windows\\src\\gbm\\gbtree.cc:887: drop 0 trees, weight = 1\n",
      "[01:51:36] INFO: C:\\buildkite-agent\\builds\\buildkite-windows-cpu-autoscaling-group-i-0b3782d1791676daf-1\\xgboost\\xgboost-ci-windows\\src\\gbm\\gbtree.cc:887: drop 0 trees, weight = 1\n",
      "[01:51:36] INFO: C:\\buildkite-agent\\builds\\buildkite-windows-cpu-autoscaling-group-i-0b3782d1791676daf-1\\xgboost\\xgboost-ci-windows\\src\\gbm\\gbtree.cc:887: drop 0 trees, weight = 1\n",
      "[01:51:36] INFO: C:\\buildkite-agent\\builds\\buildkite-windows-cpu-autoscaling-group-i-0b3782d1791676daf-1\\xgboost\\xgboost-ci-windows\\src\\gbm\\gbtree.cc:887: drop 0 trees, weight = 1\n",
      "[01:51:36] INFO: C:\\buildkite-agent\\builds\\buildkite-windows-cpu-autoscaling-group-i-0b3782d1791676daf-1\\xgboost\\xgboost-ci-windows\\src\\gbm\\gbtree.cc:887: drop 0 trees, weight = 1\n",
      "[01:51:36] INFO: C:\\buildkite-agent\\builds\\buildkite-windows-cpu-autoscaling-group-i-0b3782d1791676daf-1\\xgboost\\xgboost-ci-windows\\src\\gbm\\gbtree.cc:887: drop 0 trees, weight = 1\n",
      "[01:51:36] INFO: C:\\buildkite-agent\\builds\\buildkite-windows-cpu-autoscaling-group-i-0b3782d1791676daf-1\\xgboost\\xgboost-ci-windows\\src\\gbm\\gbtree.cc:887: drop 0 trees, weight = 1\n",
      "[01:51:36] INFO: C:\\buildkite-agent\\builds\\buildkite-windows-cpu-autoscaling-group-i-0b3782d1791676daf-1\\xgboost\\xgboost-ci-windows\\src\\gbm\\gbtree.cc:887: drop 0 trees, weight = 1\n",
      "[01:51:36] INFO: C:\\buildkite-agent\\builds\\buildkite-windows-cpu-autoscaling-group-i-0b3782d1791676daf-1\\xgboost\\xgboost-ci-windows\\src\\gbm\\gbtree.cc:887: drop 0 trees, weight = 1\n",
      "[01:51:36] INFO: C:\\buildkite-agent\\builds\\buildkite-windows-cpu-autoscaling-group-i-0b3782d1791676daf-1\\xgboost\\xgboost-ci-windows\\src\\gbm\\gbtree.cc:887: drop 0 trees, weight = 1\n",
      "[01:51:36] INFO: C:\\buildkite-agent\\builds\\buildkite-windows-cpu-autoscaling-group-i-0b3782d1791676daf-1\\xgboost\\xgboost-ci-windows\\src\\gbm\\gbtree.cc:887: drop 0 trees, weight = 1\n",
      "[01:51:36] INFO: C:\\buildkite-agent\\builds\\buildkite-windows-cpu-autoscaling-group-i-0b3782d1791676daf-1\\xgboost\\xgboost-ci-windows\\src\\gbm\\gbtree.cc:887: drop 0 trees, weight = 1\n",
      "[01:51:36] INFO: C:\\buildkite-agent\\builds\\buildkite-windows-cpu-autoscaling-group-i-0b3782d1791676daf-1\\xgboost\\xgboost-ci-windows\\src\\gbm\\gbtree.cc:887: drop 0 trees, weight = 1\n",
      "[01:51:36] INFO: C:\\buildkite-agent\\builds\\buildkite-windows-cpu-autoscaling-group-i-0b3782d1791676daf-1\\xgboost\\xgboost-ci-windows\\src\\gbm\\gbtree.cc:887: drop 0 trees, weight = 1\n",
      "[01:51:36] INFO: C:\\buildkite-agent\\builds\\buildkite-windows-cpu-autoscaling-group-i-0b3782d1791676daf-1\\xgboost\\xgboost-ci-windows\\src\\gbm\\gbtree.cc:887: drop 0 trees, weight = 1\n",
      "[01:51:36] INFO: C:\\buildkite-agent\\builds\\buildkite-windows-cpu-autoscaling-group-i-0b3782d1791676daf-1\\xgboost\\xgboost-ci-windows\\src\\gbm\\gbtree.cc:887: drop 0 trees, weight = 1\n",
      "[01:51:36] INFO: C:\\buildkite-agent\\builds\\buildkite-windows-cpu-autoscaling-group-i-0b3782d1791676daf-1\\xgboost\\xgboost-ci-windows\\src\\gbm\\gbtree.cc:887: drop 0 trees, weight = 1\n",
      "[01:51:36] INFO: C:\\buildkite-agent\\builds\\buildkite-windows-cpu-autoscaling-group-i-0b3782d1791676daf-1\\xgboost\\xgboost-ci-windows\\src\\gbm\\gbtree.cc:887: drop 0 trees, weight = 1\n",
      "[01:51:36] INFO: C:\\buildkite-agent\\builds\\buildkite-windows-cpu-autoscaling-group-i-0b3782d1791676daf-1\\xgboost\\xgboost-ci-windows\\src\\gbm\\gbtree.cc:887: drop 0 trees, weight = 1\n",
      "[01:51:36] INFO: C:\\buildkite-agent\\builds\\buildkite-windows-cpu-autoscaling-group-i-0b3782d1791676daf-1\\xgboost\\xgboost-ci-windows\\src\\gbm\\gbtree.cc:887: drop 0 trees, weight = 1\n",
      "[01:51:36] INFO: C:\\buildkite-agent\\builds\\buildkite-windows-cpu-autoscaling-group-i-0b3782d1791676daf-1\\xgboost\\xgboost-ci-windows\\src\\gbm\\gbtree.cc:887: drop 0 trees, weight = 1\n",
      "[01:51:36] INFO: C:\\buildkite-agent\\builds\\buildkite-windows-cpu-autoscaling-group-i-0b3782d1791676daf-1\\xgboost\\xgboost-ci-windows\\src\\gbm\\gbtree.cc:887: drop 0 trees, weight = 1\n",
      "[01:51:36] INFO: C:\\buildkite-agent\\builds\\buildkite-windows-cpu-autoscaling-group-i-0b3782d1791676daf-1\\xgboost\\xgboost-ci-windows\\src\\gbm\\gbtree.cc:887: drop 0 trees, weight = 1\n",
      "[01:51:36] INFO: C:\\buildkite-agent\\builds\\buildkite-windows-cpu-autoscaling-group-i-0b3782d1791676daf-1\\xgboost\\xgboost-ci-windows\\src\\gbm\\gbtree.cc:887: drop 0 trees, weight = 1\n",
      "[01:51:36] INFO: C:\\buildkite-agent\\builds\\buildkite-windows-cpu-autoscaling-group-i-0b3782d1791676daf-1\\xgboost\\xgboost-ci-windows\\src\\gbm\\gbtree.cc:887: drop 0 trees, weight = 1\n",
      "[01:51:36] INFO: C:\\buildkite-agent\\builds\\buildkite-windows-cpu-autoscaling-group-i-0b3782d1791676daf-1\\xgboost\\xgboost-ci-windows\\src\\gbm\\gbtree.cc:887: drop 0 trees, weight = 1\n",
      "[01:51:36] INFO: C:\\buildkite-agent\\builds\\buildkite-windows-cpu-autoscaling-group-i-0b3782d1791676daf-1\\xgboost\\xgboost-ci-windows\\src\\gbm\\gbtree.cc:887: drop 0 trees, weight = 1\n",
      "[01:51:37] INFO: C:\\buildkite-agent\\builds\\buildkite-windows-cpu-autoscaling-group-i-0b3782d1791676daf-1\\xgboost\\xgboost-ci-windows\\src\\gbm\\gbtree.cc:887: drop 0 trees, weight = 1\n",
      "[01:51:37] INFO: C:\\buildkite-agent\\builds\\buildkite-windows-cpu-autoscaling-group-i-0b3782d1791676daf-1\\xgboost\\xgboost-ci-windows\\src\\gbm\\gbtree.cc:887: drop 0 trees, weight = 1\n",
      "[01:51:37] INFO: C:\\buildkite-agent\\builds\\buildkite-windows-cpu-autoscaling-group-i-0b3782d1791676daf-1\\xgboost\\xgboost-ci-windows\\src\\gbm\\gbtree.cc:887: drop 0 trees, weight = 1\n",
      "[01:51:37] INFO: C:\\buildkite-agent\\builds\\buildkite-windows-cpu-autoscaling-group-i-0b3782d1791676daf-1\\xgboost\\xgboost-ci-windows\\src\\gbm\\gbtree.cc:887: drop 0 trees, weight = 1\n",
      "[01:51:37] INFO: C:\\buildkite-agent\\builds\\buildkite-windows-cpu-autoscaling-group-i-0b3782d1791676daf-1\\xgboost\\xgboost-ci-windows\\src\\gbm\\gbtree.cc:887: drop 0 trees, weight = 1\n",
      "[01:51:37] INFO: C:\\buildkite-agent\\builds\\buildkite-windows-cpu-autoscaling-group-i-0b3782d1791676daf-1\\xgboost\\xgboost-ci-windows\\src\\gbm\\gbtree.cc:887: drop 0 trees, weight = 1\n",
      "[01:51:37] INFO: C:\\buildkite-agent\\builds\\buildkite-windows-cpu-autoscaling-group-i-0b3782d1791676daf-1\\xgboost\\xgboost-ci-windows\\src\\gbm\\gbtree.cc:887: drop 0 trees, weight = 1\n",
      "[01:51:37] INFO: C:\\buildkite-agent\\builds\\buildkite-windows-cpu-autoscaling-group-i-0b3782d1791676daf-1\\xgboost\\xgboost-ci-windows\\src\\gbm\\gbtree.cc:887: drop 0 trees, weight = 1\n",
      "[01:51:37] INFO: C:\\buildkite-agent\\builds\\buildkite-windows-cpu-autoscaling-group-i-0b3782d1791676daf-1\\xgboost\\xgboost-ci-windows\\src\\gbm\\gbtree.cc:887: drop 0 trees, weight = 1\n",
      "[01:51:37] INFO: C:\\buildkite-agent\\builds\\buildkite-windows-cpu-autoscaling-group-i-0b3782d1791676daf-1\\xgboost\\xgboost-ci-windows\\src\\gbm\\gbtree.cc:887: drop 0 trees, weight = 1\n",
      "[01:51:37] INFO: C:\\buildkite-agent\\builds\\buildkite-windows-cpu-autoscaling-group-i-0b3782d1791676daf-1\\xgboost\\xgboost-ci-windows\\src\\gbm\\gbtree.cc:887: drop 0 trees, weight = 1\n",
      "[01:51:37] INFO: C:\\buildkite-agent\\builds\\buildkite-windows-cpu-autoscaling-group-i-0b3782d1791676daf-1\\xgboost\\xgboost-ci-windows\\src\\gbm\\gbtree.cc:887: drop 0 trees, weight = 1\n",
      "[01:51:37] INFO: C:\\buildkite-agent\\builds\\buildkite-windows-cpu-autoscaling-group-i-0b3782d1791676daf-1\\xgboost\\xgboost-ci-windows\\src\\gbm\\gbtree.cc:887: drop 0 trees, weight = 1\n",
      "[01:51:37] INFO: C:\\buildkite-agent\\builds\\buildkite-windows-cpu-autoscaling-group-i-0b3782d1791676daf-1\\xgboost\\xgboost-ci-windows\\src\\gbm\\gbtree.cc:887: drop 0 trees, weight = 1\n",
      "[01:51:38] INFO: C:\\buildkite-agent\\builds\\buildkite-windows-cpu-autoscaling-group-i-0b3782d1791676daf-1\\xgboost\\xgboost-ci-windows\\src\\gbm\\gbtree.cc:887: drop 0 trees, weight = 1\n",
      "[01:51:38] INFO: C:\\buildkite-agent\\builds\\buildkite-windows-cpu-autoscaling-group-i-0b3782d1791676daf-1\\xgboost\\xgboost-ci-windows\\src\\gbm\\gbtree.cc:887: drop 0 trees, weight = 1\n",
      "[01:51:38] INFO: C:\\buildkite-agent\\builds\\buildkite-windows-cpu-autoscaling-group-i-0b3782d1791676daf-1\\xgboost\\xgboost-ci-windows\\src\\gbm\\gbtree.cc:887: drop 0 trees, weight = 1\n",
      "[01:51:38] INFO: C:\\buildkite-agent\\builds\\buildkite-windows-cpu-autoscaling-group-i-0b3782d1791676daf-1\\xgboost\\xgboost-ci-windows\\src\\gbm\\gbtree.cc:887: drop 0 trees, weight = 1\n",
      "[01:51:38] INFO: C:\\buildkite-agent\\builds\\buildkite-windows-cpu-autoscaling-group-i-0b3782d1791676daf-1\\xgboost\\xgboost-ci-windows\\src\\gbm\\gbtree.cc:887: drop 0 trees, weight = 1\n",
      "[01:51:38] INFO: C:\\buildkite-agent\\builds\\buildkite-windows-cpu-autoscaling-group-i-0b3782d1791676daf-1\\xgboost\\xgboost-ci-windows\\src\\gbm\\gbtree.cc:887: drop 0 trees, weight = 1\n",
      "[01:51:38] INFO: C:\\buildkite-agent\\builds\\buildkite-windows-cpu-autoscaling-group-i-0b3782d1791676daf-1\\xgboost\\xgboost-ci-windows\\src\\gbm\\gbtree.cc:887: drop 0 trees, weight = 1\n",
      "[01:51:38] INFO: C:\\buildkite-agent\\builds\\buildkite-windows-cpu-autoscaling-group-i-0b3782d1791676daf-1\\xgboost\\xgboost-ci-windows\\src\\gbm\\gbtree.cc:887: drop 0 trees, weight = 1\n",
      "[01:51:38] INFO: C:\\buildkite-agent\\builds\\buildkite-windows-cpu-autoscaling-group-i-0b3782d1791676daf-1\\xgboost\\xgboost-ci-windows\\src\\gbm\\gbtree.cc:887: drop 0 trees, weight = 1\n",
      "[01:51:38] INFO: C:\\buildkite-agent\\builds\\buildkite-windows-cpu-autoscaling-group-i-0b3782d1791676daf-1\\xgboost\\xgboost-ci-windows\\src\\gbm\\gbtree.cc:887: drop 0 trees, weight = 1\n",
      "[01:51:38] INFO: C:\\buildkite-agent\\builds\\buildkite-windows-cpu-autoscaling-group-i-0b3782d1791676daf-1\\xgboost\\xgboost-ci-windows\\src\\gbm\\gbtree.cc:887: drop 0 trees, weight = 1\n",
      "[01:51:39] INFO: C:\\buildkite-agent\\builds\\buildkite-windows-cpu-autoscaling-group-i-0b3782d1791676daf-1\\xgboost\\xgboost-ci-windows\\src\\gbm\\gbtree.cc:887: drop 0 trees, weight = 1\n",
      "[01:51:39] INFO: C:\\buildkite-agent\\builds\\buildkite-windows-cpu-autoscaling-group-i-0b3782d1791676daf-1\\xgboost\\xgboost-ci-windows\\src\\gbm\\gbtree.cc:887: drop 0 trees, weight = 1\n",
      "[01:51:39] INFO: C:\\buildkite-agent\\builds\\buildkite-windows-cpu-autoscaling-group-i-0b3782d1791676daf-1\\xgboost\\xgboost-ci-windows\\src\\gbm\\gbtree.cc:887: drop 0 trees, weight = 1\n",
      "[01:51:39] INFO: C:\\buildkite-agent\\builds\\buildkite-windows-cpu-autoscaling-group-i-0b3782d1791676daf-1\\xgboost\\xgboost-ci-windows\\src\\gbm\\gbtree.cc:887: drop 0 trees, weight = 1\n",
      "[01:51:39] INFO: C:\\buildkite-agent\\builds\\buildkite-windows-cpu-autoscaling-group-i-0b3782d1791676daf-1\\xgboost\\xgboost-ci-windows\\src\\gbm\\gbtree.cc:887: drop 0 trees, weight = 1\n",
      "[01:51:39] INFO: C:\\buildkite-agent\\builds\\buildkite-windows-cpu-autoscaling-group-i-0b3782d1791676daf-1\\xgboost\\xgboost-ci-windows\\src\\gbm\\gbtree.cc:887: drop 0 trees, weight = 1\n",
      "[01:51:39] INFO: C:\\buildkite-agent\\builds\\buildkite-windows-cpu-autoscaling-group-i-0b3782d1791676daf-1\\xgboost\\xgboost-ci-windows\\src\\gbm\\gbtree.cc:887: drop 0 trees, weight = 1\n",
      "[01:51:39] INFO: C:\\buildkite-agent\\builds\\buildkite-windows-cpu-autoscaling-group-i-0b3782d1791676daf-1\\xgboost\\xgboost-ci-windows\\src\\gbm\\gbtree.cc:887: drop 0 trees, weight = 1\n",
      "[01:51:40] INFO: C:\\buildkite-agent\\builds\\buildkite-windows-cpu-autoscaling-group-i-0b3782d1791676daf-1\\xgboost\\xgboost-ci-windows\\src\\gbm\\gbtree.cc:887: drop 0 trees, weight = 1\n",
      "[01:51:40] INFO: C:\\buildkite-agent\\builds\\buildkite-windows-cpu-autoscaling-group-i-0b3782d1791676daf-1\\xgboost\\xgboost-ci-windows\\src\\gbm\\gbtree.cc:887: drop 0 trees, weight = 1\n",
      "[01:51:40] INFO: C:\\buildkite-agent\\builds\\buildkite-windows-cpu-autoscaling-group-i-0b3782d1791676daf-1\\xgboost\\xgboost-ci-windows\\src\\gbm\\gbtree.cc:887: drop 0 trees, weight = 1\n",
      "[01:51:40] INFO: C:\\buildkite-agent\\builds\\buildkite-windows-cpu-autoscaling-group-i-0b3782d1791676daf-1\\xgboost\\xgboost-ci-windows\\src\\gbm\\gbtree.cc:887: drop 0 trees, weight = 1\n",
      "[01:51:40] INFO: C:\\buildkite-agent\\builds\\buildkite-windows-cpu-autoscaling-group-i-0b3782d1791676daf-1\\xgboost\\xgboost-ci-windows\\src\\gbm\\gbtree.cc:887: drop 0 trees, weight = 1\n",
      "[01:51:40] INFO: C:\\buildkite-agent\\builds\\buildkite-windows-cpu-autoscaling-group-i-0b3782d1791676daf-1\\xgboost\\xgboost-ci-windows\\src\\gbm\\gbtree.cc:887: drop 0 trees, weight = 1\n",
      "[01:51:40] INFO: C:\\buildkite-agent\\builds\\buildkite-windows-cpu-autoscaling-group-i-0b3782d1791676daf-1\\xgboost\\xgboost-ci-windows\\src\\gbm\\gbtree.cc:887: drop 0 trees, weight = 1\n",
      "[01:51:40] INFO: C:\\buildkite-agent\\builds\\buildkite-windows-cpu-autoscaling-group-i-0b3782d1791676daf-1\\xgboost\\xgboost-ci-windows\\src\\gbm\\gbtree.cc:887: drop 0 trees, weight = 1\n",
      "[01:51:41] INFO: C:\\buildkite-agent\\builds\\buildkite-windows-cpu-autoscaling-group-i-0b3782d1791676daf-1\\xgboost\\xgboost-ci-windows\\src\\gbm\\gbtree.cc:887: drop 0 trees, weight = 1\n",
      "[01:51:41] INFO: C:\\buildkite-agent\\builds\\buildkite-windows-cpu-autoscaling-group-i-0b3782d1791676daf-1\\xgboost\\xgboost-ci-windows\\src\\gbm\\gbtree.cc:887: drop 0 trees, weight = 1\n",
      "[01:51:41] INFO: C:\\buildkite-agent\\builds\\buildkite-windows-cpu-autoscaling-group-i-0b3782d1791676daf-1\\xgboost\\xgboost-ci-windows\\src\\gbm\\gbtree.cc:887: drop 0 trees, weight = 1\n",
      "[01:51:41] INFO: C:\\buildkite-agent\\builds\\buildkite-windows-cpu-autoscaling-group-i-0b3782d1791676daf-1\\xgboost\\xgboost-ci-windows\\src\\gbm\\gbtree.cc:887: drop 0 trees, weight = 1\n",
      "[01:51:41] INFO: C:\\buildkite-agent\\builds\\buildkite-windows-cpu-autoscaling-group-i-0b3782d1791676daf-1\\xgboost\\xgboost-ci-windows\\src\\gbm\\gbtree.cc:887: drop 0 trees, weight = 1\n",
      "[01:51:41] INFO: C:\\buildkite-agent\\builds\\buildkite-windows-cpu-autoscaling-group-i-0b3782d1791676daf-1\\xgboost\\xgboost-ci-windows\\src\\gbm\\gbtree.cc:887: drop 0 trees, weight = 1\n",
      "[01:51:42] INFO: C:\\buildkite-agent\\builds\\buildkite-windows-cpu-autoscaling-group-i-0b3782d1791676daf-1\\xgboost\\xgboost-ci-windows\\src\\gbm\\gbtree.cc:887: drop 0 trees, weight = 1\n",
      "[01:51:42] INFO: C:\\buildkite-agent\\builds\\buildkite-windows-cpu-autoscaling-group-i-0b3782d1791676daf-1\\xgboost\\xgboost-ci-windows\\src\\gbm\\gbtree.cc:887: drop 0 trees, weight = 1\n",
      "[01:51:42] INFO: C:\\buildkite-agent\\builds\\buildkite-windows-cpu-autoscaling-group-i-0b3782d1791676daf-1\\xgboost\\xgboost-ci-windows\\src\\gbm\\gbtree.cc:887: drop 0 trees, weight = 1\n",
      "[01:51:42] INFO: C:\\buildkite-agent\\builds\\buildkite-windows-cpu-autoscaling-group-i-0b3782d1791676daf-1\\xgboost\\xgboost-ci-windows\\src\\gbm\\gbtree.cc:887: drop 0 trees, weight = 1\n",
      "[01:51:42] INFO: C:\\buildkite-agent\\builds\\buildkite-windows-cpu-autoscaling-group-i-0b3782d1791676daf-1\\xgboost\\xgboost-ci-windows\\src\\gbm\\gbtree.cc:887: drop 0 trees, weight = 1\n",
      "[01:51:42] INFO: C:\\buildkite-agent\\builds\\buildkite-windows-cpu-autoscaling-group-i-0b3782d1791676daf-1\\xgboost\\xgboost-ci-windows\\src\\gbm\\gbtree.cc:887: drop 0 trees, weight = 1\n",
      "[01:51:43] INFO: C:\\buildkite-agent\\builds\\buildkite-windows-cpu-autoscaling-group-i-0b3782d1791676daf-1\\xgboost\\xgboost-ci-windows\\src\\gbm\\gbtree.cc:887: drop 0 trees, weight = 1\n",
      "[01:51:43] INFO: C:\\buildkite-agent\\builds\\buildkite-windows-cpu-autoscaling-group-i-0b3782d1791676daf-1\\xgboost\\xgboost-ci-windows\\src\\gbm\\gbtree.cc:887: drop 0 trees, weight = 1\n",
      "[01:51:43] INFO: C:\\buildkite-agent\\builds\\buildkite-windows-cpu-autoscaling-group-i-0b3782d1791676daf-1\\xgboost\\xgboost-ci-windows\\src\\gbm\\gbtree.cc:887: drop 0 trees, weight = 1\n",
      "[01:51:43] INFO: C:\\buildkite-agent\\builds\\buildkite-windows-cpu-autoscaling-group-i-0b3782d1791676daf-1\\xgboost\\xgboost-ci-windows\\src\\gbm\\gbtree.cc:887: drop 0 trees, weight = 1\n",
      "[01:51:43] INFO: C:\\buildkite-agent\\builds\\buildkite-windows-cpu-autoscaling-group-i-0b3782d1791676daf-1\\xgboost\\xgboost-ci-windows\\src\\gbm\\gbtree.cc:887: drop 0 trees, weight = 1\n",
      "[01:51:43] INFO: C:\\buildkite-agent\\builds\\buildkite-windows-cpu-autoscaling-group-i-0b3782d1791676daf-1\\xgboost\\xgboost-ci-windows\\src\\gbm\\gbtree.cc:887: drop 0 trees, weight = 1\n",
      "[01:51:44] INFO: C:\\buildkite-agent\\builds\\buildkite-windows-cpu-autoscaling-group-i-0b3782d1791676daf-1\\xgboost\\xgboost-ci-windows\\src\\gbm\\gbtree.cc:887: drop 0 trees, weight = 1\n",
      "[01:51:44] INFO: C:\\buildkite-agent\\builds\\buildkite-windows-cpu-autoscaling-group-i-0b3782d1791676daf-1\\xgboost\\xgboost-ci-windows\\src\\gbm\\gbtree.cc:887: drop 0 trees, weight = 1\n",
      "[01:51:44] INFO: C:\\buildkite-agent\\builds\\buildkite-windows-cpu-autoscaling-group-i-0b3782d1791676daf-1\\xgboost\\xgboost-ci-windows\\src\\gbm\\gbtree.cc:887: drop 0 trees, weight = 1\n",
      "[01:51:44] INFO: C:\\buildkite-agent\\builds\\buildkite-windows-cpu-autoscaling-group-i-0b3782d1791676daf-1\\xgboost\\xgboost-ci-windows\\src\\gbm\\gbtree.cc:887: drop 0 trees, weight = 1\n",
      "[01:51:44] INFO: C:\\buildkite-agent\\builds\\buildkite-windows-cpu-autoscaling-group-i-0b3782d1791676daf-1\\xgboost\\xgboost-ci-windows\\src\\gbm\\gbtree.cc:887: drop 0 trees, weight = 1\n",
      "[01:51:44] INFO: C:\\buildkite-agent\\builds\\buildkite-windows-cpu-autoscaling-group-i-0b3782d1791676daf-1\\xgboost\\xgboost-ci-windows\\src\\gbm\\gbtree.cc:887: drop 0 trees, weight = 1\n",
      "[01:51:45] INFO: C:\\buildkite-agent\\builds\\buildkite-windows-cpu-autoscaling-group-i-0b3782d1791676daf-1\\xgboost\\xgboost-ci-windows\\src\\gbm\\gbtree.cc:887: drop 0 trees, weight = 1\n",
      "[01:51:45] INFO: C:\\buildkite-agent\\builds\\buildkite-windows-cpu-autoscaling-group-i-0b3782d1791676daf-1\\xgboost\\xgboost-ci-windows\\src\\gbm\\gbtree.cc:887: drop 0 trees, weight = 1\n",
      "[01:51:45] INFO: C:\\buildkite-agent\\builds\\buildkite-windows-cpu-autoscaling-group-i-0b3782d1791676daf-1\\xgboost\\xgboost-ci-windows\\src\\gbm\\gbtree.cc:887: drop 0 trees, weight = 1\n",
      "[01:51:45] INFO: C:\\buildkite-agent\\builds\\buildkite-windows-cpu-autoscaling-group-i-0b3782d1791676daf-1\\xgboost\\xgboost-ci-windows\\src\\gbm\\gbtree.cc:887: drop 0 trees, weight = 1\n",
      "[01:51:46] INFO: C:\\buildkite-agent\\builds\\buildkite-windows-cpu-autoscaling-group-i-0b3782d1791676daf-1\\xgboost\\xgboost-ci-windows\\src\\gbm\\gbtree.cc:887: drop 0 trees, weight = 1\n",
      "[01:51:46] INFO: C:\\buildkite-agent\\builds\\buildkite-windows-cpu-autoscaling-group-i-0b3782d1791676daf-1\\xgboost\\xgboost-ci-windows\\src\\gbm\\gbtree.cc:887: drop 0 trees, weight = 1\n"
     ]
    },
    {
     "name": "stderr",
     "output_type": "stream",
     "text": [
      "[I 2024-01-19 01:51:46,584] Trial 7 finished with value: 0.5977513329727223 and parameters: {'verbosity': 3, 'booster': 'dart', 'reg_lambda': 0.49207056748038575, 'reg_alpha': 0.6133860722046047, 'subsample': 0.35243072091169647, 'colsample_bytree': 0.4731573260303005, 'gamma': 2.319018296992399, 'eta': 3.159136492874464}. Best is trial 6 with value: 0.9564552425942047.\n"
     ]
    },
    {
     "name": "stdout",
     "output_type": "stream",
     "text": [
      "[01:51:46] INFO: C:\\buildkite-agent\\builds\\buildkite-windows-cpu-autoscaling-group-i-0b3782d1791676daf-1\\xgboost\\xgboost-ci-windows\\src\\gbm\\gbtree.cc:887: drop 0 trees, weight = 1\n",
      "[01:51:46] ======== Monitor (0): Learner ========\n",
      "[01:51:46] Configure: 0.000467s, 1 calls @ 467us\n",
      "\n",
      "[01:51:46] EvalOneIter: 0.000495s, 100 calls @ 495us\n",
      "\n",
      "[01:51:46] GetGradient: 0.056385s, 100 calls @ 56385us\n",
      "\n",
      "[01:51:46] PredictRaw: 10.0743s, 100 calls @ 10074319us\n",
      "\n",
      "[01:51:46] UpdateOneIter: 10.2261s, 100 calls @ 10226110us\n",
      "\n",
      "[01:51:46] ======== Monitor (0): GBTree ========\n",
      "[01:51:46] BoostNewTrees: 0.073982s, 100 calls @ 73982us\n",
      "\n",
      "[01:51:46] ======== Monitor (0): HistUpdater ========\n",
      "[01:51:46] BuildHistogram: 0.001964s, 25 calls @ 1964us\n",
      "\n",
      "[01:51:46] EvaluateSplits: 0.00172s, 125 calls @ 1720us\n",
      "\n",
      "[01:51:46] InitData: 0.016305s, 100 calls @ 16305us\n",
      "\n",
      "[01:51:46] InitRoot: 0.016599s, 100 calls @ 16599us\n",
      "\n",
      "[01:51:46] LeafPartition: 1.2e-05s, 100 calls @ 12us\n",
      "\n",
      "[01:51:46] UpdatePosition: 0.007698s, 30 calls @ 7698us\n",
      "\n",
      "[01:51:46] UpdatePredictionCache: 0.00174s, 100 calls @ 1740us\n",
      "\n",
      "[01:51:46] UpdateTree: 0.043948s, 100 calls @ 43948us\n",
      "\n",
      "[01:51:46] DEBUG: C:\\buildkite-agent\\builds\\buildkite-windows-cpu-autoscaling-group-i-0b3782d1791676daf-1\\xgboost\\xgboost-ci-windows\\src\\gbm\\gbtree.cc:130: Using tree method: 0\n"
     ]
    },
    {
     "name": "stderr",
     "output_type": "stream",
     "text": [
      "[I 2024-01-19 01:51:47,285] Trial 8 finished with value: 0.4999871205388766 and parameters: {'verbosity': 1, 'booster': 'gblinear', 'reg_lambda': 0.7515013143836883, 'reg_alpha': 0.06271470555015225, 'subsample': 0.27065036433627265, 'colsample_bytree': 0.2840081485645738, 'gamma': 3.4498287951132482, 'eta': 1.7717682480339343}. Best is trial 6 with value: 0.9564552425942047.\n",
      "[I 2024-01-19 01:51:48,395] Trial 9 finished with value: 0.954742284217246 and parameters: {'verbosity': 1, 'booster': 'gbtree', 'reg_lambda': 0.8775148760298435, 'reg_alpha': 0.6234191739102012, 'subsample': 0.14583857400250386, 'colsample_bytree': 0.45168503708563335, 'gamma': 2.218389617208991, 'eta': 0.7254876371572134}. Best is trial 6 with value: 0.9564552425942047.\n"
     ]
    }
   ],
   "source": [
    "# step 1 : Define an objective function to be maximized\n",
    "def objective(trial):\n",
    "    classifier_name = 'xgboost'\n",
    "    \n",
    "    # step 2 : Setup values for the hyperparameters :\n",
    "    if classifier_name == 'xgboost':\n",
    "        verbosity = trial.suggest_int('verbosity', 0, 3)\n",
    "        booster = trial.suggest_categorical('booster', ['dart', 'gbtree', 'gblinear'])\n",
    "        reg_lambda = trial.suggest_float('reg_lambda', 1e-4, 1)\n",
    "        reg_alpha = trial.suggest_float('reg_alpha', 1e-4, 1)\n",
    "        subsample = trial.suggest_float('subsample', 0.1, 0.5)\n",
    "        colsample_bytree = trial.suggest_float('colsample_bytree', 0.1, 0.5)\n",
    "        gamma = trial.suggest_float('gamma', 1e-3, 4)\n",
    "        eta = trial.suggest_float('eta', 0.001, 5)\n",
    "        \n",
    "        classifier_obj = XGBClassifier(verbosity = verbosity, booster = booster, reg_lambda = reg_lambda, reg_alpha = reg_alpha, subsample = subsample, colsample_bytree = colsample_bytree, gamma = gamma, eta = eta)\n",
    "        \n",
    "    # step 3 : Scoring method\n",
    "    score = cross_val_score(estimator=classifier_obj, X=X_train, y=y_train, cv=3)\n",
    "    accuracy = score.mean()\n",
    "    return accuracy\n",
    "\n",
    "# step 4 : Running it\n",
    "study = optuna.create_study(direction='maximize')\n",
    "study.optimize(objective, n_trials=10)"
   ]
  },
  {
   "cell_type": "markdown",
   "metadata": {},
   "source": [
    "# Important Hyperparameters"
   ]
  },
  {
   "cell_type": "code",
   "execution_count": 113,
   "metadata": {},
   "outputs": [
    {
     "data": {
      "text/plain": [
       "<Axes: title={'left': 'Hyperparameter Importances'}, xlabel='Hyperparameter Importance', ylabel='Hyperparameter'>"
      ]
     },
     "execution_count": 113,
     "metadata": {},
     "output_type": "execute_result"
    },
    {
     "data": {
      "image/png": "[encoded data removed]",
      "text/plain": [
       "<Figure size 640x480 with 1 Axes>"
      ]
     },
     "metadata": {},
     "output_type": "display_data"
    }
   ],
   "source": [
    "plot_param_importances(study)"
   ]
  },
  {
   "cell_type": "markdown",
   "metadata": {},
   "source": [
    "# Getting best parameter\n"
   ]
  },
  {
   "cell_type": "code",
   "execution_count": 122,
   "metadata": {},
   "outputs": [
    {
     "data": {
      "text/plain": [
       "{'verbosity': 3,\n",
       " 'booster': 'gbtree',\n",
       " 'reg_lambda': 0.21936595929201058,\n",
       " 'reg_alpha': 0.3583061774828618,\n",
       " 'subsample': 0.13756399001679084,\n",
       " 'colsample_bytree': 0.34968859474224645,\n",
       " 'gamma': 3.8768036597987443,\n",
       " 'eta': 0.18390847730337265}"
      ]
     },
     "execution_count": 122,
     "metadata": {},
     "output_type": "execute_result"
    }
   ],
   "source": [
    "trial = study.best_trial\n",
    "params = trial.params\n",
    "params"
   ]
  },
  {
   "cell_type": "markdown",
   "metadata": {},
   "source": [
    "# Training model with best parameters\n"
   ]
  },
  {
   "cell_type": "code",
   "execution_count": 125,
   "metadata": {},
   "outputs": [
    {
     "name": "stdout",
     "output_type": "stream",
     "text": [
      "[02:03:26] ======== Monitor (0): HostSketchContainer ========\n",
      "[02:03:26] AllReduce: 0.00167s, 1 calls @ 1670us\n",
      "\n",
      "[02:03:26] MakeCuts: 0.001716s, 1 calls @ 1716us\n",
      "\n",
      "[02:03:26] DEBUG: C:\\buildkite-agent\\builds\\buildkite-windows-cpu-autoscaling-group-i-0b3782d1791676daf-1\\xgboost\\xgboost-ci-windows\\src\\gbm\\gbtree.cc:130: Using tree method: 0\n",
      "[02:03:26] ======== Monitor (0): Learner ========\n",
      "[02:03:26] Configure: 0.000339s, 1 calls @ 339us\n",
      "\n",
      "[02:03:26] EvalOneIter: 0.000476s, 100 calls @ 476us\n",
      "\n",
      "[02:03:26] GetGradient: 0.009737s, 100 calls @ 9737us\n",
      "\n",
      "[02:03:26] PredictRaw: 0.000109s, 100 calls @ 109us\n",
      "\n",
      "[02:03:26] UpdateOneIter: 0.313419s, 100 calls @ 313419us\n",
      "\n",
      "[02:03:26] ======== Monitor (0): GBTree ========\n",
      "[02:03:26] BoostNewTrees: 0.302009s, 100 calls @ 302009us\n",
      "\n",
      "[02:03:26] CommitModel: 4.1e-05s, 100 calls @ 41us\n",
      "\n",
      "[02:03:26] ======== Monitor (0): HistUpdater ========\n",
      "[02:03:26] BuildHistogram: 0.02184s, 366 calls @ 21840us\n",
      "\n",
      "[02:03:26] EvaluateSplits: 0.006153s, 466 calls @ 6153us\n",
      "\n",
      "[02:03:26] InitData: 0.049655s, 100 calls @ 49655us\n",
      "\n",
      "[02:03:26] InitRoot: 0.016275s, 100 calls @ 16275us\n",
      "\n",
      "[02:03:26] LeafPartition: 1e-05s, 100 calls @ 10us\n",
      "\n",
      "[02:03:26] UpdatePosition: 0.170616s, 404 calls @ 170616us\n",
      "\n",
      "[02:03:26] UpdatePredictionCache: 0.003709s, 100 calls @ 3709us\n",
      "\n",
      "[02:03:26] UpdateTree: 0.266744s, 100 calls @ 266744us\n",
      "\n"
     ]
    },
    {
     "data": {
      "text/html": [
       "<style>#sk-container-id-8 {color: black;}#sk-container-id-8 pre{padding: 0;}#sk-container-id-8 div.sk-toggleable {background-color: white;}#sk-container-id-8 label.sk-toggleable__label {cursor: pointer;display: block;width: 100%;margin-bottom: 0;padding: 0.3em;box-sizing: border-box;text-align: center;}#sk-container-id-8 label.sk-toggleable__label-arrow:before {content: \"▸\";float: left;margin-right: 0.25em;color: #696969;}#sk-container-id-8 label.sk-toggleable__label-arrow:hover:before {color: black;}#sk-container-id-8 div.sk-estimator:hover label.sk-toggleable__label-arrow:before {color: black;}#sk-container-id-8 div.sk-toggleable__content {max-height: 0;max-width: 0;overflow: hidden;text-align: left;background-color: #f0f8ff;}#sk-container-id-8 div.sk-toggleable__content pre {margin: 0.2em;color: black;border-radius: 0.25em;background-color: #f0f8ff;}#sk-container-id-8 input.sk-toggleable__control:checked~div.sk-toggleable__content {max-height: 200px;max-width: 100%;overflow: auto;}#sk-container-id-8 input.sk-toggleable__control:checked~label.sk-toggleable__label-arrow:before {content: \"▾\";}#sk-container-id-8 div.sk-estimator input.sk-toggleable__control:checked~label.sk-toggleable__label {background-color: #d4ebff;}#sk-container-id-8 div.sk-label input.sk-toggleable__control:checked~label.sk-toggleable__label {background-color: #d4ebff;}#sk-container-id-8 input.sk-hidden--visually {border: 0;clip: rect(1px 1px 1px 1px);clip: rect(1px, 1px, 1px, 1px);height: 1px;margin: -1px;overflow: hidden;padding: 0;position: absolute;width: 1px;}#sk-container-id-8 div.sk-estimator {font-family: monospace;background-color: #f0f8ff;border: 1px dotted black;border-radius: 0.25em;box-sizing: border-box;margin-bottom: 0.5em;}#sk-container-id-8 div.sk-estimator:hover {background-color: #d4ebff;}#sk-container-id-8 div.sk-parallel-item::after {content: \"\";width: 100%;border-bottom: 1px solid gray;flex-grow: 1;}#sk-container-id-8 div.sk-label:hover label.sk-toggleable__label {background-color: #d4ebff;}#sk-container-id-8 div.sk-serial::before {content: \"\";position: absolute;border-left: 1px solid gray;box-sizing: border-box;top: 0;bottom: 0;left: 50%;z-index: 0;}#sk-container-id-8 div.sk-serial {display: flex;flex-direction: column;align-items: center;background-color: white;padding-right: 0.2em;padding-left: 0.2em;position: relative;}#sk-container-id-8 div.sk-item {position: relative;z-index: 1;}#sk-container-id-8 div.sk-parallel {display: flex;align-items: stretch;justify-content: center;background-color: white;position: relative;}#sk-container-id-8 div.sk-item::before, #sk-container-id-8 div.sk-parallel-item::before {content: \"\";position: absolute;border-left: 1px solid gray;box-sizing: border-box;top: 0;bottom: 0;left: 50%;z-index: -1;}#sk-container-id-8 div.sk-parallel-item {display: flex;flex-direction: column;z-index: 1;position: relative;background-color: white;}#sk-container-id-8 div.sk-parallel-item:first-child::after {align-self: flex-end;width: 50%;}#sk-container-id-8 div.sk-parallel-item:last-child::after {align-self: flex-start;width: 50%;}#sk-container-id-8 div.sk-parallel-item:only-child::after {width: 0;}#sk-container-id-8 div.sk-dashed-wrapped {border: 1px dashed gray;margin: 0 0.4em 0.5em 0.4em;box-sizing: border-box;padding-bottom: 0.4em;background-color: white;}#sk-container-id-8 div.sk-label label {font-family: monospace;font-weight: bold;display: inline-block;line-height: 1.2em;}#sk-container-id-8 div.sk-label-container {text-align: center;}#sk-container-id-8 div.sk-container {/* jupyter's `normalize.less` sets `[hidden] { display: none; }` but bootstrap.min.css set `[hidden] { display: none !important; }` so we also need the `!important` here to be able to override the default hidden behavior on the sphinx rendered scikit-learn.org. See: https://github.com/scikit-learn/scikit-learn/issues/21755 */display: inline-block !important;position: relative;}#sk-container-id-8 div.sk-text-repr-fallback {display: none;}</style><div id=\"sk-container-id-8\" class=\"sk-top-container\"><div class=\"sk-text-repr-fallback\"><pre>XGBClassifier(base_score=None, booster=&#x27;gbtree&#x27;, callbacks=None,\n",
       "              colsample_bylevel=None, colsample_bynode=None,\n",
       "              colsample_bytree=0.34968859474224645, device=None,\n",
       "              early_stopping_rounds=None, enable_categorical=False,\n",
       "              eta=0.18390847730337265, eval_metric=None, feature_types=None,\n",
       "              gamma=3.8768036597987443, grow_policy=None, importance_type=None,\n",
       "              interaction_constraints=None, learning_rate=None, max_bin=None,\n",
       "              max_cat_threshold=None, max_cat_to_onehot=None,\n",
       "              max_delta_step=None, max_depth=None, max_leaves=None,\n",
       "              min_child_weight=None, missing=nan, monotone_constraints=None,\n",
       "              multi_strategy=None, n_estimators=None, n_jobs=None,\n",
       "              num_parallel_tree=None, ...)</pre><b>In a Jupyter environment, please rerun this cell to show the HTML representation or trust the notebook. <br />On GitHub, the HTML representation is unable to render, please try loading this page with nbviewer.org.</b></div><div class=\"sk-container\" hidden><div class=\"sk-item\"><div class=\"sk-estimator sk-toggleable\"><input class=\"sk-toggleable__control sk-hidden--visually\" id=\"sk-estimator-id-8\" type=\"checkbox\" checked><label for=\"sk-estimator-id-8\" class=\"sk-toggleable__label sk-toggleable__label-arrow\">XGBClassifier</label><div class=\"sk-toggleable__content\"><pre>XGBClassifier(base_score=None, booster=&#x27;gbtree&#x27;, callbacks=None,\n",
       "              colsample_bylevel=None, colsample_bynode=None,\n",
       "              colsample_bytree=0.34968859474224645, device=None,\n",
       "              early_stopping_rounds=None, enable_categorical=False,\n",
       "              eta=0.18390847730337265, eval_metric=None, feature_types=None,\n",
       "              gamma=3.8768036597987443, grow_policy=None, importance_type=None,\n",
       "              interaction_constraints=None, learning_rate=None, max_bin=None,\n",
       "              max_cat_threshold=None, max_cat_to_onehot=None,\n",
       "              max_delta_step=None, max_depth=None, max_leaves=None,\n",
       "              min_child_weight=None, missing=nan, monotone_constraints=None,\n",
       "              multi_strategy=None, n_estimators=None, n_jobs=None,\n",
       "              num_parallel_tree=None, ...)</pre></div></div></div></div></div>"
      ],
      "text/plain": [
       "XGBClassifier(base_score=None, booster='gbtree', callbacks=None,\n",
       "              colsample_bylevel=None, colsample_bynode=None,\n",
       "              colsample_bytree=0.34968859474224645, device=None,\n",
       "              early_stopping_rounds=None, enable_categorical=False,\n",
       "              eta=0.18390847730337265, eval_metric=None, feature_types=None,\n",
       "              gamma=3.8768036597987443, grow_policy=None, importance_type=None,\n",
       "              interaction_constraints=None, learning_rate=None, max_bin=None,\n",
       "              max_cat_threshold=None, max_cat_to_onehot=None,\n",
       "              max_delta_step=None, max_depth=None, max_leaves=None,\n",
       "              min_child_weight=None, missing=nan, monotone_constraints=None,\n",
       "              multi_strategy=None, n_estimators=None, n_jobs=None,\n",
       "              num_parallel_tree=None, ...)"
      ]
     },
     "execution_count": 125,
     "metadata": {},
     "output_type": "execute_result"
    }
   ],
   "source": [
    "# xgboost = XGBClassifier(verbosity = trial.params['verbosity'], booster = trial.params['booster'], reg_lambda = trial.params['reg_lambda'], reg_alpha = trial.params['reg_alpha'], subsample = trial.params['subsample'], colsample_bytree = trial.params['colsample_bytree'], gamma=trial.params['gamma'], eta = trial.params['eta'])\n",
    "# xgboost.fit(X_train, y_train)\n",
    "\n",
    "xgboost = XGBClassifier(**params)\n",
    "xgboost.fit(X_train, y_train)"
   ]
  },
  {
   "cell_type": "markdown",
   "metadata": {},
   "source": [
    "# Performance matrix\n"
   ]
  },
  {
   "cell_type": "code",
   "execution_count": 127,
   "metadata": {},
   "outputs": [
    {
     "name": "stdout",
     "output_type": "stream",
     "text": [
      "[02:04:47] DEBUG: C:\\buildkite-agent\\builds\\buildkite-windows-cpu-autoscaling-group-i-0b3782d1791676daf-1\\xgboost\\xgboost-ci-windows\\src\\gbm\\gbtree.cc:130: Using tree method: 0\n",
      "Confusion matrix is as follows : \n",
      "\n",
      " [[15427  3751]\n",
      " [  326 18852]]\n",
      "\n",
      "Accuracy score is : 0.8937063301699865\n",
      "\n",
      "Classification report is as follows :\n",
      "\n",
      "               precision    recall  f1-score   support\n",
      "\n",
      "         0.0       0.98      0.80      0.88     19178\n",
      "         1.0       0.83      0.98      0.90     19178\n",
      "\n",
      "    accuracy                           0.89     38356\n",
      "   macro avg       0.91      0.89      0.89     38356\n",
      "weighted avg       0.91      0.89      0.89     38356\n",
      "\n"
     ]
    }
   ],
   "source": [
    "y_pred = xgboost.predict(X_test)\n",
    "print(\"Confusion matrix is as follows : \\n\\n\", confusion_matrix(y_test, y_pred))\n",
    "print(\"\\nAccuracy score is :\",accuracy_score(y_test, y_pred))\n",
    "print(\"\\nClassification report is as follows :\\n\\n\", classification_report(y_test, y_pred))"
   ]
  },
  {
   "cell_type": "markdown",
   "metadata": {},
   "source": [
    "# Insights\n",
    "\n",
    "- From the above experiments we can select some hyperparameters for each algos\n",
    "1. Logistic Regression: C\n",
    "2. Random Forest: min_samples_split,min_samples_leaf\n",
    "3. SVC: kernel\n",
    "4. Naive Bayes: var_smoothing\n",
    "5. Descision Tree: max_depth\n",
    "6. XGBoost: subsample,alpha"
   ]
  },
  {
   "cell_type": "markdown",
   "metadata": {},
   "source": [
    "# Creating a function to select the best model after hyperparameter tuning giving best accuracy and best auc_roc_score\n"
   ]
  },
  {
   "cell_type": "code",
   "execution_count": 133,
   "metadata": {},
   "outputs": [
    {
     "name": "stderr",
     "output_type": "stream",
     "text": [
      "[I 2024-01-19 02:40:43,537] A new study created in memory with name: no-name-270c71a7-0358-4be7-81bc-bd64ff2b4a7f\n",
      "[I 2024-01-19 02:40:44,787] Trial 0 finished with values: [0.9469374188556503, 0.982837054909325] and parameters: {'classifier': 'decisionTree', 'max_depth': 7}. \n",
      "[I 2024-01-19 02:40:46,649] Trial 1 finished with values: [0.9626115269795655, 0.9928156816006638] and parameters: {'classifier': 'xgboost', 'alpha': 0.3094292193870751, 'subsample': 0.11834130187476744}. \n",
      "[I 2024-01-19 02:40:48,415] Trial 2 finished with values: [0.9547165073805955, 0.9785332842714457] and parameters: {'classifier': 'decisionTree', 'max_depth': 11}. \n",
      "[I 2024-01-19 02:40:49,383] Trial 3 finished with values: [0.9249653263976564, 0.9739031838146592] and parameters: {'classifier': 'logReg', 'C': 3.170120488324033}. \n",
      "[I 2024-01-19 02:40:51,137] Trial 4 finished with values: [0.9666298556520138, 0.9945664480359622] and parameters: {'classifier': 'xgboost', 'alpha': 0.8994858400265241, 'subsample': 0.3508287125434343}. \n",
      "[I 2024-01-19 02:40:52,054] Trial 5 finished with values: [0.9249782053611574, 0.9739036615468815] and parameters: {'classifier': 'logReg', 'C': 5.859872881106967}. \n",
      "[I 2024-01-19 02:40:53,852] Trial 6 finished with values: [0.9644661430073439, 0.9940355839346371] and parameters: {'classifier': 'xgboost', 'alpha': 0.6815277830747237, 'subsample': 0.22556654542630514}. \n",
      "[I 2024-01-19 02:40:55,603] Trial 7 finished with values: [0.9626372998352374, 0.9931826338836839] and parameters: {'classifier': 'xgboost', 'alpha': 0.17114059700673034, 'subsample': 0.1441562750583399}. \n",
      "[I 2024-01-19 02:44:38,062] Trial 8 finished with values: [0.9449024943531237, 0.9872849754607745] and parameters: {'classifier': 'svc', 'kernel': 'rbf'}. \n",
      "[I 2024-01-19 02:48:25,224] Trial 9 finished with values: [0.878921859980934, 0.9432100823903392] and parameters: {'classifier': 'svc', 'kernel': 'sigmoid'}. \n"
     ]
    }
   ],
   "source": [
    "train = pd.read_csv(\"data/train.csv\")\n",
    "test = pd.read_csv(\"data/test.csv\")\n",
    "X_train=train.drop(labels=\"phishing\",axis=1)\n",
    "X_test=test.drop(labels=\"phishing\",axis=1)\n",
    "y_train=train[[\"phishing\"]]\n",
    "y_test=test[[\"phishing\"]]\n",
    "\n",
    "# step 1 : Define an objective function to be maximized :\n",
    "def objective(trial):\n",
    "    classifier_name = trial.suggest_categorical('classifier', ['logReg', 'randomForest', 'svc', 'naiveBayes', 'decisionTree', 'xgboost'])\n",
    "    \n",
    "    # step 2 : Setup values for the hyperparameters :\n",
    "    if classifier_name == 'logReg':\n",
    "        C = trial.suggest_uniform('C', 0.01, 10)\n",
    "        classifier_obj = LogisticRegression(C=C)\n",
    "        \n",
    "    elif classifier_name == 'randomForest':\n",
    "        min_samples_split = trial.suggest_int('min_samples_split', 2, 20)\n",
    "        min_samples_leaf = trial.suggest_int('min_samples_leaf', 2, 20)\n",
    "        classifier_obj = RandomForestClassifier(min_samples_split=min_samples_split,min_samples_leaf=min_samples_leaf)\n",
    "    \n",
    "    elif classifier_name == 'svc':\n",
    "        kernel = trial.suggest_categorical('kernel', ['linear', 'poly', 'rbf', 'sigmoid'])\n",
    "        classifier_obj = SVC(kernel=kernel)\n",
    "        \n",
    "    elif classifier_name == 'naiveBayes':\n",
    "        var_smoothing=trial.suggest_float(\"var_smoothing\", 1e-4, 0.3, log=True)\n",
    "        classifier_obj = GaussianNB(var_smoothing=var_smoothing)\n",
    "        \n",
    "    elif classifier_name == 'decisionTree':\n",
    "        max_depth = trial.suggest_int('max_depth', 5, X_train.shape[1])\n",
    "        classifier_obj = DecisionTreeClassifier(max_depth=max_depth)\n",
    "    \n",
    "    elif classifier_name == 'xgboost':\n",
    "        alpha = trial.suggest_float('alpha' , 1e-4 , 1)\n",
    "        subsample = trial.suggest_float('subsample' , .1,.5)\n",
    "        classifier_obj = XGBClassifier(alpha=alpha,subsample=subsample)\n",
    "        \n",
    "    # step 3 : Scoring method \n",
    "    score = cross_val_score(classifier_obj, X_train, y_train, cv=3)\n",
    "    roc_auc_score = cross_val_score(classifier_obj, X_train, y_train, scoring='roc_auc')\n",
    "    \n",
    "    accuracy = score.mean()\n",
    "    roc_auc = roc_auc_score.mean()\n",
    "    \n",
    "    return accuracy, roc_auc\n",
    "\n",
    "# step 4 : Running it\n",
    "sampler = optuna.samplers.NSGAIISampler()\n",
    "study = optuna.create_study(directions=['maximize', 'maximize'], sampler=sampler)\n",
    "study.optimize(objective, n_trials=10)"
   ]
  },
  {
   "cell_type": "markdown",
   "metadata": {},
   "source": [
    "# GETTING BEST CLASSIFICATION ALGORITHM FOR THIS DATA WHICH IS GIVING BEST SCORE"
   ]
  },
  {
   "cell_type": "code",
   "execution_count": 153,
   "metadata": {},
   "outputs": [
    {
     "data": {
      "text/plain": [
       "FrozenTrial(number=4, state=TrialState.COMPLETE, values=[0.9666298556520138, 0.9945664480359622], datetime_start=datetime.datetime(2024, 1, 19, 2, 40, 49, 384113), datetime_complete=datetime.datetime(2024, 1, 19, 2, 40, 51, 137410), params={'classifier': 'xgboost', 'alpha': 0.8994858400265241, 'subsample': 0.3508287125434343}, user_attrs={}, system_attrs={'nsga2:generation': 0}, intermediate_values={}, distributions={'classifier': CategoricalDistribution(choices=('logReg', 'randomForest', 'svc', 'naiveBayes', 'decisionTree', 'xgboost')), 'alpha': FloatDistribution(high=1.0, log=False, low=0.0001, step=None), 'subsample': FloatDistribution(high=0.5, log=False, low=0.1, step=None)}, trial_id=4, value=None)"
      ]
     },
     "execution_count": 153,
     "metadata": {},
     "output_type": "execute_result"
    }
   ],
   "source": [
    "trial = study.best_trials\n",
    "trial[0]"
   ]
  },
  {
   "cell_type": "code",
   "execution_count": 160,
   "metadata": {},
   "outputs": [
    {
     "data": {
      "text/plain": [
       "{'classifier': 'xgboost',\n",
       " 'alpha': 0.8994858400265241,\n",
       " 'subsample': 0.3508287125434343}"
      ]
     },
     "execution_count": 160,
     "metadata": {},
     "output_type": "execute_result"
    }
   ],
   "source": [
    "trial = study.best_trials\n",
    "params = trial[0].params\n",
    "params"
   ]
  },
  {
   "cell_type": "code",
   "execution_count": 156,
   "metadata": {},
   "outputs": [
    {
     "data": {
      "text/plain": [
       "[0.9666298556520138, 0.9945664480359622]"
      ]
     },
     "execution_count": 156,
     "metadata": {},
     "output_type": "execute_result"
    }
   ],
   "source": [
    "trial = study.best_trials\n",
    "trial[0].values"
   ]
  },
  {
   "cell_type": "code",
   "execution_count": 157,
   "metadata": {},
   "outputs": [
    {
     "name": "stdout",
     "output_type": "stream",
     "text": [
      "Accuracy and Auc roc score: [0.9666298556520138, 0.9945664480359622]\n",
      "Best hyperparameters: {'classifier': 'xgboost', 'alpha': 0.8994858400265241, 'subsample': 0.3508287125434343}\n"
     ]
    }
   ],
   "source": [
    "print('Accuracy and Auc roc score: {}'.format(trial[0].values))\n",
    "print(\"Best hyperparameters: {}\".format(trial[0].params))"
   ]
  },
  {
   "cell_type": "markdown",
   "metadata": {},
   "source": [
    "# Training model with best parameters\n"
   ]
  },
  {
   "cell_type": "code",
   "execution_count": 161,
   "metadata": {},
   "outputs": [
    {
     "data": {
      "text/html": [
       "<style>#sk-container-id-9 {color: black;}#sk-container-id-9 pre{padding: 0;}#sk-container-id-9 div.sk-toggleable {background-color: white;}#sk-container-id-9 label.sk-toggleable__label {cursor: pointer;display: block;width: 100%;margin-bottom: 0;padding: 0.3em;box-sizing: border-box;text-align: center;}#sk-container-id-9 label.sk-toggleable__label-arrow:before {content: \"▸\";float: left;margin-right: 0.25em;color: #696969;}#sk-container-id-9 label.sk-toggleable__label-arrow:hover:before {color: black;}#sk-container-id-9 div.sk-estimator:hover label.sk-toggleable__label-arrow:before {color: black;}#sk-container-id-9 div.sk-toggleable__content {max-height: 0;max-width: 0;overflow: hidden;text-align: left;background-color: #f0f8ff;}#sk-container-id-9 div.sk-toggleable__content pre {margin: 0.2em;color: black;border-radius: 0.25em;background-color: #f0f8ff;}#sk-container-id-9 input.sk-toggleable__control:checked~div.sk-toggleable__content {max-height: 200px;max-width: 100%;overflow: auto;}#sk-container-id-9 input.sk-toggleable__control:checked~label.sk-toggleable__label-arrow:before {content: \"▾\";}#sk-container-id-9 div.sk-estimator input.sk-toggleable__control:checked~label.sk-toggleable__label {background-color: #d4ebff;}#sk-container-id-9 div.sk-label input.sk-toggleable__control:checked~label.sk-toggleable__label {background-color: #d4ebff;}#sk-container-id-9 input.sk-hidden--visually {border: 0;clip: rect(1px 1px 1px 1px);clip: rect(1px, 1px, 1px, 1px);height: 1px;margin: -1px;overflow: hidden;padding: 0;position: absolute;width: 1px;}#sk-container-id-9 div.sk-estimator {font-family: monospace;background-color: #f0f8ff;border: 1px dotted black;border-radius: 0.25em;box-sizing: border-box;margin-bottom: 0.5em;}#sk-container-id-9 div.sk-estimator:hover {background-color: #d4ebff;}#sk-container-id-9 div.sk-parallel-item::after {content: \"\";width: 100%;border-bottom: 1px solid gray;flex-grow: 1;}#sk-container-id-9 div.sk-label:hover label.sk-toggleable__label {background-color: #d4ebff;}#sk-container-id-9 div.sk-serial::before {content: \"\";position: absolute;border-left: 1px solid gray;box-sizing: border-box;top: 0;bottom: 0;left: 50%;z-index: 0;}#sk-container-id-9 div.sk-serial {display: flex;flex-direction: column;align-items: center;background-color: white;padding-right: 0.2em;padding-left: 0.2em;position: relative;}#sk-container-id-9 div.sk-item {position: relative;z-index: 1;}#sk-container-id-9 div.sk-parallel {display: flex;align-items: stretch;justify-content: center;background-color: white;position: relative;}#sk-container-id-9 div.sk-item::before, #sk-container-id-9 div.sk-parallel-item::before {content: \"\";position: absolute;border-left: 1px solid gray;box-sizing: border-box;top: 0;bottom: 0;left: 50%;z-index: -1;}#sk-container-id-9 div.sk-parallel-item {display: flex;flex-direction: column;z-index: 1;position: relative;background-color: white;}#sk-container-id-9 div.sk-parallel-item:first-child::after {align-self: flex-end;width: 50%;}#sk-container-id-9 div.sk-parallel-item:last-child::after {align-self: flex-start;width: 50%;}#sk-container-id-9 div.sk-parallel-item:only-child::after {width: 0;}#sk-container-id-9 div.sk-dashed-wrapped {border: 1px dashed gray;margin: 0 0.4em 0.5em 0.4em;box-sizing: border-box;padding-bottom: 0.4em;background-color: white;}#sk-container-id-9 div.sk-label label {font-family: monospace;font-weight: bold;display: inline-block;line-height: 1.2em;}#sk-container-id-9 div.sk-label-container {text-align: center;}#sk-container-id-9 div.sk-container {/* jupyter's `normalize.less` sets `[hidden] { display: none; }` but bootstrap.min.css set `[hidden] { display: none !important; }` so we also need the `!important` here to be able to override the default hidden behavior on the sphinx rendered scikit-learn.org. See: https://github.com/scikit-learn/scikit-learn/issues/21755 */display: inline-block !important;position: relative;}#sk-container-id-9 div.sk-text-repr-fallback {display: none;}</style><div id=\"sk-container-id-9\" class=\"sk-top-container\"><div class=\"sk-text-repr-fallback\"><pre>XGBClassifier(alpha=0.8994858400265241, base_score=None, booster=None,\n",
       "              callbacks=None, classifier=&#x27;xgboost&#x27;, colsample_bylevel=None,\n",
       "              colsample_bynode=None, colsample_bytree=None, device=None,\n",
       "              early_stopping_rounds=None, enable_categorical=False,\n",
       "              eval_metric=None, feature_types=None, gamma=None,\n",
       "              grow_policy=None, importance_type=None,\n",
       "              interaction_constraints=None, learning_rate=None, max_bin=None,\n",
       "              max_cat_threshold=None, max_cat_to_onehot=None,\n",
       "              max_delta_step=None, max_depth=None, max_leaves=None,\n",
       "              min_child_weight=None, missing=nan, monotone_constraints=None,\n",
       "              multi_strategy=None, n_estimators=None, n_jobs=None, ...)</pre><b>In a Jupyter environment, please rerun this cell to show the HTML representation or trust the notebook. <br />On GitHub, the HTML representation is unable to render, please try loading this page with nbviewer.org.</b></div><div class=\"sk-container\" hidden><div class=\"sk-item\"><div class=\"sk-estimator sk-toggleable\"><input class=\"sk-toggleable__control sk-hidden--visually\" id=\"sk-estimator-id-9\" type=\"checkbox\" checked><label for=\"sk-estimator-id-9\" class=\"sk-toggleable__label sk-toggleable__label-arrow\">XGBClassifier</label><div class=\"sk-toggleable__content\"><pre>XGBClassifier(alpha=0.8994858400265241, base_score=None, booster=None,\n",
       "              callbacks=None, classifier=&#x27;xgboost&#x27;, colsample_bylevel=None,\n",
       "              colsample_bynode=None, colsample_bytree=None, device=None,\n",
       "              early_stopping_rounds=None, enable_categorical=False,\n",
       "              eval_metric=None, feature_types=None, gamma=None,\n",
       "              grow_policy=None, importance_type=None,\n",
       "              interaction_constraints=None, learning_rate=None, max_bin=None,\n",
       "              max_cat_threshold=None, max_cat_to_onehot=None,\n",
       "              max_delta_step=None, max_depth=None, max_leaves=None,\n",
       "              min_child_weight=None, missing=nan, monotone_constraints=None,\n",
       "              multi_strategy=None, n_estimators=None, n_jobs=None, ...)</pre></div></div></div></div></div>"
      ],
      "text/plain": [
       "XGBClassifier(alpha=0.8994858400265241, base_score=None, booster=None,\n",
       "              callbacks=None, classifier='xgboost', colsample_bylevel=None,\n",
       "              colsample_bynode=None, colsample_bytree=None, device=None,\n",
       "              early_stopping_rounds=None, enable_categorical=False,\n",
       "              eval_metric=None, feature_types=None, gamma=None,\n",
       "              grow_policy=None, importance_type=None,\n",
       "              interaction_constraints=None, learning_rate=None, max_bin=None,\n",
       "              max_cat_threshold=None, max_cat_to_onehot=None,\n",
       "              max_delta_step=None, max_depth=None, max_leaves=None,\n",
       "              min_child_weight=None, missing=nan, monotone_constraints=None,\n",
       "              multi_strategy=None, n_estimators=None, n_jobs=None, ...)"
      ]
     },
     "execution_count": 161,
     "metadata": {},
     "output_type": "execute_result"
    }
   ],
   "source": [
    "xgboost_obj = XGBClassifier(**params)\n",
    "xgboost_obj.fit(X_train, y_train)"
   ]
  },
  {
   "cell_type": "markdown",
   "metadata": {},
   "source": [
    "# Performance matrix"
   ]
  },
  {
   "cell_type": "code",
   "execution_count": 163,
   "metadata": {},
   "outputs": [
    {
     "name": "stdout",
     "output_type": "stream",
     "text": [
      "Confusion matrix is as follows : \n",
      "\n",
      " [[15863  3315]\n",
      " [  258 18920]]\n",
      "\n",
      "Accuracy score is : 0.9068463864845135\n",
      "\n",
      "Roc_Auc_Score is : 0.9068463864845134\n",
      "\n",
      "Classification report is as follows :\n",
      "\n",
      "               precision    recall  f1-score   support\n",
      "\n",
      "         0.0       0.98      0.83      0.90     19178\n",
      "         1.0       0.85      0.99      0.91     19178\n",
      "\n",
      "    accuracy                           0.91     38356\n",
      "   macro avg       0.92      0.91      0.91     38356\n",
      "weighted avg       0.92      0.91      0.91     38356\n",
      "\n"
     ]
    }
   ],
   "source": [
    "y_pred = xgboost_obj.predict(X_test)\n",
    "print(\"Confusion matrix is as follows : \\n\\n\", confusion_matrix(y_test, y_pred))\n",
    "print(\"\\nAccuracy score is :\", accuracy_score(y_test, y_pred))\n",
    "print(\"\\nRoc_Auc_Score is :\", roc_auc_score(y_test, y_pred))\n",
    "print(\"\\nClassification report is as follows :\\n\\n\", classification_report(y_test, y_pred))"
   ]
  },
  {
   "cell_type": "code",
   "execution_count": null,
   "metadata": {},
   "outputs": [],
   "source": []
  }
 ],
 "metadata": {
  "kernelspec": {
   "display_name": "Python 3",
   "language": "python",
   "name": "python3"
  },
  "language_info": {
   "codemirror_mode": {
    "name": "ipython",
    "version": 3
   },
   "file_extension": ".py",
   "mimetype": "text/x-python",
   "name": "python",
   "nbconvert_exporter": "python",
   "pygments_lexer": "ipython3",
   "version": "3.8.0"
  }
 },
 "nbformat": 4,
 "nbformat_minor": 2
}
